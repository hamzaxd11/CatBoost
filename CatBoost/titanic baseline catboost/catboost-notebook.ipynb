{
 "cells": [
  {
   "cell_type": "code",
   "execution_count": 1,
   "metadata": {},
   "outputs": [],
   "source": [
    "import pandas as pd\n",
    "import numpy as np\n",
    "from sklearn.metrics import confusion_matrix, classification_report, accuracy_score,roc_curve,roc_auc_score,auc, f1_score,recall_score, precision_score\n",
    "from sklearn.model_selection import train_test_split, cross_val_score, GridSearchCV\n",
    "\n",
    "from catboost import Pool, CatBoostClassifier, cv\n",
    "\n",
    "train = pd.read_csv('train.csv')\n",
    "test = pd.read_csv('test.csv')"
   ]
  },
  {
   "cell_type": "code",
   "execution_count": 2,
   "metadata": {},
   "outputs": [],
   "source": [
    "def report(true, pred):\n",
    "    print(classification_report(true, pred))\n",
    "    print(confusion_matrix(true, pred))\n",
    "    print(\"Accuracy  \",accuracy_score(true, pred))\n",
    "    print(\"Precision \",precision_score(true, pred))\n",
    "    print(\"Recall    \",recall_score(true, pred))\n",
    "    print(\"F1 score  \",f1_score(true, pred))\n",
    "    print(\"AUC ROC   \", roc_auc_score(true, pred))"
   ]
  },
  {
   "cell_type": "code",
   "execution_count": 3,
   "metadata": {
    "scrolled": true
   },
   "outputs": [
    {
     "data": {
      "text/html": [
       "<div>\n",
       "<style scoped>\n",
       "    .dataframe tbody tr th:only-of-type {\n",
       "        vertical-align: middle;\n",
       "    }\n",
       "\n",
       "    .dataframe tbody tr th {\n",
       "        vertical-align: top;\n",
       "    }\n",
       "\n",
       "    .dataframe thead th {\n",
       "        text-align: right;\n",
       "    }\n",
       "</style>\n",
       "<table border=\"1\" class=\"dataframe\">\n",
       "  <thead>\n",
       "    <tr style=\"text-align: right;\">\n",
       "      <th></th>\n",
       "      <th>PassengerId</th>\n",
       "      <th>Survived</th>\n",
       "      <th>Pclass</th>\n",
       "      <th>Name</th>\n",
       "      <th>Sex</th>\n",
       "      <th>Age</th>\n",
       "      <th>SibSp</th>\n",
       "      <th>Parch</th>\n",
       "      <th>Ticket</th>\n",
       "      <th>Fare</th>\n",
       "      <th>Cabin</th>\n",
       "      <th>Embarked</th>\n",
       "    </tr>\n",
       "  </thead>\n",
       "  <tbody>\n",
       "    <tr>\n",
       "      <th>0</th>\n",
       "      <td>1</td>\n",
       "      <td>0</td>\n",
       "      <td>3</td>\n",
       "      <td>Braund, Mr. Owen Harris</td>\n",
       "      <td>male</td>\n",
       "      <td>22.0</td>\n",
       "      <td>1</td>\n",
       "      <td>0</td>\n",
       "      <td>A/5 21171</td>\n",
       "      <td>7.2500</td>\n",
       "      <td>NaN</td>\n",
       "      <td>S</td>\n",
       "    </tr>\n",
       "    <tr>\n",
       "      <th>1</th>\n",
       "      <td>2</td>\n",
       "      <td>1</td>\n",
       "      <td>1</td>\n",
       "      <td>Cumings, Mrs. John Bradley (Florence Briggs Th...</td>\n",
       "      <td>female</td>\n",
       "      <td>38.0</td>\n",
       "      <td>1</td>\n",
       "      <td>0</td>\n",
       "      <td>PC 17599</td>\n",
       "      <td>71.2833</td>\n",
       "      <td>C85</td>\n",
       "      <td>C</td>\n",
       "    </tr>\n",
       "    <tr>\n",
       "      <th>2</th>\n",
       "      <td>3</td>\n",
       "      <td>1</td>\n",
       "      <td>3</td>\n",
       "      <td>Heikkinen, Miss. Laina</td>\n",
       "      <td>female</td>\n",
       "      <td>26.0</td>\n",
       "      <td>0</td>\n",
       "      <td>0</td>\n",
       "      <td>STON/O2. 3101282</td>\n",
       "      <td>7.9250</td>\n",
       "      <td>NaN</td>\n",
       "      <td>S</td>\n",
       "    </tr>\n",
       "    <tr>\n",
       "      <th>3</th>\n",
       "      <td>4</td>\n",
       "      <td>1</td>\n",
       "      <td>1</td>\n",
       "      <td>Futrelle, Mrs. Jacques Heath (Lily May Peel)</td>\n",
       "      <td>female</td>\n",
       "      <td>35.0</td>\n",
       "      <td>1</td>\n",
       "      <td>0</td>\n",
       "      <td>113803</td>\n",
       "      <td>53.1000</td>\n",
       "      <td>C123</td>\n",
       "      <td>S</td>\n",
       "    </tr>\n",
       "    <tr>\n",
       "      <th>4</th>\n",
       "      <td>5</td>\n",
       "      <td>0</td>\n",
       "      <td>3</td>\n",
       "      <td>Allen, Mr. William Henry</td>\n",
       "      <td>male</td>\n",
       "      <td>35.0</td>\n",
       "      <td>0</td>\n",
       "      <td>0</td>\n",
       "      <td>373450</td>\n",
       "      <td>8.0500</td>\n",
       "      <td>NaN</td>\n",
       "      <td>S</td>\n",
       "    </tr>\n",
       "    <tr>\n",
       "      <th>...</th>\n",
       "      <td>...</td>\n",
       "      <td>...</td>\n",
       "      <td>...</td>\n",
       "      <td>...</td>\n",
       "      <td>...</td>\n",
       "      <td>...</td>\n",
       "      <td>...</td>\n",
       "      <td>...</td>\n",
       "      <td>...</td>\n",
       "      <td>...</td>\n",
       "      <td>...</td>\n",
       "      <td>...</td>\n",
       "    </tr>\n",
       "    <tr>\n",
       "      <th>886</th>\n",
       "      <td>887</td>\n",
       "      <td>0</td>\n",
       "      <td>2</td>\n",
       "      <td>Montvila, Rev. Juozas</td>\n",
       "      <td>male</td>\n",
       "      <td>27.0</td>\n",
       "      <td>0</td>\n",
       "      <td>0</td>\n",
       "      <td>211536</td>\n",
       "      <td>13.0000</td>\n",
       "      <td>NaN</td>\n",
       "      <td>S</td>\n",
       "    </tr>\n",
       "    <tr>\n",
       "      <th>887</th>\n",
       "      <td>888</td>\n",
       "      <td>1</td>\n",
       "      <td>1</td>\n",
       "      <td>Graham, Miss. Margaret Edith</td>\n",
       "      <td>female</td>\n",
       "      <td>19.0</td>\n",
       "      <td>0</td>\n",
       "      <td>0</td>\n",
       "      <td>112053</td>\n",
       "      <td>30.0000</td>\n",
       "      <td>B42</td>\n",
       "      <td>S</td>\n",
       "    </tr>\n",
       "    <tr>\n",
       "      <th>888</th>\n",
       "      <td>889</td>\n",
       "      <td>0</td>\n",
       "      <td>3</td>\n",
       "      <td>Johnston, Miss. Catherine Helen \"Carrie\"</td>\n",
       "      <td>female</td>\n",
       "      <td>NaN</td>\n",
       "      <td>1</td>\n",
       "      <td>2</td>\n",
       "      <td>W./C. 6607</td>\n",
       "      <td>23.4500</td>\n",
       "      <td>NaN</td>\n",
       "      <td>S</td>\n",
       "    </tr>\n",
       "    <tr>\n",
       "      <th>889</th>\n",
       "      <td>890</td>\n",
       "      <td>1</td>\n",
       "      <td>1</td>\n",
       "      <td>Behr, Mr. Karl Howell</td>\n",
       "      <td>male</td>\n",
       "      <td>26.0</td>\n",
       "      <td>0</td>\n",
       "      <td>0</td>\n",
       "      <td>111369</td>\n",
       "      <td>30.0000</td>\n",
       "      <td>C148</td>\n",
       "      <td>C</td>\n",
       "    </tr>\n",
       "    <tr>\n",
       "      <th>890</th>\n",
       "      <td>891</td>\n",
       "      <td>0</td>\n",
       "      <td>3</td>\n",
       "      <td>Dooley, Mr. Patrick</td>\n",
       "      <td>male</td>\n",
       "      <td>32.0</td>\n",
       "      <td>0</td>\n",
       "      <td>0</td>\n",
       "      <td>370376</td>\n",
       "      <td>7.7500</td>\n",
       "      <td>NaN</td>\n",
       "      <td>Q</td>\n",
       "    </tr>\n",
       "  </tbody>\n",
       "</table>\n",
       "<p>891 rows × 12 columns</p>\n",
       "</div>"
      ],
      "text/plain": [
       "     PassengerId  Survived  Pclass  \\\n",
       "0              1         0       3   \n",
       "1              2         1       1   \n",
       "2              3         1       3   \n",
       "3              4         1       1   \n",
       "4              5         0       3   \n",
       "..           ...       ...     ...   \n",
       "886          887         0       2   \n",
       "887          888         1       1   \n",
       "888          889         0       3   \n",
       "889          890         1       1   \n",
       "890          891         0       3   \n",
       "\n",
       "                                                  Name     Sex   Age  SibSp  \\\n",
       "0                              Braund, Mr. Owen Harris    male  22.0      1   \n",
       "1    Cumings, Mrs. John Bradley (Florence Briggs Th...  female  38.0      1   \n",
       "2                               Heikkinen, Miss. Laina  female  26.0      0   \n",
       "3         Futrelle, Mrs. Jacques Heath (Lily May Peel)  female  35.0      1   \n",
       "4                             Allen, Mr. William Henry    male  35.0      0   \n",
       "..                                                 ...     ...   ...    ...   \n",
       "886                              Montvila, Rev. Juozas    male  27.0      0   \n",
       "887                       Graham, Miss. Margaret Edith  female  19.0      0   \n",
       "888           Johnston, Miss. Catherine Helen \"Carrie\"  female   NaN      1   \n",
       "889                              Behr, Mr. Karl Howell    male  26.0      0   \n",
       "890                                Dooley, Mr. Patrick    male  32.0      0   \n",
       "\n",
       "     Parch            Ticket     Fare Cabin Embarked  \n",
       "0        0         A/5 21171   7.2500   NaN        S  \n",
       "1        0          PC 17599  71.2833   C85        C  \n",
       "2        0  STON/O2. 3101282   7.9250   NaN        S  \n",
       "3        0            113803  53.1000  C123        S  \n",
       "4        0            373450   8.0500   NaN        S  \n",
       "..     ...               ...      ...   ...      ...  \n",
       "886      0            211536  13.0000   NaN        S  \n",
       "887      0            112053  30.0000   B42        S  \n",
       "888      2        W./C. 6607  23.4500   NaN        S  \n",
       "889      0            111369  30.0000  C148        C  \n",
       "890      0            370376   7.7500   NaN        Q  \n",
       "\n",
       "[891 rows x 12 columns]"
      ]
     },
     "execution_count": 3,
     "metadata": {},
     "output_type": "execute_result"
    }
   ],
   "source": [
    "train"
   ]
  },
  {
   "cell_type": "code",
   "execution_count": 4,
   "metadata": {},
   "outputs": [
    {
     "data": {
      "text/html": [
       "<div>\n",
       "<style scoped>\n",
       "    .dataframe tbody tr th:only-of-type {\n",
       "        vertical-align: middle;\n",
       "    }\n",
       "\n",
       "    .dataframe tbody tr th {\n",
       "        vertical-align: top;\n",
       "    }\n",
       "\n",
       "    .dataframe thead th {\n",
       "        text-align: right;\n",
       "    }\n",
       "</style>\n",
       "<table border=\"1\" class=\"dataframe\">\n",
       "  <thead>\n",
       "    <tr style=\"text-align: right;\">\n",
       "      <th></th>\n",
       "      <th>PassengerId</th>\n",
       "      <th>Pclass</th>\n",
       "      <th>Name</th>\n",
       "      <th>Sex</th>\n",
       "      <th>Age</th>\n",
       "      <th>SibSp</th>\n",
       "      <th>Parch</th>\n",
       "      <th>Ticket</th>\n",
       "      <th>Fare</th>\n",
       "      <th>Cabin</th>\n",
       "      <th>Embarked</th>\n",
       "    </tr>\n",
       "  </thead>\n",
       "  <tbody>\n",
       "    <tr>\n",
       "      <th>0</th>\n",
       "      <td>892</td>\n",
       "      <td>3</td>\n",
       "      <td>Kelly, Mr. James</td>\n",
       "      <td>male</td>\n",
       "      <td>34.5</td>\n",
       "      <td>0</td>\n",
       "      <td>0</td>\n",
       "      <td>330911</td>\n",
       "      <td>7.8292</td>\n",
       "      <td>NaN</td>\n",
       "      <td>Q</td>\n",
       "    </tr>\n",
       "    <tr>\n",
       "      <th>1</th>\n",
       "      <td>893</td>\n",
       "      <td>3</td>\n",
       "      <td>Wilkes, Mrs. James (Ellen Needs)</td>\n",
       "      <td>female</td>\n",
       "      <td>47.0</td>\n",
       "      <td>1</td>\n",
       "      <td>0</td>\n",
       "      <td>363272</td>\n",
       "      <td>7.0000</td>\n",
       "      <td>NaN</td>\n",
       "      <td>S</td>\n",
       "    </tr>\n",
       "    <tr>\n",
       "      <th>2</th>\n",
       "      <td>894</td>\n",
       "      <td>2</td>\n",
       "      <td>Myles, Mr. Thomas Francis</td>\n",
       "      <td>male</td>\n",
       "      <td>62.0</td>\n",
       "      <td>0</td>\n",
       "      <td>0</td>\n",
       "      <td>240276</td>\n",
       "      <td>9.6875</td>\n",
       "      <td>NaN</td>\n",
       "      <td>Q</td>\n",
       "    </tr>\n",
       "    <tr>\n",
       "      <th>3</th>\n",
       "      <td>895</td>\n",
       "      <td>3</td>\n",
       "      <td>Wirz, Mr. Albert</td>\n",
       "      <td>male</td>\n",
       "      <td>27.0</td>\n",
       "      <td>0</td>\n",
       "      <td>0</td>\n",
       "      <td>315154</td>\n",
       "      <td>8.6625</td>\n",
       "      <td>NaN</td>\n",
       "      <td>S</td>\n",
       "    </tr>\n",
       "    <tr>\n",
       "      <th>4</th>\n",
       "      <td>896</td>\n",
       "      <td>3</td>\n",
       "      <td>Hirvonen, Mrs. Alexander (Helga E Lindqvist)</td>\n",
       "      <td>female</td>\n",
       "      <td>22.0</td>\n",
       "      <td>1</td>\n",
       "      <td>1</td>\n",
       "      <td>3101298</td>\n",
       "      <td>12.2875</td>\n",
       "      <td>NaN</td>\n",
       "      <td>S</td>\n",
       "    </tr>\n",
       "    <tr>\n",
       "      <th>...</th>\n",
       "      <td>...</td>\n",
       "      <td>...</td>\n",
       "      <td>...</td>\n",
       "      <td>...</td>\n",
       "      <td>...</td>\n",
       "      <td>...</td>\n",
       "      <td>...</td>\n",
       "      <td>...</td>\n",
       "      <td>...</td>\n",
       "      <td>...</td>\n",
       "      <td>...</td>\n",
       "    </tr>\n",
       "    <tr>\n",
       "      <th>413</th>\n",
       "      <td>1305</td>\n",
       "      <td>3</td>\n",
       "      <td>Spector, Mr. Woolf</td>\n",
       "      <td>male</td>\n",
       "      <td>NaN</td>\n",
       "      <td>0</td>\n",
       "      <td>0</td>\n",
       "      <td>A.5. 3236</td>\n",
       "      <td>8.0500</td>\n",
       "      <td>NaN</td>\n",
       "      <td>S</td>\n",
       "    </tr>\n",
       "    <tr>\n",
       "      <th>414</th>\n",
       "      <td>1306</td>\n",
       "      <td>1</td>\n",
       "      <td>Oliva y Ocana, Dona. Fermina</td>\n",
       "      <td>female</td>\n",
       "      <td>39.0</td>\n",
       "      <td>0</td>\n",
       "      <td>0</td>\n",
       "      <td>PC 17758</td>\n",
       "      <td>108.9000</td>\n",
       "      <td>C105</td>\n",
       "      <td>C</td>\n",
       "    </tr>\n",
       "    <tr>\n",
       "      <th>415</th>\n",
       "      <td>1307</td>\n",
       "      <td>3</td>\n",
       "      <td>Saether, Mr. Simon Sivertsen</td>\n",
       "      <td>male</td>\n",
       "      <td>38.5</td>\n",
       "      <td>0</td>\n",
       "      <td>0</td>\n",
       "      <td>SOTON/O.Q. 3101262</td>\n",
       "      <td>7.2500</td>\n",
       "      <td>NaN</td>\n",
       "      <td>S</td>\n",
       "    </tr>\n",
       "    <tr>\n",
       "      <th>416</th>\n",
       "      <td>1308</td>\n",
       "      <td>3</td>\n",
       "      <td>Ware, Mr. Frederick</td>\n",
       "      <td>male</td>\n",
       "      <td>NaN</td>\n",
       "      <td>0</td>\n",
       "      <td>0</td>\n",
       "      <td>359309</td>\n",
       "      <td>8.0500</td>\n",
       "      <td>NaN</td>\n",
       "      <td>S</td>\n",
       "    </tr>\n",
       "    <tr>\n",
       "      <th>417</th>\n",
       "      <td>1309</td>\n",
       "      <td>3</td>\n",
       "      <td>Peter, Master. Michael J</td>\n",
       "      <td>male</td>\n",
       "      <td>NaN</td>\n",
       "      <td>1</td>\n",
       "      <td>1</td>\n",
       "      <td>2668</td>\n",
       "      <td>22.3583</td>\n",
       "      <td>NaN</td>\n",
       "      <td>C</td>\n",
       "    </tr>\n",
       "  </tbody>\n",
       "</table>\n",
       "<p>418 rows × 11 columns</p>\n",
       "</div>"
      ],
      "text/plain": [
       "     PassengerId  Pclass                                          Name  \\\n",
       "0            892       3                              Kelly, Mr. James   \n",
       "1            893       3              Wilkes, Mrs. James (Ellen Needs)   \n",
       "2            894       2                     Myles, Mr. Thomas Francis   \n",
       "3            895       3                              Wirz, Mr. Albert   \n",
       "4            896       3  Hirvonen, Mrs. Alexander (Helga E Lindqvist)   \n",
       "..           ...     ...                                           ...   \n",
       "413         1305       3                            Spector, Mr. Woolf   \n",
       "414         1306       1                  Oliva y Ocana, Dona. Fermina   \n",
       "415         1307       3                  Saether, Mr. Simon Sivertsen   \n",
       "416         1308       3                           Ware, Mr. Frederick   \n",
       "417         1309       3                      Peter, Master. Michael J   \n",
       "\n",
       "        Sex   Age  SibSp  Parch              Ticket      Fare Cabin Embarked  \n",
       "0      male  34.5      0      0              330911    7.8292   NaN        Q  \n",
       "1    female  47.0      1      0              363272    7.0000   NaN        S  \n",
       "2      male  62.0      0      0              240276    9.6875   NaN        Q  \n",
       "3      male  27.0      0      0              315154    8.6625   NaN        S  \n",
       "4    female  22.0      1      1             3101298   12.2875   NaN        S  \n",
       "..      ...   ...    ...    ...                 ...       ...   ...      ...  \n",
       "413    male   NaN      0      0           A.5. 3236    8.0500   NaN        S  \n",
       "414  female  39.0      0      0            PC 17758  108.9000  C105        C  \n",
       "415    male  38.5      0      0  SOTON/O.Q. 3101262    7.2500   NaN        S  \n",
       "416    male   NaN      0      0              359309    8.0500   NaN        S  \n",
       "417    male   NaN      1      1                2668   22.3583   NaN        C  \n",
       "\n",
       "[418 rows x 11 columns]"
      ]
     },
     "execution_count": 4,
     "metadata": {},
     "output_type": "execute_result"
    }
   ],
   "source": [
    "test"
   ]
  },
  {
   "cell_type": "code",
   "execution_count": 5,
   "metadata": {},
   "outputs": [],
   "source": [
    "test_ids = test['PassengerId']"
   ]
  },
  {
   "cell_type": "code",
   "execution_count": 6,
   "metadata": {},
   "outputs": [],
   "source": [
    "train.drop('PassengerId', axis = 1, inplace = True)\n",
    "test.drop('PassengerId', axis = 1, inplace = True)"
   ]
  },
  {
   "cell_type": "code",
   "execution_count": 7,
   "metadata": {},
   "outputs": [],
   "source": [
    "train.fillna(-999,inplace=True)\n",
    "test.fillna(-999,inplace=True)"
   ]
  },
  {
   "cell_type": "code",
   "execution_count": 8,
   "metadata": {},
   "outputs": [
    {
     "data": {
      "text/plain": [
       "Survived    0\n",
       "Pclass      0\n",
       "Name        0\n",
       "Sex         0\n",
       "Age         0\n",
       "SibSp       0\n",
       "Parch       0\n",
       "Ticket      0\n",
       "Fare        0\n",
       "Cabin       0\n",
       "Embarked    0\n",
       "dtype: int64"
      ]
     },
     "execution_count": 8,
     "metadata": {},
     "output_type": "execute_result"
    }
   ],
   "source": [
    "train.isnull().sum()"
   ]
  },
  {
   "cell_type": "code",
   "execution_count": 9,
   "metadata": {},
   "outputs": [
    {
     "data": {
      "text/plain": [
       "Pclass      0\n",
       "Name        0\n",
       "Sex         0\n",
       "Age         0\n",
       "SibSp       0\n",
       "Parch       0\n",
       "Ticket      0\n",
       "Fare        0\n",
       "Cabin       0\n",
       "Embarked    0\n",
       "dtype: int64"
      ]
     },
     "execution_count": 9,
     "metadata": {},
     "output_type": "execute_result"
    }
   ],
   "source": [
    "test.isnull().sum()"
   ]
  },
  {
   "cell_type": "code",
   "execution_count": 10,
   "metadata": {},
   "outputs": [],
   "source": [
    "y = train['Survived']\n",
    "\n",
    "X = train.drop('Survived', axis = 1)"
   ]
  },
  {
   "cell_type": "code",
   "execution_count": 11,
   "metadata": {},
   "outputs": [],
   "source": [
    "#X_train, X_test, y_train, y_test = train_test_split(X, y, test_size=0.2, random_state=1)\n",
    "\n",
    "#X_train, X_val, y_train, y_val = train_test_split(X_train, y_train, test_size=0.25, random_state=1) # 0.25 x 0.8 = 0.2"
   ]
  },
  {
   "cell_type": "code",
   "execution_count": 12,
   "metadata": {},
   "outputs": [],
   "source": [
    "X_train, X_val, y_train, y_val = train_test_split(X, y, test_size=0.15, random_state=1, stratify=y)"
   ]
  },
  {
   "cell_type": "code",
   "execution_count": 13,
   "metadata": {
    "scrolled": true
   },
   "outputs": [
    {
     "data": {
      "text/html": [
       "<div>\n",
       "<style scoped>\n",
       "    .dataframe tbody tr th:only-of-type {\n",
       "        vertical-align: middle;\n",
       "    }\n",
       "\n",
       "    .dataframe tbody tr th {\n",
       "        vertical-align: top;\n",
       "    }\n",
       "\n",
       "    .dataframe thead th {\n",
       "        text-align: right;\n",
       "    }\n",
       "</style>\n",
       "<table border=\"1\" class=\"dataframe\">\n",
       "  <thead>\n",
       "    <tr style=\"text-align: right;\">\n",
       "      <th></th>\n",
       "      <th>Pclass</th>\n",
       "      <th>Name</th>\n",
       "      <th>Sex</th>\n",
       "      <th>Age</th>\n",
       "      <th>SibSp</th>\n",
       "      <th>Parch</th>\n",
       "      <th>Ticket</th>\n",
       "      <th>Fare</th>\n",
       "      <th>Cabin</th>\n",
       "      <th>Embarked</th>\n",
       "    </tr>\n",
       "  </thead>\n",
       "  <tbody>\n",
       "    <tr>\n",
       "      <th>560</th>\n",
       "      <td>3</td>\n",
       "      <td>Morrow, Mr. Thomas Rowan</td>\n",
       "      <td>male</td>\n",
       "      <td>-999.0</td>\n",
       "      <td>0</td>\n",
       "      <td>0</td>\n",
       "      <td>372622</td>\n",
       "      <td>7.7500</td>\n",
       "      <td>-999</td>\n",
       "      <td>Q</td>\n",
       "    </tr>\n",
       "    <tr>\n",
       "      <th>815</th>\n",
       "      <td>1</td>\n",
       "      <td>Fry, Mr. Richard</td>\n",
       "      <td>male</td>\n",
       "      <td>-999.0</td>\n",
       "      <td>0</td>\n",
       "      <td>0</td>\n",
       "      <td>112058</td>\n",
       "      <td>0.0000</td>\n",
       "      <td>B102</td>\n",
       "      <td>S</td>\n",
       "    </tr>\n",
       "    <tr>\n",
       "      <th>21</th>\n",
       "      <td>2</td>\n",
       "      <td>Beesley, Mr. Lawrence</td>\n",
       "      <td>male</td>\n",
       "      <td>34.0</td>\n",
       "      <td>0</td>\n",
       "      <td>0</td>\n",
       "      <td>248698</td>\n",
       "      <td>13.0000</td>\n",
       "      <td>D56</td>\n",
       "      <td>S</td>\n",
       "    </tr>\n",
       "    <tr>\n",
       "      <th>354</th>\n",
       "      <td>3</td>\n",
       "      <td>Yousif, Mr. Wazli</td>\n",
       "      <td>male</td>\n",
       "      <td>-999.0</td>\n",
       "      <td>0</td>\n",
       "      <td>0</td>\n",
       "      <td>2647</td>\n",
       "      <td>7.2250</td>\n",
       "      <td>-999</td>\n",
       "      <td>C</td>\n",
       "    </tr>\n",
       "    <tr>\n",
       "      <th>665</th>\n",
       "      <td>2</td>\n",
       "      <td>Hickman, Mr. Lewis</td>\n",
       "      <td>male</td>\n",
       "      <td>32.0</td>\n",
       "      <td>2</td>\n",
       "      <td>0</td>\n",
       "      <td>S.O.C. 14879</td>\n",
       "      <td>73.5000</td>\n",
       "      <td>-999</td>\n",
       "      <td>S</td>\n",
       "    </tr>\n",
       "    <tr>\n",
       "      <th>...</th>\n",
       "      <td>...</td>\n",
       "      <td>...</td>\n",
       "      <td>...</td>\n",
       "      <td>...</td>\n",
       "      <td>...</td>\n",
       "      <td>...</td>\n",
       "      <td>...</td>\n",
       "      <td>...</td>\n",
       "      <td>...</td>\n",
       "      <td>...</td>\n",
       "    </tr>\n",
       "    <tr>\n",
       "      <th>193</th>\n",
       "      <td>2</td>\n",
       "      <td>Navratil, Master. Michel M</td>\n",
       "      <td>male</td>\n",
       "      <td>3.0</td>\n",
       "      <td>1</td>\n",
       "      <td>1</td>\n",
       "      <td>230080</td>\n",
       "      <td>26.0000</td>\n",
       "      <td>F2</td>\n",
       "      <td>S</td>\n",
       "    </tr>\n",
       "    <tr>\n",
       "      <th>265</th>\n",
       "      <td>2</td>\n",
       "      <td>Reeves, Mr. David</td>\n",
       "      <td>male</td>\n",
       "      <td>36.0</td>\n",
       "      <td>0</td>\n",
       "      <td>0</td>\n",
       "      <td>C.A. 17248</td>\n",
       "      <td>10.5000</td>\n",
       "      <td>-999</td>\n",
       "      <td>S</td>\n",
       "    </tr>\n",
       "    <tr>\n",
       "      <th>309</th>\n",
       "      <td>1</td>\n",
       "      <td>Francatelli, Miss. Laura Mabel</td>\n",
       "      <td>female</td>\n",
       "      <td>30.0</td>\n",
       "      <td>0</td>\n",
       "      <td>0</td>\n",
       "      <td>PC 17485</td>\n",
       "      <td>56.9292</td>\n",
       "      <td>E36</td>\n",
       "      <td>C</td>\n",
       "    </tr>\n",
       "    <tr>\n",
       "      <th>413</th>\n",
       "      <td>2</td>\n",
       "      <td>Cunningham, Mr. Alfred Fleming</td>\n",
       "      <td>male</td>\n",
       "      <td>-999.0</td>\n",
       "      <td>0</td>\n",
       "      <td>0</td>\n",
       "      <td>239853</td>\n",
       "      <td>0.0000</td>\n",
       "      <td>-999</td>\n",
       "      <td>S</td>\n",
       "    </tr>\n",
       "    <tr>\n",
       "      <th>464</th>\n",
       "      <td>3</td>\n",
       "      <td>Maisner, Mr. Simon</td>\n",
       "      <td>male</td>\n",
       "      <td>-999.0</td>\n",
       "      <td>0</td>\n",
       "      <td>0</td>\n",
       "      <td>A/S 2816</td>\n",
       "      <td>8.0500</td>\n",
       "      <td>-999</td>\n",
       "      <td>S</td>\n",
       "    </tr>\n",
       "  </tbody>\n",
       "</table>\n",
       "<p>757 rows × 10 columns</p>\n",
       "</div>"
      ],
      "text/plain": [
       "     Pclass                            Name     Sex    Age  SibSp  Parch  \\\n",
       "560       3        Morrow, Mr. Thomas Rowan    male -999.0      0      0   \n",
       "815       1                Fry, Mr. Richard    male -999.0      0      0   \n",
       "21        2           Beesley, Mr. Lawrence    male   34.0      0      0   \n",
       "354       3               Yousif, Mr. Wazli    male -999.0      0      0   \n",
       "665       2              Hickman, Mr. Lewis    male   32.0      2      0   \n",
       "..      ...                             ...     ...    ...    ...    ...   \n",
       "193       2      Navratil, Master. Michel M    male    3.0      1      1   \n",
       "265       2               Reeves, Mr. David    male   36.0      0      0   \n",
       "309       1  Francatelli, Miss. Laura Mabel  female   30.0      0      0   \n",
       "413       2  Cunningham, Mr. Alfred Fleming    male -999.0      0      0   \n",
       "464       3              Maisner, Mr. Simon    male -999.0      0      0   \n",
       "\n",
       "           Ticket     Fare Cabin Embarked  \n",
       "560        372622   7.7500  -999        Q  \n",
       "815        112058   0.0000  B102        S  \n",
       "21         248698  13.0000   D56        S  \n",
       "354          2647   7.2250  -999        C  \n",
       "665  S.O.C. 14879  73.5000  -999        S  \n",
       "..            ...      ...   ...      ...  \n",
       "193        230080  26.0000    F2        S  \n",
       "265    C.A. 17248  10.5000  -999        S  \n",
       "309      PC 17485  56.9292   E36        C  \n",
       "413        239853   0.0000  -999        S  \n",
       "464      A/S 2816   8.0500  -999        S  \n",
       "\n",
       "[757 rows x 10 columns]"
      ]
     },
     "execution_count": 13,
     "metadata": {},
     "output_type": "execute_result"
    }
   ],
   "source": [
    "X_train"
   ]
  },
  {
   "cell_type": "code",
   "execution_count": 14,
   "metadata": {},
   "outputs": [],
   "source": [
    "#train, validate, test = np.split(df.sample(frac=1), [int(.6*len(df)), int(.8*len(df))])"
   ]
  },
  {
   "cell_type": "code",
   "execution_count": 15,
   "metadata": {},
   "outputs": [
    {
     "name": "stdout",
     "output_type": "stream",
     "text": [
      "<class 'pandas.core.frame.DataFrame'>\n",
      "RangeIndex: 891 entries, 0 to 890\n",
      "Data columns (total 11 columns):\n",
      " #   Column    Non-Null Count  Dtype  \n",
      "---  ------    --------------  -----  \n",
      " 0   Survived  891 non-null    int64  \n",
      " 1   Pclass    891 non-null    int64  \n",
      " 2   Name      891 non-null    object \n",
      " 3   Sex       891 non-null    object \n",
      " 4   Age       891 non-null    float64\n",
      " 5   SibSp     891 non-null    int64  \n",
      " 6   Parch     891 non-null    int64  \n",
      " 7   Ticket    891 non-null    object \n",
      " 8   Fare      891 non-null    float64\n",
      " 9   Cabin     891 non-null    object \n",
      " 10  Embarked  891 non-null    object \n",
      "dtypes: float64(2), int64(4), object(5)\n",
      "memory usage: 76.7+ KB\n"
     ]
    }
   ],
   "source": [
    "train.info()"
   ]
  },
  {
   "cell_type": "code",
   "execution_count": 16,
   "metadata": {},
   "outputs": [
    {
     "data": {
      "text/plain": [
       "array([0, 1, 2, 4, 5, 6, 8, 9], dtype=int64)"
      ]
     },
     "execution_count": 16,
     "metadata": {},
     "output_type": "execute_result"
    }
   ],
   "source": [
    "cat_features_index = np.where(X.dtypes != float)[0]\n",
    "cat_features_index"
   ]
  },
  {
   "cell_type": "code",
   "execution_count": 17,
   "metadata": {},
   "outputs": [
    {
     "data": {
      "application/vnd.jupyter.widget-view+json": {
       "model_id": "3060d872b6e9400cb7e9d6caa146bab3",
       "version_major": 2,
       "version_minor": 0
      },
      "text/plain": [
       "MetricVisualizer(layout=Layout(align_self='stretch', height='500px'))"
      ]
     },
     "metadata": {},
     "output_type": "display_data"
    },
    {
     "name": "stdout",
     "output_type": "stream",
     "text": [
      "Training on fold [0/5]\n",
      "0:\tlearn: 0.7963483\ttest: 0.7765363\tbest: 0.7765363 (0)\ttotal: 173ms\tremaining: 34.4s\n",
      "10:\tlearn: 0.8160112\ttest: 0.7988827\tbest: 0.7988827 (4)\ttotal: 329ms\tremaining: 5.65s\n",
      "20:\tlearn: 0.8117978\ttest: 0.7988827\tbest: 0.7988827 (4)\ttotal: 498ms\tremaining: 4.24s\n",
      "30:\tlearn: 0.8244382\ttest: 0.7988827\tbest: 0.7988827 (4)\ttotal: 661ms\tremaining: 3.6s\n",
      "40:\tlearn: 0.8356742\ttest: 0.7988827\tbest: 0.7988827 (4)\ttotal: 851ms\tremaining: 3.3s\n",
      "50:\tlearn: 0.8426966\ttest: 0.7932961\tbest: 0.8044693 (49)\ttotal: 1.05s\tremaining: 3.07s\n",
      "60:\tlearn: 0.8426966\ttest: 0.7821229\tbest: 0.8044693 (49)\ttotal: 1.26s\tremaining: 2.88s\n",
      "70:\tlearn: 0.8441011\ttest: 0.7821229\tbest: 0.8044693 (49)\ttotal: 1.48s\tremaining: 2.68s\n",
      "80:\tlearn: 0.8511236\ttest: 0.7765363\tbest: 0.8044693 (49)\ttotal: 1.66s\tremaining: 2.44s\n",
      "90:\tlearn: 0.8595506\ttest: 0.7821229\tbest: 0.8044693 (49)\ttotal: 1.87s\tremaining: 2.24s\n",
      "100:\tlearn: 0.8637640\ttest: 0.7877095\tbest: 0.8044693 (49)\ttotal: 2.03s\tremaining: 1.99s\n",
      "110:\tlearn: 0.8693820\ttest: 0.7877095\tbest: 0.8044693 (49)\ttotal: 2.22s\tremaining: 1.78s\n",
      "120:\tlearn: 0.8721910\ttest: 0.7877095\tbest: 0.8044693 (49)\ttotal: 2.39s\tremaining: 1.56s\n",
      "130:\tlearn: 0.8735955\ttest: 0.7877095\tbest: 0.8044693 (49)\ttotal: 2.56s\tremaining: 1.35s\n",
      "140:\tlearn: 0.8750000\ttest: 0.7877095\tbest: 0.8044693 (49)\ttotal: 2.71s\tremaining: 1.13s\n",
      "150:\tlearn: 0.8778090\ttest: 0.7988827\tbest: 0.8044693 (49)\ttotal: 2.9s\tremaining: 940ms\n",
      "160:\tlearn: 0.8778090\ttest: 0.7988827\tbest: 0.8044693 (49)\ttotal: 3.05s\tremaining: 739ms\n",
      "170:\tlearn: 0.8792135\ttest: 0.7932961\tbest: 0.8044693 (49)\ttotal: 3.24s\tremaining: 550ms\n",
      "180:\tlearn: 0.8806180\ttest: 0.7932961\tbest: 0.8044693 (49)\ttotal: 3.4s\tremaining: 357ms\n",
      "190:\tlearn: 0.8820225\ttest: 0.7932961\tbest: 0.8044693 (49)\ttotal: 3.57s\tremaining: 168ms\n",
      "199:\tlearn: 0.8848315\ttest: 0.7988827\tbest: 0.8044693 (49)\ttotal: 3.71s\tremaining: 0us\n",
      "\n",
      "bestTest = 0.8044692737\n",
      "bestIteration = 49\n",
      "\n",
      "Training on fold [1/5]\n",
      "0:\tlearn: 0.7851124\ttest: 0.8212291\tbest: 0.8212291 (0)\ttotal: 10.9ms\tremaining: 2.17s\n",
      "10:\tlearn: 0.8047753\ttest: 0.8379888\tbest: 0.8435754 (8)\ttotal: 138ms\tremaining: 2.37s\n",
      "20:\tlearn: 0.8075843\ttest: 0.8435754\tbest: 0.8547486 (13)\ttotal: 289ms\tremaining: 2.46s\n",
      "30:\tlearn: 0.8117978\ttest: 0.8603352\tbest: 0.8603352 (30)\ttotal: 446ms\tremaining: 2.43s\n",
      "40:\tlearn: 0.8132022\ttest: 0.8547486\tbest: 0.8603352 (30)\ttotal: 595ms\tremaining: 2.31s\n",
      "50:\tlearn: 0.8216292\ttest: 0.8715084\tbest: 0.8715084 (47)\ttotal: 771ms\tremaining: 2.25s\n",
      "60:\tlearn: 0.8258427\ttest: 0.8770950\tbest: 0.8770950 (56)\ttotal: 935ms\tremaining: 2.13s\n",
      "70:\tlearn: 0.8314607\ttest: 0.8715084\tbest: 0.8770950 (56)\ttotal: 1.09s\tremaining: 1.98s\n",
      "80:\tlearn: 0.8455056\ttest: 0.8715084\tbest: 0.8770950 (56)\ttotal: 1.25s\tremaining: 1.84s\n",
      "90:\tlearn: 0.8441011\ttest: 0.8659218\tbest: 0.8770950 (56)\ttotal: 1.43s\tremaining: 1.72s\n",
      "100:\tlearn: 0.8497191\ttest: 0.8603352\tbest: 0.8770950 (56)\ttotal: 1.56s\tremaining: 1.53s\n",
      "110:\tlearn: 0.8553371\ttest: 0.8659218\tbest: 0.8770950 (56)\ttotal: 1.74s\tremaining: 1.4s\n",
      "120:\tlearn: 0.8623596\ttest: 0.8603352\tbest: 0.8770950 (56)\ttotal: 1.89s\tremaining: 1.23s\n",
      "130:\tlearn: 0.8679775\ttest: 0.8715084\tbest: 0.8770950 (56)\ttotal: 2.02s\tremaining: 1.06s\n",
      "140:\tlearn: 0.8750000\ttest: 0.8603352\tbest: 0.8770950 (56)\ttotal: 2.18s\tremaining: 911ms\n",
      "150:\tlearn: 0.8792135\ttest: 0.8659218\tbest: 0.8770950 (56)\ttotal: 2.35s\tremaining: 762ms\n",
      "160:\tlearn: 0.8806180\ttest: 0.8659218\tbest: 0.8770950 (56)\ttotal: 2.52s\tremaining: 610ms\n",
      "170:\tlearn: 0.8820225\ttest: 0.8659218\tbest: 0.8770950 (56)\ttotal: 2.67s\tremaining: 453ms\n",
      "180:\tlearn: 0.8806180\ttest: 0.8659218\tbest: 0.8770950 (56)\ttotal: 2.82s\tremaining: 296ms\n",
      "190:\tlearn: 0.8806180\ttest: 0.8715084\tbest: 0.8770950 (56)\ttotal: 2.96s\tremaining: 140ms\n",
      "199:\tlearn: 0.8820225\ttest: 0.8715084\tbest: 0.8770950 (56)\ttotal: 3.12s\tremaining: 0us\n",
      "\n",
      "bestTest = 0.8770949721\n",
      "bestIteration = 56\n",
      "\n",
      "Training on fold [2/5]\n",
      "0:\tlearn: 0.8064516\ttest: 0.8426966\tbest: 0.8426966 (0)\ttotal: 15.6ms\tremaining: 3.11s\n",
      "10:\tlearn: 0.8232819\ttest: 0.8033708\tbest: 0.8426966 (0)\ttotal: 204ms\tremaining: 3.5s\n",
      "20:\tlearn: 0.8218794\ttest: 0.8033708\tbest: 0.8426966 (0)\ttotal: 382ms\tremaining: 3.25s\n",
      "30:\tlearn: 0.8218794\ttest: 0.8089888\tbest: 0.8426966 (0)\ttotal: 507ms\tremaining: 2.77s\n",
      "40:\tlearn: 0.8345021\ttest: 0.7977528\tbest: 0.8426966 (0)\ttotal: 648ms\tremaining: 2.51s\n",
      "50:\tlearn: 0.8373072\ttest: 0.8146067\tbest: 0.8426966 (0)\ttotal: 815ms\tremaining: 2.38s\n",
      "60:\tlearn: 0.8457223\ttest: 0.8033708\tbest: 0.8426966 (0)\ttotal: 967ms\tremaining: 2.2s\n",
      "70:\tlearn: 0.8569425\ttest: 0.7977528\tbest: 0.8426966 (0)\ttotal: 1.08s\tremaining: 1.97s\n",
      "80:\tlearn: 0.8555400\ttest: 0.8033708\tbest: 0.8426966 (0)\ttotal: 1.27s\tremaining: 1.87s\n",
      "90:\tlearn: 0.8583450\ttest: 0.7977528\tbest: 0.8426966 (0)\ttotal: 1.41s\tremaining: 1.69s\n",
      "100:\tlearn: 0.8639551\ttest: 0.8033708\tbest: 0.8426966 (0)\ttotal: 1.6s\tremaining: 1.56s\n",
      "110:\tlearn: 0.8667602\ttest: 0.8146067\tbest: 0.8426966 (0)\ttotal: 1.75s\tremaining: 1.41s\n",
      "120:\tlearn: 0.8653576\ttest: 0.8089888\tbest: 0.8426966 (0)\ttotal: 1.96s\tremaining: 1.28s\n",
      "130:\tlearn: 0.8639551\ttest: 0.8089888\tbest: 0.8426966 (0)\ttotal: 2.12s\tremaining: 1.12s\n",
      "140:\tlearn: 0.8625526\ttest: 0.8089888\tbest: 0.8426966 (0)\ttotal: 2.34s\tremaining: 978ms\n",
      "150:\tlearn: 0.8667602\ttest: 0.8089888\tbest: 0.8426966 (0)\ttotal: 2.48s\tremaining: 803ms\n",
      "160:\tlearn: 0.8695652\ttest: 0.8089888\tbest: 0.8426966 (0)\ttotal: 2.65s\tremaining: 642ms\n",
      "170:\tlearn: 0.8737728\ttest: 0.8089888\tbest: 0.8426966 (0)\ttotal: 2.81s\tremaining: 477ms\n",
      "180:\tlearn: 0.8751753\ttest: 0.8089888\tbest: 0.8426966 (0)\ttotal: 2.92s\tremaining: 307ms\n",
      "190:\tlearn: 0.8779804\ttest: 0.8089888\tbest: 0.8426966 (0)\ttotal: 3.08s\tremaining: 145ms\n",
      "199:\tlearn: 0.8807854\ttest: 0.8089888\tbest: 0.8426966 (0)\ttotal: 3.22s\tremaining: 0us\n",
      "\n",
      "bestTest = 0.8426966292\n",
      "bestIteration = 0\n",
      "\n",
      "Training on fold [3/5]\n",
      "0:\tlearn: 0.7994390\ttest: 0.7808989\tbest: 0.7808989 (0)\ttotal: 48.8ms\tremaining: 9.71s\n",
      "10:\tlearn: 0.8260870\ttest: 0.7471910\tbest: 0.7808989 (0)\ttotal: 238ms\tremaining: 4.08s\n",
      "20:\tlearn: 0.8260870\ttest: 0.7528090\tbest: 0.7808989 (0)\ttotal: 444ms\tremaining: 3.78s\n",
      "30:\tlearn: 0.8316971\ttest: 0.7528090\tbest: 0.7808989 (0)\ttotal: 630ms\tremaining: 3.43s\n",
      "40:\tlearn: 0.8359046\ttest: 0.7584270\tbest: 0.7808989 (0)\ttotal: 819ms\tremaining: 3.18s\n",
      "50:\tlearn: 0.8401122\ttest: 0.7752809\tbest: 0.7808989 (0)\ttotal: 981ms\tremaining: 2.87s\n",
      "60:\tlearn: 0.8471248\ttest: 0.7808989\tbest: 0.7808989 (0)\ttotal: 1.17s\tremaining: 2.67s\n",
      "70:\tlearn: 0.8569425\ttest: 0.7752809\tbest: 0.7808989 (0)\ttotal: 1.32s\tremaining: 2.39s\n",
      "80:\tlearn: 0.8653576\ttest: 0.7752809\tbest: 0.7808989 (0)\ttotal: 1.46s\tremaining: 2.15s\n",
      "90:\tlearn: 0.8709677\ttest: 0.7752809\tbest: 0.7808989 (0)\ttotal: 1.57s\tremaining: 1.89s\n",
      "100:\tlearn: 0.8751753\ttest: 0.7752809\tbest: 0.7808989 (0)\ttotal: 1.74s\tremaining: 1.71s\n",
      "110:\tlearn: 0.8835905\ttest: 0.7808989\tbest: 0.7808989 (0)\ttotal: 1.9s\tremaining: 1.52s\n",
      "120:\tlearn: 0.8863955\ttest: 0.7808989\tbest: 0.7808989 (0)\ttotal: 2.05s\tremaining: 1.34s\n",
      "130:\tlearn: 0.8877980\ttest: 0.7808989\tbest: 0.7808989 (0)\ttotal: 2.25s\tremaining: 1.19s\n",
      "140:\tlearn: 0.8892006\ttest: 0.7808989\tbest: 0.7808989 (0)\ttotal: 2.39s\tremaining: 1s\n",
      "150:\tlearn: 0.8892006\ttest: 0.7808989\tbest: 0.7808989 (0)\ttotal: 2.53s\tremaining: 821ms\n",
      "160:\tlearn: 0.8906031\ttest: 0.7808989\tbest: 0.7808989 (0)\ttotal: 2.65s\tremaining: 642ms\n",
      "170:\tlearn: 0.8976157\ttest: 0.7865169\tbest: 0.7921348 (164)\ttotal: 2.82s\tremaining: 479ms\n",
      "180:\tlearn: 0.9004208\ttest: 0.7865169\tbest: 0.7921348 (164)\ttotal: 2.97s\tremaining: 312ms\n",
      "190:\tlearn: 0.8990182\ttest: 0.7808989\tbest: 0.7921348 (164)\ttotal: 3.19s\tremaining: 150ms\n",
      "199:\tlearn: 0.8976157\ttest: 0.7921348\tbest: 0.7921348 (164)\ttotal: 3.32s\tremaining: 0us\n",
      "\n",
      "bestTest = 0.7921348315\n",
      "bestIteration = 164\n",
      "\n",
      "Training on fold [4/5]\n",
      "0:\tlearn: 0.8095238\ttest: 0.7853107\tbest: 0.7853107 (0)\ttotal: 12.4ms\tremaining: 2.46s\n",
      "10:\tlearn: 0.8207283\ttest: 0.7909605\tbest: 0.7909605 (10)\ttotal: 172ms\tremaining: 2.95s\n",
      "20:\tlearn: 0.8207283\ttest: 0.7909605\tbest: 0.8022599 (16)\ttotal: 344ms\tremaining: 2.93s\n",
      "30:\tlearn: 0.8165266\ttest: 0.7909605\tbest: 0.8022599 (16)\ttotal: 490ms\tremaining: 2.67s\n",
      "40:\tlearn: 0.8235294\ttest: 0.7909605\tbest: 0.8022599 (16)\ttotal: 699ms\tremaining: 2.71s\n",
      "50:\tlearn: 0.8305322\ttest: 0.7853107\tbest: 0.8022599 (16)\ttotal: 918ms\tremaining: 2.68s\n",
      "60:\tlearn: 0.8445378\ttest: 0.7853107\tbest: 0.8022599 (16)\ttotal: 1.09s\tremaining: 2.49s\n"
     ]
    },
    {
     "name": "stdout",
     "output_type": "stream",
     "text": [
      "70:\tlearn: 0.8459384\ttest: 0.8192090\tbest: 0.8192090 (70)\ttotal: 1.28s\tremaining: 2.32s\n",
      "80:\tlearn: 0.8473389\ttest: 0.8305085\tbest: 0.8305085 (74)\ttotal: 1.45s\tremaining: 2.13s\n",
      "90:\tlearn: 0.8585434\ttest: 0.8305085\tbest: 0.8418079 (88)\ttotal: 1.62s\tremaining: 1.94s\n",
      "100:\tlearn: 0.8613445\ttest: 0.8418079\tbest: 0.8418079 (88)\ttotal: 1.78s\tremaining: 1.74s\n",
      "110:\tlearn: 0.8683473\ttest: 0.8418079\tbest: 0.8418079 (88)\ttotal: 2s\tremaining: 1.6s\n",
      "120:\tlearn: 0.8669468\ttest: 0.8531073\tbest: 0.8531073 (111)\ttotal: 2.14s\tremaining: 1.4s\n",
      "130:\tlearn: 0.8669468\ttest: 0.8531073\tbest: 0.8587571 (126)\ttotal: 2.29s\tremaining: 1.2s\n",
      "140:\tlearn: 0.8683473\ttest: 0.8531073\tbest: 0.8587571 (126)\ttotal: 2.42s\tremaining: 1.01s\n",
      "150:\tlearn: 0.8725490\ttest: 0.8531073\tbest: 0.8587571 (126)\ttotal: 2.55s\tremaining: 828ms\n",
      "160:\tlearn: 0.8753501\ttest: 0.8474576\tbest: 0.8587571 (126)\ttotal: 2.71s\tremaining: 655ms\n",
      "170:\tlearn: 0.8767507\ttest: 0.8474576\tbest: 0.8587571 (126)\ttotal: 2.82s\tremaining: 478ms\n",
      "180:\tlearn: 0.8809524\ttest: 0.8587571\tbest: 0.8587571 (126)\ttotal: 3.04s\tremaining: 319ms\n",
      "190:\tlearn: 0.8809524\ttest: 0.8587571\tbest: 0.8587571 (126)\ttotal: 3.23s\tremaining: 152ms\n",
      "199:\tlearn: 0.8823529\ttest: 0.8587571\tbest: 0.8587571 (126)\ttotal: 3.34s\tremaining: 0us\n",
      "\n",
      "bestTest = 0.8587570621\n",
      "bestIteration = 126\n",
      "\n"
     ]
    }
   ],
   "source": [
    "params = {\n",
    "    'verbose': 10,\n",
    "    'random_seed':1, \n",
    "    'thread_count': 4,\n",
    "    'eval_metric' : 'Accuracy',\n",
    "    'loss_function': 'Logloss',\n",
    "    'iterations' : 200\n",
    "}\n",
    "\n",
    "scores = cv(Pool(X,y,cat_features=cat_features_index,thread_count=-1),\n",
    "            params,fold_count=5,stratified=True,plot=True)"
   ]
  },
  {
   "cell_type": "code",
   "execution_count": 18,
   "metadata": {},
   "outputs": [
    {
     "data": {
      "text/html": [
       "<div>\n",
       "<style scoped>\n",
       "    .dataframe tbody tr th:only-of-type {\n",
       "        vertical-align: middle;\n",
       "    }\n",
       "\n",
       "    .dataframe tbody tr th {\n",
       "        vertical-align: top;\n",
       "    }\n",
       "\n",
       "    .dataframe thead th {\n",
       "        text-align: right;\n",
       "    }\n",
       "</style>\n",
       "<table border=\"1\" class=\"dataframe\">\n",
       "  <thead>\n",
       "    <tr style=\"text-align: right;\">\n",
       "      <th></th>\n",
       "      <th>iterations</th>\n",
       "      <th>test-Accuracy-mean</th>\n",
       "      <th>test-Accuracy-std</th>\n",
       "      <th>train-Accuracy-mean</th>\n",
       "      <th>train-Accuracy-std</th>\n",
       "      <th>test-Logloss-mean</th>\n",
       "      <th>test-Logloss-std</th>\n",
       "      <th>train-Logloss-mean</th>\n",
       "      <th>train-Logloss-std</th>\n",
       "    </tr>\n",
       "  </thead>\n",
       "  <tbody>\n",
       "    <tr>\n",
       "      <th>0</th>\n",
       "      <td>0</td>\n",
       "      <td>0.801334</td>\n",
       "      <td>0.029137</td>\n",
       "      <td>0.799375</td>\n",
       "      <td>0.009561</td>\n",
       "      <td>0.676965</td>\n",
       "      <td>0.001688</td>\n",
       "      <td>0.676446</td>\n",
       "      <td>0.001367</td>\n",
       "    </tr>\n",
       "    <tr>\n",
       "      <th>1</th>\n",
       "      <td>1</td>\n",
       "      <td>0.793457</td>\n",
       "      <td>0.020402</td>\n",
       "      <td>0.810881</td>\n",
       "      <td>0.011744</td>\n",
       "      <td>0.660812</td>\n",
       "      <td>0.002861</td>\n",
       "      <td>0.659451</td>\n",
       "      <td>0.001446</td>\n",
       "    </tr>\n",
       "    <tr>\n",
       "      <th>2</th>\n",
       "      <td>2</td>\n",
       "      <td>0.797926</td>\n",
       "      <td>0.027640</td>\n",
       "      <td>0.813970</td>\n",
       "      <td>0.007868</td>\n",
       "      <td>0.645819</td>\n",
       "      <td>0.004247</td>\n",
       "      <td>0.644276</td>\n",
       "      <td>0.001731</td>\n",
       "    </tr>\n",
       "    <tr>\n",
       "      <th>3</th>\n",
       "      <td>3</td>\n",
       "      <td>0.796809</td>\n",
       "      <td>0.025658</td>\n",
       "      <td>0.815373</td>\n",
       "      <td>0.008765</td>\n",
       "      <td>0.632433</td>\n",
       "      <td>0.004465</td>\n",
       "      <td>0.629496</td>\n",
       "      <td>0.003107</td>\n",
       "    </tr>\n",
       "    <tr>\n",
       "      <th>4</th>\n",
       "      <td>4</td>\n",
       "      <td>0.795679</td>\n",
       "      <td>0.029501</td>\n",
       "      <td>0.817056</td>\n",
       "      <td>0.007035</td>\n",
       "      <td>0.619859</td>\n",
       "      <td>0.005288</td>\n",
       "      <td>0.616407</td>\n",
       "      <td>0.003622</td>\n",
       "    </tr>\n",
       "    <tr>\n",
       "      <th>...</th>\n",
       "      <td>...</td>\n",
       "      <td>...</td>\n",
       "      <td>...</td>\n",
       "      <td>...</td>\n",
       "      <td>...</td>\n",
       "      <td>...</td>\n",
       "      <td>...</td>\n",
       "      <td>...</td>\n",
       "      <td>...</td>\n",
       "    </tr>\n",
       "    <tr>\n",
       "      <th>195</th>\n",
       "      <td>195</td>\n",
       "      <td>0.827178</td>\n",
       "      <td>0.035879</td>\n",
       "      <td>0.884399</td>\n",
       "      <td>0.007605</td>\n",
       "      <td>0.410119</td>\n",
       "      <td>0.052944</td>\n",
       "      <td>0.322240</td>\n",
       "      <td>0.017509</td>\n",
       "    </tr>\n",
       "    <tr>\n",
       "      <th>196</th>\n",
       "      <td>196</td>\n",
       "      <td>0.826054</td>\n",
       "      <td>0.036454</td>\n",
       "      <td>0.884399</td>\n",
       "      <td>0.006712</td>\n",
       "      <td>0.410147</td>\n",
       "      <td>0.053033</td>\n",
       "      <td>0.321828</td>\n",
       "      <td>0.017509</td>\n",
       "    </tr>\n",
       "    <tr>\n",
       "      <th>197</th>\n",
       "      <td>197</td>\n",
       "      <td>0.826054</td>\n",
       "      <td>0.036454</td>\n",
       "      <td>0.884399</td>\n",
       "      <td>0.006007</td>\n",
       "      <td>0.410143</td>\n",
       "      <td>0.053100</td>\n",
       "      <td>0.321643</td>\n",
       "      <td>0.017400</td>\n",
       "    </tr>\n",
       "    <tr>\n",
       "      <th>198</th>\n",
       "      <td>198</td>\n",
       "      <td>0.826054</td>\n",
       "      <td>0.036454</td>\n",
       "      <td>0.884960</td>\n",
       "      <td>0.006361</td>\n",
       "      <td>0.410162</td>\n",
       "      <td>0.053111</td>\n",
       "      <td>0.321085</td>\n",
       "      <td>0.017490</td>\n",
       "    </tr>\n",
       "    <tr>\n",
       "      <th>199</th>\n",
       "      <td>199</td>\n",
       "      <td>0.826054</td>\n",
       "      <td>0.036454</td>\n",
       "      <td>0.885522</td>\n",
       "      <td>0.006918</td>\n",
       "      <td>0.410177</td>\n",
       "      <td>0.053046</td>\n",
       "      <td>0.320706</td>\n",
       "      <td>0.017498</td>\n",
       "    </tr>\n",
       "  </tbody>\n",
       "</table>\n",
       "<p>200 rows × 9 columns</p>\n",
       "</div>"
      ],
      "text/plain": [
       "     iterations  test-Accuracy-mean  test-Accuracy-std  train-Accuracy-mean  \\\n",
       "0             0            0.801334           0.029137             0.799375   \n",
       "1             1            0.793457           0.020402             0.810881   \n",
       "2             2            0.797926           0.027640             0.813970   \n",
       "3             3            0.796809           0.025658             0.815373   \n",
       "4             4            0.795679           0.029501             0.817056   \n",
       "..          ...                 ...                ...                  ...   \n",
       "195         195            0.827178           0.035879             0.884399   \n",
       "196         196            0.826054           0.036454             0.884399   \n",
       "197         197            0.826054           0.036454             0.884399   \n",
       "198         198            0.826054           0.036454             0.884960   \n",
       "199         199            0.826054           0.036454             0.885522   \n",
       "\n",
       "     train-Accuracy-std  test-Logloss-mean  test-Logloss-std  \\\n",
       "0              0.009561           0.676965          0.001688   \n",
       "1              0.011744           0.660812          0.002861   \n",
       "2              0.007868           0.645819          0.004247   \n",
       "3              0.008765           0.632433          0.004465   \n",
       "4              0.007035           0.619859          0.005288   \n",
       "..                  ...                ...               ...   \n",
       "195            0.007605           0.410119          0.052944   \n",
       "196            0.006712           0.410147          0.053033   \n",
       "197            0.006007           0.410143          0.053100   \n",
       "198            0.006361           0.410162          0.053111   \n",
       "199            0.006918           0.410177          0.053046   \n",
       "\n",
       "     train-Logloss-mean  train-Logloss-std  \n",
       "0              0.676446           0.001367  \n",
       "1              0.659451           0.001446  \n",
       "2              0.644276           0.001731  \n",
       "3              0.629496           0.003107  \n",
       "4              0.616407           0.003622  \n",
       "..                  ...                ...  \n",
       "195            0.322240           0.017509  \n",
       "196            0.321828           0.017509  \n",
       "197            0.321643           0.017400  \n",
       "198            0.321085           0.017490  \n",
       "199            0.320706           0.017498  \n",
       "\n",
       "[200 rows x 9 columns]"
      ]
     },
     "execution_count": 18,
     "metadata": {},
     "output_type": "execute_result"
    }
   ],
   "source": [
    "scores"
   ]
  },
  {
   "cell_type": "code",
   "execution_count": 19,
   "metadata": {
    "colab": {},
    "colab_type": "code",
    "id": "48aXcEzc6NQP"
   },
   "outputs": [],
   "source": [
    "cb = CatBoostClassifier(random_state = 1,#learning_rate=0.01, \n",
    "                              loss_function=\"Logloss\", verbose=200, eval_metric='Accuracy', thread_count=-1)"
   ]
  },
  {
   "cell_type": "code",
   "execution_count": 20,
   "metadata": {
    "colab": {
     "base_uri": "https://localhost:8080/",
     "height": 1000,
     "referenced_widgets": [
      "1ca597be3cd14fd7b9b8d3fa59b05082",
      "b4130936992d4fc3a434cbce5f096a95"
     ]
    },
    "colab_type": "code",
    "id": "kmU3OQJY535k",
    "outputId": "1eba57a8-6e0f-457d-b3d8-a340164837d9",
    "scrolled": false
   },
   "outputs": [
    {
     "data": {
      "application/vnd.jupyter.widget-view+json": {
       "model_id": "e67d4f54ea6c45ed90ea1b217e2dff7a",
       "version_major": 2,
       "version_minor": 0
      },
      "text/plain": [
       "MetricVisualizer(layout=Layout(align_self='stretch', height='500px'))"
      ]
     },
     "metadata": {},
     "output_type": "display_data"
    },
    {
     "name": "stdout",
     "output_type": "stream",
     "text": [
      "Learning rate set to 0.029583\n",
      "0:\tlearn: 0.8084544\ttest: 0.7761194\tbest: 0.7761194 (0)\ttotal: 24.2ms\tremaining: 24.2s\n",
      "200:\tlearn: 0.8877147\ttest: 0.7910448\tbest: 0.7985075 (7)\ttotal: 3.51s\tremaining: 13.9s\n",
      "400:\tlearn: 0.9167768\ttest: 0.7835821\tbest: 0.7985075 (7)\ttotal: 7.32s\tremaining: 10.9s\n",
      "600:\tlearn: 0.9299868\ttest: 0.7910448\tbest: 0.7985075 (7)\ttotal: 11.1s\tremaining: 7.38s\n",
      "800:\tlearn: 0.9458388\ttest: 0.7835821\tbest: 0.7985075 (7)\ttotal: 14.8s\tremaining: 3.69s\n",
      "999:\tlearn: 0.9603699\ttest: 0.7910448\tbest: 0.7985075 (7)\ttotal: 18.8s\tremaining: 0us\n",
      "\n",
      "bestTest = 0.7985074627\n",
      "bestIteration = 7\n",
      "\n",
      "Shrink model to first 8 iterations.\n"
     ]
    },
    {
     "data": {
      "text/plain": [
       "<catboost.core.CatBoostClassifier at 0x2395b487f70>"
      ]
     },
     "execution_count": 20,
     "metadata": {},
     "output_type": "execute_result"
    }
   ],
   "source": [
    "cb.fit(X_train, y_train, plot=True, use_best_model=True,eval_set=(X_val, y_val),\n",
    "       cat_features=cat_features_index)"
   ]
  },
  {
   "cell_type": "code",
   "execution_count": 21,
   "metadata": {},
   "outputs": [],
   "source": [
    "train_pred = cb.predict(X_train)\n",
    "y_pred = cb.predict(test)\n",
    "val_pred = cb.predict(X_val)"
   ]
  },
  {
   "cell_type": "code",
   "execution_count": 22,
   "metadata": {},
   "outputs": [
    {
     "name": "stdout",
     "output_type": "stream",
     "text": [
      "              precision    recall  f1-score   support\n",
      "\n",
      "           0       0.80      0.90      0.85        83\n",
      "           1       0.80      0.63      0.70        51\n",
      "\n",
      "    accuracy                           0.80       134\n",
      "   macro avg       0.80      0.77      0.78       134\n",
      "weighted avg       0.80      0.80      0.79       134\n",
      "\n",
      "[[75  8]\n",
      " [19 32]]\n",
      "Accuracy   0.7985074626865671\n",
      "Precision  0.8\n",
      "Recall     0.6274509803921569\n",
      "F1 score   0.7032967032967032\n",
      "AUC ROC    0.7655327191117411\n"
     ]
    }
   ],
   "source": [
    "report(y_val,val_pred)"
   ]
  },
  {
   "cell_type": "code",
   "execution_count": 23,
   "metadata": {},
   "outputs": [
    {
     "name": "stdout",
     "output_type": "stream",
     "text": [
      "              precision    recall  f1-score   support\n",
      "\n",
      "           0       0.80      0.92      0.86       466\n",
      "           1       0.83      0.64      0.72       291\n",
      "\n",
      "    accuracy                           0.81       757\n",
      "   macro avg       0.82      0.78      0.79       757\n",
      "weighted avg       0.81      0.81      0.81       757\n",
      "\n",
      "[[428  38]\n",
      " [104 187]]\n",
      "Accuracy   0.8124174372523117\n",
      "Precision  0.8311111111111111\n",
      "Recall     0.6426116838487973\n",
      "F1 score   0.7248062015503876\n",
      "AUC ROC    0.7805333097355573\n"
     ]
    }
   ],
   "source": [
    "report(y_train,train_pred)"
   ]
  },
  {
   "cell_type": "code",
   "execution_count": 24,
   "metadata": {},
   "outputs": [
    {
     "data": {
      "text/plain": [
       "array([31.38087314,  0.        , 56.59150509,  0.        ,  3.78813603,\n",
       "        1.2131822 ,  0.        ,  2.53276468,  1.05252002,  3.44101884])"
      ]
     },
     "execution_count": 24,
     "metadata": {},
     "output_type": "execute_result"
    }
   ],
   "source": [
    "cb.get_feature_importance()"
   ]
  },
  {
   "cell_type": "code",
   "execution_count": 25,
   "metadata": {},
   "outputs": [
    {
     "data": {
      "text/html": [
       "<div>\n",
       "<style scoped>\n",
       "    .dataframe tbody tr th:only-of-type {\n",
       "        vertical-align: middle;\n",
       "    }\n",
       "\n",
       "    .dataframe tbody tr th {\n",
       "        vertical-align: top;\n",
       "    }\n",
       "\n",
       "    .dataframe thead th {\n",
       "        text-align: right;\n",
       "    }\n",
       "</style>\n",
       "<table border=\"1\" class=\"dataframe\">\n",
       "  <thead>\n",
       "    <tr style=\"text-align: right;\">\n",
       "      <th></th>\n",
       "      <th>Feature</th>\n",
       "      <th>Feature Importance</th>\n",
       "    </tr>\n",
       "  </thead>\n",
       "  <tbody>\n",
       "    <tr>\n",
       "      <th>2</th>\n",
       "      <td>Sex</td>\n",
       "      <td>56.591505</td>\n",
       "    </tr>\n",
       "    <tr>\n",
       "      <th>0</th>\n",
       "      <td>Pclass</td>\n",
       "      <td>31.380873</td>\n",
       "    </tr>\n",
       "    <tr>\n",
       "      <th>4</th>\n",
       "      <td>SibSp</td>\n",
       "      <td>3.788136</td>\n",
       "    </tr>\n",
       "    <tr>\n",
       "      <th>9</th>\n",
       "      <td>Embarked</td>\n",
       "      <td>3.441019</td>\n",
       "    </tr>\n",
       "    <tr>\n",
       "      <th>7</th>\n",
       "      <td>Fare</td>\n",
       "      <td>2.532765</td>\n",
       "    </tr>\n",
       "    <tr>\n",
       "      <th>5</th>\n",
       "      <td>Parch</td>\n",
       "      <td>1.213182</td>\n",
       "    </tr>\n",
       "    <tr>\n",
       "      <th>8</th>\n",
       "      <td>Cabin</td>\n",
       "      <td>1.052520</td>\n",
       "    </tr>\n",
       "    <tr>\n",
       "      <th>1</th>\n",
       "      <td>Name</td>\n",
       "      <td>0.000000</td>\n",
       "    </tr>\n",
       "    <tr>\n",
       "      <th>3</th>\n",
       "      <td>Age</td>\n",
       "      <td>0.000000</td>\n",
       "    </tr>\n",
       "    <tr>\n",
       "      <th>6</th>\n",
       "      <td>Ticket</td>\n",
       "      <td>0.000000</td>\n",
       "    </tr>\n",
       "  </tbody>\n",
       "</table>\n",
       "</div>"
      ],
      "text/plain": [
       "    Feature  Feature Importance\n",
       "2       Sex           56.591505\n",
       "0    Pclass           31.380873\n",
       "4     SibSp            3.788136\n",
       "9  Embarked            3.441019\n",
       "7      Fare            2.532765\n",
       "5     Parch            1.213182\n",
       "8     Cabin            1.052520\n",
       "1      Name            0.000000\n",
       "3       Age            0.000000\n",
       "6    Ticket            0.000000"
      ]
     },
     "execution_count": 25,
     "metadata": {},
     "output_type": "execute_result"
    }
   ],
   "source": [
    "feat_importance = [col for col in zip(X_train.columns,cb.get_feature_importance() )]\n",
    "feat_importance_df = pd.DataFrame(feat_importance, columns=['Feature','Feature Importance'])\n",
    "feat_importance_df = feat_importance_df.sort_values('Feature Importance', ascending = False)\n",
    "feat_importance_df"
   ]
  },
  {
   "cell_type": "code",
   "execution_count": 26,
   "metadata": {},
   "outputs": [
    {
     "data": {
      "text/html": [
       "<div>\n",
       "<style scoped>\n",
       "    .dataframe tbody tr th:only-of-type {\n",
       "        vertical-align: middle;\n",
       "    }\n",
       "\n",
       "    .dataframe tbody tr th {\n",
       "        vertical-align: top;\n",
       "    }\n",
       "\n",
       "    .dataframe thead th {\n",
       "        text-align: right;\n",
       "    }\n",
       "</style>\n",
       "<table border=\"1\" class=\"dataframe\">\n",
       "  <thead>\n",
       "    <tr style=\"text-align: right;\">\n",
       "      <th></th>\n",
       "      <th>PassengerId</th>\n",
       "      <th>Survived</th>\n",
       "    </tr>\n",
       "  </thead>\n",
       "  <tbody>\n",
       "    <tr>\n",
       "      <th>0</th>\n",
       "      <td>892</td>\n",
       "      <td>0</td>\n",
       "    </tr>\n",
       "    <tr>\n",
       "      <th>1</th>\n",
       "      <td>893</td>\n",
       "      <td>0</td>\n",
       "    </tr>\n",
       "    <tr>\n",
       "      <th>2</th>\n",
       "      <td>894</td>\n",
       "      <td>0</td>\n",
       "    </tr>\n",
       "    <tr>\n",
       "      <th>3</th>\n",
       "      <td>895</td>\n",
       "      <td>0</td>\n",
       "    </tr>\n",
       "    <tr>\n",
       "      <th>4</th>\n",
       "      <td>896</td>\n",
       "      <td>0</td>\n",
       "    </tr>\n",
       "    <tr>\n",
       "      <th>...</th>\n",
       "      <td>...</td>\n",
       "      <td>...</td>\n",
       "    </tr>\n",
       "    <tr>\n",
       "      <th>413</th>\n",
       "      <td>1305</td>\n",
       "      <td>0</td>\n",
       "    </tr>\n",
       "    <tr>\n",
       "      <th>414</th>\n",
       "      <td>1306</td>\n",
       "      <td>1</td>\n",
       "    </tr>\n",
       "    <tr>\n",
       "      <th>415</th>\n",
       "      <td>1307</td>\n",
       "      <td>0</td>\n",
       "    </tr>\n",
       "    <tr>\n",
       "      <th>416</th>\n",
       "      <td>1308</td>\n",
       "      <td>0</td>\n",
       "    </tr>\n",
       "    <tr>\n",
       "      <th>417</th>\n",
       "      <td>1309</td>\n",
       "      <td>0</td>\n",
       "    </tr>\n",
       "  </tbody>\n",
       "</table>\n",
       "<p>418 rows × 2 columns</p>\n",
       "</div>"
      ],
      "text/plain": [
       "     PassengerId  Survived\n",
       "0            892         0\n",
       "1            893         0\n",
       "2            894         0\n",
       "3            895         0\n",
       "4            896         0\n",
       "..           ...       ...\n",
       "413         1305         0\n",
       "414         1306         1\n",
       "415         1307         0\n",
       "416         1308         0\n",
       "417         1309         0\n",
       "\n",
       "[418 rows x 2 columns]"
      ]
     },
     "execution_count": 26,
     "metadata": {},
     "output_type": "execute_result"
    }
   ],
   "source": [
    "cb_baseline = pd.DataFrame(test_ids, columns=['PassengerId'])\n",
    "cb_baseline['Survived'] = y_pred\n",
    "cb_baseline"
   ]
  },
  {
   "cell_type": "code",
   "execution_count": 27,
   "metadata": {},
   "outputs": [],
   "source": [
    "#cb_baseline.to_csv(\"cb_baseline_new.csv\",index=False)"
   ]
  },
  {
   "cell_type": "code",
   "execution_count": null,
   "metadata": {},
   "outputs": [],
   "source": []
  }
 ],
 "metadata": {
  "accelerator": "GPU",
  "colab": {
   "collapsed_sections": [],
   "name": "CatBoost.ipynb",
   "provenance": []
  },
  "kernelspec": {
   "display_name": "Python 3",
   "language": "python",
   "name": "python3"
  },
  "language_info": {
   "codemirror_mode": {
    "name": "ipython",
    "version": 3
   },
   "file_extension": ".py",
   "mimetype": "text/x-python",
   "name": "python",
   "nbconvert_exporter": "python",
   "pygments_lexer": "ipython3",
   "version": "3.8.8"
  },
  "widgets": {
   "application/vnd.jupyter.widget-state+json": {
    "1ca597be3cd14fd7b9b8d3fa59b05082": {
     "model_module": "@jupyter-widgets/base",
     "model_name": "DOMWidgetModel",
     "state": {
      "_dom_classes": [],
      "_model_module": "@jupyter-widgets/base",
      "_model_module_version": "1.2.0",
      "_model_name": "DOMWidgetModel",
      "_view_count": null,
      "_view_module": "catboost_module",
      "_view_module_version": "",
      "_view_name": "CatboostIpythonWidgetView",
      "data": {
       "catboost_info": {
        "content": {
         "data": {
          "iterations": [
           {
            "iteration": 0,
            "learn": [
             0.8571428571,
             0.643387175
            ],
            "passed_time": 0.009083215488,
            "remaining_time": 0.8992383333,
            "test": [
             0.7885304659,
             0.6527852777
            ]
           },
           {
            "iteration": 1,
            "learn": [
             0.8553259141,
             0.6085837705
            ],
            "passed_time": 0.01584797324,
            "remaining_time": 0.7765506886,
            "test": [
             0.8275862069,
             0.6192689341
            ]
           },
           {
            "iteration": 2,
            "learn": [
             0.8562300319,
             0.583708603
            ],
            "passed_time": 0.02364400155,
            "remaining_time": 0.7644893833,
            "test": [
             0.8251748252,
             0.5972166766
            ]
           },
           {
            "iteration": 3,
            "learn": [
             0.8576,
             0.5631626621
            ],
            "passed_time": 0.03145231407,
            "remaining_time": 0.7548555376,
            "test": [
             0.8309859155,
             0.5824761602
            ]
           },
           {
            "iteration": 4,
            "learn": [
             0.8557692308,
             0.5474409117
            ],
            "passed_time": 0.03879072871,
            "remaining_time": 0.7370238456,
            "test": [
             0.8309859155,
             0.5735188376
            ]
           },
           {
            "iteration": 5,
            "learn": [
             0.8539325843,
             0.5358822862
            ],
            "passed_time": 0.04412060876,
            "remaining_time": 0.6912228706,
            "test": [
             0.8339222615,
             0.5646922295
            ]
           },
           {
            "iteration": 6,
            "learn": [
             0.8520900322,
             0.5242538267
            ],
            "passed_time": 0.05175453924,
            "remaining_time": 0.6875960213,
            "test": [
             0.8309859155,
             0.558824962
            ]
           },
           {
            "iteration": 7,
            "learn": [
             0.8502415459,
             0.5186191382
            ],
            "passed_time": 0.05837411174,
            "remaining_time": 0.671302285,
            "test": [
             0.8398576512,
             0.5529298078
            ]
           },
           {
            "iteration": 8,
            "learn": [
             0.8520900322,
             0.5140275422
            ],
            "passed_time": 0.06603964951,
            "remaining_time": 0.6677342339,
            "test": [
             0.8309859155,
             0.5531666197
            ]
           },
           {
            "iteration": 9,
            "learn": [
             0.8520900322,
             0.5106442491
            ],
            "passed_time": 0.07083484533,
            "remaining_time": 0.637513608,
            "test": [
             0.8368794326,
             0.5491005282
            ]
           },
           {
            "iteration": 10,
            "learn": [
             0.8520900322,
             0.5051686828
            ],
            "passed_time": 0.078182905,
            "remaining_time": 0.6325707768,
            "test": [
             0.8309859155,
             0.5489542919
            ]
           },
           {
            "iteration": 11,
            "learn": [
             0.8539325843,
             0.5000729155
            ],
            "passed_time": 0.08639725515,
            "remaining_time": 0.6335798711,
            "test": [
             0.8309859155,
             0.5488109119
            ]
           },
           {
            "iteration": 12,
            "learn": [
             0.8557692308,
             0.4962211293
            ],
            "passed_time": 0.09406626909,
            "remaining_time": 0.6295204162,
            "test": [
             0.8251748252,
             0.5492360533
            ]
           },
           {
            "iteration": 13,
            "learn": [
             0.8557692308,
             0.4941055409
            ],
            "passed_time": 0.137532822,
            "remaining_time": 0.8448444783,
            "test": [
             0.8251748252,
             0.5464304656
            ]
           },
           {
            "iteration": 14,
            "learn": [
             0.8557692308,
             0.4918320185
            ],
            "passed_time": 0.1513945882,
            "remaining_time": 0.8579026663,
            "test": [
             0.8251748252,
             0.5468528635
            ]
           },
           {
            "iteration": 15,
            "learn": [
             0.8576,
             0.4884362882
            ],
            "passed_time": 0.1591059792,
            "remaining_time": 0.8353063909,
            "test": [
             0.8251748252,
             0.5464728595
            ]
           },
           {
            "iteration": 16,
            "learn": [
             0.8576,
             0.4861620975
            ],
            "passed_time": 0.1673090826,
            "remaining_time": 0.8168619915,
            "test": [
             0.8309859155,
             0.545926888
            ]
           },
           {
            "iteration": 17,
            "learn": [
             0.8576,
             0.4842252337
            ],
            "passed_time": 0.1747414056,
            "remaining_time": 0.796044181,
            "test": [
             0.8251748252,
             0.5483816363
            ]
           },
           {
            "iteration": 18,
            "learn": [
             0.8576,
             0.4817596213
            ],
            "passed_time": 0.1821352555,
            "remaining_time": 0.7764713523,
            "test": [
             0.8280701754,
             0.5468905219
            ]
           },
           {
            "iteration": 19,
            "learn": [
             0.8594249201,
             0.4769060641
            ],
            "passed_time": 0.189842086,
            "remaining_time": 0.759368344,
            "test": [
             0.8280701754,
             0.5472555677
            ]
           },
           {
            "iteration": 20,
            "learn": [
             0.8612440191,
             0.4721568309
            ],
            "passed_time": 0.202526298,
            "remaining_time": 0.761884645,
            "test": [
             0.8309859155,
             0.5501227919
            ]
           },
           {
            "iteration": 21,
            "learn": [
             0.8612440191,
             0.4672140228
            ],
            "passed_time": 0.2100559973,
            "remaining_time": 0.7447439904,
            "test": [
             0.8280701754,
             0.5501764608
            ]
           },
           {
            "iteration": 22,
            "learn": [
             0.8612440191,
             0.464732966
            ],
            "passed_time": 0.2175390472,
            "remaining_time": 0.7282828971,
            "test": [
             0.8309859155,
             0.550110427
            ]
           },
           {
            "iteration": 23,
            "learn": [
             0.8580542265,
             0.4600090528
            ],
            "passed_time": 0.2248735835,
            "remaining_time": 0.712099681,
            "test": [
             0.8309859155,
             0.5492843853
            ]
           },
           {
            "iteration": 24,
            "learn": [
             0.8594249201,
             0.4596015949
            ],
            "passed_time": 0.2302051353,
            "remaining_time": 0.6906154059,
            "test": [
             0.8309859155,
             0.5483043652
            ]
           },
           {
            "iteration": 25,
            "learn": [
             0.8612440191,
             0.4578640977
            ],
            "passed_time": 0.2375530484,
            "remaining_time": 0.6761125225,
            "test": [
             0.8309859155,
             0.5478673475
            ]
           },
           {
            "iteration": 26,
            "learn": [
             0.8594249201,
             0.4556180114
            ],
            "passed_time": 0.2454389563,
            "remaining_time": 0.6635942152,
            "test": [
             0.8309859155,
             0.5468218197
            ]
           },
           {
            "iteration": 27,
            "learn": [
             0.8580542265,
             0.4520890359
            ],
            "passed_time": 0.252966879,
            "remaining_time": 0.6504862603,
            "test": [
             0.8280701754,
             0.5456567774
            ]
           },
           {
            "iteration": 28,
            "learn": [
             0.8630573248,
             0.4498143997
            ],
            "passed_time": 0.2604640797,
            "remaining_time": 0.6376879192,
            "test": [
             0.8280701754,
             0.5431110025
            ]
           },
           {
            "iteration": 29,
            "learn": [
             0.8630573248,
             0.4475620762
            ],
            "passed_time": 0.2680729948,
            "remaining_time": 0.6255036544,
            "test": [
             0.8280701754,
             0.5438456042
            ]
           },
           {
            "iteration": 30,
            "learn": [
             0.8598726115,
             0.4447837514
            ],
            "passed_time": 0.2753985156,
            "remaining_time": 0.6129837928,
            "test": [
             0.8280701754,
             0.5460085563
            ]
           },
           {
            "iteration": 31,
            "learn": [
             0.8598726115,
             0.4408894931
            ],
            "passed_time": 0.2831154146,
            "remaining_time": 0.6016202561,
            "test": [
             0.8280701754,
             0.5492174496
            ]
           },
           {
            "iteration": 32,
            "learn": [
             0.8598726115,
             0.4391978466
            ],
            "passed_time": 0.29143779,
            "remaining_time": 0.5917070282,
            "test": [
             0.8251748252,
             0.5480037746
            ]
           },
           {
            "iteration": 33,
            "learn": [
             0.8612440191,
             0.4376400022
            ],
            "passed_time": 0.2993096927,
            "remaining_time": 0.581012933,
            "test": [
             0.8251748252,
             0.5486942911
            ]
           },
           {
            "iteration": 34,
            "learn": [
             0.8612440191,
             0.4359179123
            ],
            "passed_time": 0.3067011882,
            "remaining_time": 0.569587921,
            "test": [
             0.8251748252,
             0.5482443072
            ]
           },
           {
            "iteration": 35,
            "learn": [
             0.8666666667,
             0.4316447831
            ],
            "passed_time": 0.3144522211,
            "remaining_time": 0.5590261709,
            "test": [
             0.8222996516,
             0.5485028798
            ]
           },
           {
            "iteration": 36,
            "learn": [
             0.8648648649,
             0.4278185768
            ],
            "passed_time": 0.3218832593,
            "remaining_time": 0.5480714956,
            "test": [
             0.8222996516,
             0.5509330486
            ]
           },
           {
            "iteration": 37,
            "learn": [
             0.8648648649,
             0.4245084962
            ],
            "passed_time": 0.3293657948,
            "remaining_time": 0.5373862968,
            "test": [
             0.8235294118,
             0.5478620106
            ]
           },
           {
            "iteration": 38,
            "learn": [
             0.8684627575,
             0.4229277451
            ],
            "passed_time": 0.3370815047,
            "remaining_time": 0.5272300458,
            "test": [
             0.8235294118,
             0.5498662112
            ]
           },
           {
            "iteration": 39,
            "learn": [
             0.8666666667,
             0.4212210996
            ],
            "passed_time": 0.3445214744,
            "remaining_time": 0.5167822116,
            "test": [
             0.8194444444,
             0.5501265502
            ]
           },
           {
            "iteration": 40,
            "learn": [
             0.8680445151,
             0.4181279092
            ],
            "passed_time": 0.3521361283,
            "remaining_time": 0.5067324773,
            "test": [
             0.8235294118,
             0.5503331076
            ]
           },
           {
            "iteration": 41,
            "learn": [
             0.8698412698,
             0.4164474376
            ],
            "passed_time": 0.359713784,
            "remaining_time": 0.4967476064,
            "test": [
             0.8235294118,
             0.5510516989
            ]
           },
           {
            "iteration": 42,
            "learn": [
             0.8698412698,
             0.4136482851
            ],
            "passed_time": 0.3671626495,
            "remaining_time": 0.4867039773,
            "test": [
             0.8235294118,
             0.5502871809
            ]
           },
           {
            "iteration": 43,
            "learn": [
             0.873015873,
             0.4108964683
            ],
            "passed_time": 0.3744634428,
            "remaining_time": 0.4765898363,
            "test": [
             0.8166089965,
             0.5521222194
            ]
           },
           {
            "iteration": 44,
            "learn": [
             0.873015873,
             0.4087972154
            ],
            "passed_time": 0.3819161185,
            "remaining_time": 0.4667863671,
            "test": [
             0.8166089965,
             0.5518554537
            ]
           },
           {
            "iteration": 45,
            "learn": [
             0.8761904762,
             0.4064099017
            ],
            "passed_time": 0.3892413294,
            "remaining_time": 0.4569354736,
            "test": [
             0.8235294118,
             0.5528114958
            ]
           },
           {
            "iteration": 46,
            "learn": [
             0.8775834658,
             0.4030367441
            ],
            "passed_time": 0.402267734,
            "remaining_time": 0.4536210617,
            "test": [
             0.8235294118,
             0.5513493204
            ]
           },
           {
            "iteration": 47,
            "learn": [
             0.8775834658,
             0.4018356435
            ],
            "passed_time": 0.4099011936,
            "remaining_time": 0.4440596264,
            "test": [
             0.8137931034,
             0.551525473
            ]
           },
           {
            "iteration": 48,
            "learn": [
             0.8789808917,
             0.4005160367
            ],
            "passed_time": 0.417294023,
            "remaining_time": 0.4343264321,
            "test": [
             0.8194444444,
             0.5528826032
            ]
           },
           {
            "iteration": 49,
            "learn": [
             0.8789808917,
             0.3988542394
            ],
            "passed_time": 0.4248726618,
            "remaining_time": 0.4248726618,
            "test": [
             0.8194444444,
             0.5531408
            ]
           },
           {
            "iteration": 50,
            "learn": [
             0.8803827751,
             0.3965973494
            ],
            "passed_time": 0.4323868459,
            "remaining_time": 0.415430499,
            "test": [
             0.8194444444,
             0.5537181911
            ]
           },
           {
            "iteration": 51,
            "learn": [
             0.8839427663,
             0.3948451133
            ],
            "passed_time": 0.4512518655,
            "remaining_time": 0.4165401835,
            "test": [
             0.8166089965,
             0.5553791441
            ]
           },
           {
            "iteration": 52,
            "learn": [
             0.8835725678,
             0.3917445719
            ],
            "passed_time": 0.4599209249,
            "remaining_time": 0.4078544051,
            "test": [
             0.8166089965,
             0.5556193009
            ]
           },
           {
            "iteration": 53,
            "learn": [
             0.8857142857,
             0.3892844541
            ],
            "passed_time": 0.4673996403,
            "remaining_time": 0.3981552491,
            "test": [
             0.8166089965,
             0.5546596508
            ]
           },
           {
            "iteration": 54,
            "learn": [
             0.8857142857,
             0.3877204839
            ],
            "passed_time": 0.4748460084,
            "remaining_time": 0.3885103705,
            "test": [
             0.8166089965,
             0.555554545
            ]
           },
           {
            "iteration": 55,
            "learn": [
             0.8871224165,
             0.386018702
            ],
            "passed_time": 0.482211755,
            "remaining_time": 0.3788806647,
            "test": [
             0.8166089965,
             0.5556536895
            ]
           },
           {
            "iteration": 56,
            "learn": [
             0.8885350318,
             0.3848901456
            ],
            "passed_time": 0.4904265134,
            "remaining_time": 0.3699708786,
            "test": [
             0.8194444444,
             0.5574700116
            ]
           },
           {
            "iteration": 57,
            "learn": [
             0.8899521531,
             0.3840698836
            ],
            "passed_time": 0.4980852758,
            "remaining_time": 0.3606824411,
            "test": [
             0.8194444444,
             0.5576416542
            ]
           },
           {
            "iteration": 58,
            "learn": [
             0.8885350318,
             0.3816513841
            ],
            "passed_time": 0.5056822054,
            "remaining_time": 0.3514062783,
            "test": [
             0.8137931034,
             0.5577386565
            ]
           },
           {
            "iteration": 59,
            "learn": [
             0.8899521531,
             0.3807543827
            ],
            "passed_time": 0.5131434943,
            "remaining_time": 0.3420956629,
            "test": [
             0.8137931034,
             0.5581030634
            ]
           },
           {
            "iteration": 60,
            "learn": [
             0.8899521531,
             0.3787213625
            ],
            "passed_time": 0.5204658125,
            "remaining_time": 0.3327568309,
            "test": [
             0.8137931034,
             0.5583718586
            ]
           },
           {
            "iteration": 61,
            "learn": [
             0.8931419458,
             0.3775609149
            ],
            "passed_time": 0.5279731286,
            "remaining_time": 0.3235964337,
            "test": [
             0.8166089965,
             0.5585014456
            ]
           },
           {
            "iteration": 62,
            "learn": [
             0.8928,
             0.3761521314
            ],
            "passed_time": 0.5356668579,
            "remaining_time": 0.3145979959,
            "test": [
             0.8166089965,
             0.5592346191
            ]
           },
           {
            "iteration": 63,
            "learn": [
             0.8942307692,
             0.3742220988
            ],
            "passed_time": 0.5434480098,
            "remaining_time": 0.3056895055,
            "test": [
             0.8137931034,
             0.5596657363
            ]
           },
           {
            "iteration": 64,
            "learn": [
             0.896,
             0.3723103693
            ],
            "passed_time": 0.5514982151,
            "remaining_time": 0.2969605774,
            "test": [
             0.8096885813,
             0.559635557
            ]
           },
           {
            "iteration": 65,
            "learn": [
             0.896,
             0.3696010989
            ],
            "passed_time": 0.5592003612,
            "remaining_time": 0.2880729133,
            "test": [
             0.8125,
             0.5610511291
            ]
           },
           {
            "iteration": 66,
            "learn": [
             0.8988764045,
             0.3684210487
            ],
            "passed_time": 0.5664473801,
            "remaining_time": 0.2789964708,
            "test": [
             0.8027681661,
             0.5620715512
            ]
           },
           {
            "iteration": 67,
            "learn": [
             0.8985507246,
             0.3663061657
            ],
            "passed_time": 0.5741049503,
            "remaining_time": 0.2701670354,
            "test": [
             0.8083623693,
             0.5619022012
            ]
           },
           {
            "iteration": 68,
            "learn": [
             0.8953301127,
             0.3653655783
            ],
            "passed_time": 0.5818113291,
            "remaining_time": 0.2613934957,
            "test": [
             0.8083623693,
             0.5618971275
            ]
           },
           {
            "iteration": 69,
            "learn": [
             0.8938906752,
             0.3626699703
            ],
            "passed_time": 0.5892843609,
            "remaining_time": 0.2525504404,
            "test": [
             0.8083623693,
             0.5614275251
            ]
           },
           {
            "iteration": 70,
            "learn": [
             0.8924558587,
             0.3619405927
            ],
            "passed_time": 0.6021595767,
            "remaining_time": 0.2459525031,
            "test": [
             0.8083623693,
             0.5617920072
            ]
           },
           {
            "iteration": 71,
            "learn": [
             0.8924558587,
             0.3602685487
            ],
            "passed_time": 0.6097863835,
            "remaining_time": 0.2371391491,
            "test": [
             0.8083623693,
             0.5626416888
            ]
           },
           {
            "iteration": 72,
            "learn": [
             0.8924558587,
             0.3597002981
            ],
            "passed_time": 0.6325880943,
            "remaining_time": 0.233970939,
            "test": [
             0.8083623693,
             0.5625481065
            ]
           },
           {
            "iteration": 73,
            "learn": [
             0.8956661316,
             0.3585029472
            ],
            "passed_time": 0.6399243997,
            "remaining_time": 0.2248383026,
            "test": [
             0.8083623693,
             0.5638084975
            ]
           },
           {
            "iteration": 74,
            "learn": [
             0.8956661316,
             0.3580608878
            ],
            "passed_time": 0.6472183672,
            "remaining_time": 0.2157394557,
            "test": [
             0.8083623693,
             0.5638233429
            ]
           },
           {
            "iteration": 75,
            "learn": [
             0.8956661316,
             0.3569435435
            ],
            "passed_time": 0.6544999605,
            "remaining_time": 0.206684198,
            "test": [
             0.8083623693,
             0.5628146843
            ]
           },
           {
            "iteration": 76,
            "learn": [
             0.8956661316,
             0.3562111216
            ],
            "passed_time": 0.662285289,
            "remaining_time": 0.1978254759,
            "test": [
             0.8083623693,
             0.5627445916
            ]
           },
           {
            "iteration": 77,
            "learn": [
             0.8985507246,
             0.3542824256
            ],
            "passed_time": 0.6699856071,
            "remaining_time": 0.1889702994,
            "test": [
             0.8055555556,
             0.5618920538
            ]
           },
           {
            "iteration": 78,
            "learn": [
             0.8985507246,
             0.3528677019
            ],
            "passed_time": 0.6779485673,
            "remaining_time": 0.1802141761,
            "test": [
             0.8055555556,
             0.562502706
            ]
           },
           {
            "iteration": 79,
            "learn": [
             0.9003215434,
             0.3520141008
            ],
            "passed_time": 0.6855559245,
            "remaining_time": 0.1713889811,
            "test": [
             0.8083623693,
             0.5628635801
            ]
           },
           {
            "iteration": 80,
            "learn": [
             0.9,
             0.350844483
            ],
            "passed_time": 0.6932382284,
            "remaining_time": 0.1626114363,
            "test": [
             0.8083623693,
             0.5634486006
            ]
           },
           {
            "iteration": 81,
            "learn": [
             0.9038461538,
             0.3483908252
            ],
            "passed_time": 0.7008305518,
            "remaining_time": 0.1538408528,
            "test": [
             0.8083623693,
             0.564670356
            ]
           },
           {
            "iteration": 82,
            "learn": [
             0.9099678457,
             0.3472053546
            ],
            "passed_time": 0.7083339465,
            "remaining_time": 0.1450804469,
            "test": [
             0.8083623693,
             0.5635376352
            ]
           },
           {
            "iteration": 83,
            "learn": [
             0.9143780291,
             0.3457252521
            ],
            "passed_time": 0.7157009557,
            "remaining_time": 0.1363239916,
            "test": [
             0.8055555556,
             0.5635361695
            ]
           },
           {
            "iteration": 84,
            "learn": [
             0.9143780291,
             0.3444635619
            ],
            "passed_time": 0.7229640386,
            "remaining_time": 0.1275818892,
            "test": [
             0.8055555556,
             0.5655418358
            ]
           },
           {
            "iteration": 85,
            "learn": [
             0.9143780291,
             0.3432250383
            ],
            "passed_time": 0.7303222298,
            "remaining_time": 0.1188896653,
            "test": [
             0.8055555556,
             0.5651807362
            ]
           },
           {
            "iteration": 86,
            "learn": [
             0.9143780291,
             0.3425951213
            ],
            "passed_time": 0.73814597,
            "remaining_time": 0.1102976737,
            "test": [
             0.8055555556,
             0.5665423013
            ]
           },
           {
            "iteration": 87,
            "learn": [
             0.9143780291,
             0.3413471305
            ],
            "passed_time": 0.7456233507,
            "remaining_time": 0.1016759115,
            "test": [
             0.8013937282,
             0.5666089739
            ]
           },
           {
            "iteration": 88,
            "learn": [
             0.9158576052,
             0.3404111468
            ],
            "passed_time": 0.7571243702,
            "remaining_time": 0.09357716935,
            "test": [
             0.8013937282,
             0.5671341619
            ]
           },
           {
            "iteration": 89,
            "learn": [
             0.9158576052,
             0.3392596465
            ],
            "passed_time": 0.7772194212,
            "remaining_time": 0.08635771347,
            "test": [
             0.8013937282,
             0.566622128
            ]
           },
           {
            "iteration": 90,
            "learn": [
             0.9158576052,
             0.3387427411
            ],
            "passed_time": 0.7846252749,
            "remaining_time": 0.07760030191,
            "test": [
             0.8055555556,
             0.5661734971
            ]
           },
           {
            "iteration": 91,
            "learn": [
             0.9129032258,
             0.3375667377
            ],
            "passed_time": 0.7924959359,
            "remaining_time": 0.06891269008,
            "test": [
             0.8013937282,
             0.566857399
            ]
           },
           {
            "iteration": 92,
            "learn": [
             0.9129032258,
             0.3359966046
            ],
            "passed_time": 0.8047489593,
            "remaining_time": 0.06057250231,
            "test": [
             0.8055555556,
             0.5674751921
            ]
           },
           {
            "iteration": 93,
            "learn": [
             0.9129032258,
             0.3350145846
            ],
            "passed_time": 0.8122052046,
            "remaining_time": 0.0518428854,
            "test": [
             0.8055555556,
             0.5671877931
            ]
           },
           {
            "iteration": 94,
            "learn": [
             0.9129032258,
             0.3331896928
            ],
            "passed_time": 0.8197550456,
            "remaining_time": 0.0431450024,
            "test": [
             0.8055555556,
             0.565943375
            ]
           },
           {
            "iteration": 95,
            "learn": [
             0.9143780291,
             0.3318649255
            ],
            "passed_time": 0.8272342898,
            "remaining_time": 0.03446809541,
            "test": [
             0.8055555556,
             0.5657128019
            ]
           },
           {
            "iteration": 96,
            "learn": [
             0.9143780291,
             0.3305913178
            ],
            "passed_time": 0.8347285264,
            "remaining_time": 0.02581634618,
            "test": [
             0.8055555556,
             0.566067099
            ]
           },
           {
            "iteration": 97,
            "learn": [
             0.9143780291,
             0.329530108
            ],
            "passed_time": 0.8423019737,
            "remaining_time": 0.0171898362,
            "test": [
             0.8055555556,
             0.5661128754
            ]
           },
           {
            "iteration": 98,
            "learn": [
             0.9143780291,
             0.3281957622
            ],
            "passed_time": 0.8495945829,
            "remaining_time": 0.008581763464,
            "test": [
             0.8055555556,
             0.5668514609
            ]
           },
           {
            "iteration": 99,
            "learn": [
             0.9143780291,
             0.3270095862
            ],
            "passed_time": 0.8568995994,
            "remaining_time": 0,
            "test": [
             0.8055555556,
             0.5679107816
            ]
           }
          ],
          "meta": {
           "iteration_count": 100,
           "launch_mode": "Train",
           "learn_metrics": [
            {
             "best_value": "Max",
             "name": "F1"
            },
            {
             "best_value": "Min",
             "name": "Logloss"
            }
           ],
           "learn_sets": [
            "learn"
           ],
           "name": "experiment",
           "parameters": "",
           "test_metrics": [
            {
             "best_value": "Max",
             "name": "F1"
            },
            {
             "best_value": "Min",
             "name": "Logloss"
            }
           ],
           "test_sets": [
            "test"
           ]
          }
         },
         "passed_iterations": 99,
         "total_iterations": 100
        },
        "name": "catboost_info",
        "path": "catboost_info"
       }
      },
      "layout": "IPY_MODEL_b4130936992d4fc3a434cbce5f096a95"
     }
    },
    "b4130936992d4fc3a434cbce5f096a95": {
     "model_module": "@jupyter-widgets/base",
     "model_name": "LayoutModel",
     "state": {
      "_model_module": "@jupyter-widgets/base",
      "_model_module_version": "1.2.0",
      "_model_name": "LayoutModel",
      "_view_count": null,
      "_view_module": "@jupyter-widgets/base",
      "_view_module_version": "1.2.0",
      "_view_name": "LayoutView",
      "align_content": null,
      "align_items": null,
      "align_self": "stretch",
      "border": null,
      "bottom": null,
      "display": null,
      "flex": null,
      "flex_flow": null,
      "grid_area": null,
      "grid_auto_columns": null,
      "grid_auto_flow": null,
      "grid_auto_rows": null,
      "grid_column": null,
      "grid_gap": null,
      "grid_row": null,
      "grid_template_areas": null,
      "grid_template_columns": null,
      "grid_template_rows": null,
      "height": "500px",
      "justify_content": null,
      "justify_items": null,
      "left": null,
      "margin": null,
      "max_height": null,
      "max_width": null,
      "min_height": null,
      "min_width": null,
      "object_fit": null,
      "object_position": null,
      "order": null,
      "overflow": null,
      "overflow_x": null,
      "overflow_y": null,
      "padding": null,
      "right": null,
      "top": null,
      "visibility": null,
      "width": null
     }
    }
   }
  }
 },
 "nbformat": 4,
 "nbformat_minor": 1
}
