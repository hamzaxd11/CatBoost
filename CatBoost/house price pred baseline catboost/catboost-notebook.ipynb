{
 "cells": [
  {
   "cell_type": "code",
   "execution_count": 1,
   "metadata": {},
   "outputs": [
    {
     "data": {
      "text/plain": [
       "'\\ncat features of train and test not the same, so reature selection needs to be done\\n'"
      ]
     },
     "execution_count": 1,
     "metadata": {},
     "output_type": "execute_result"
    }
   ],
   "source": [
    "'''\n",
    "cat features of train and test not the same, so reature selection needs to be done\n",
    "'''"
   ]
  },
  {
   "cell_type": "code",
   "execution_count": 2,
   "metadata": {},
   "outputs": [],
   "source": [
    "import pandas as pd\n",
    "import numpy as np\n",
    "from sklearn.metrics import mean_absolute_error, mean_squared_error, r2_score\n",
    "from sklearn.model_selection import train_test_split, cross_val_score, GridSearchCV\n",
    "\n",
    "from catboost import CatBoostRegressor, Pool, cv\n",
    "\n",
    "train = pd.read_csv('train.csv')\n",
    "test = pd.read_csv('test.csv')"
   ]
  },
  {
   "cell_type": "code",
   "execution_count": 3,
   "metadata": {},
   "outputs": [],
   "source": [
    "def report(true, pred):\n",
    "    print('Mean Absolute Error:    ', mean_absolute_error(true, pred))  \n",
    "    print('Mean Squared Error:     ', mean_squared_error(true, pred))  \n",
    "    print('Root Mean Squared Error:', np.sqrt(mean_squared_error(true, pred)))\n",
    "    print('R Squared:              ', r2_score(true, pred))"
   ]
  },
  {
   "cell_type": "code",
   "execution_count": 4,
   "metadata": {
    "scrolled": true
   },
   "outputs": [
    {
     "data": {
      "text/html": [
       "<div>\n",
       "<style scoped>\n",
       "    .dataframe tbody tr th:only-of-type {\n",
       "        vertical-align: middle;\n",
       "    }\n",
       "\n",
       "    .dataframe tbody tr th {\n",
       "        vertical-align: top;\n",
       "    }\n",
       "\n",
       "    .dataframe thead th {\n",
       "        text-align: right;\n",
       "    }\n",
       "</style>\n",
       "<table border=\"1\" class=\"dataframe\">\n",
       "  <thead>\n",
       "    <tr style=\"text-align: right;\">\n",
       "      <th></th>\n",
       "      <th>Id</th>\n",
       "      <th>MSSubClass</th>\n",
       "      <th>MSZoning</th>\n",
       "      <th>LotFrontage</th>\n",
       "      <th>LotArea</th>\n",
       "      <th>Street</th>\n",
       "      <th>Alley</th>\n",
       "      <th>LotShape</th>\n",
       "      <th>LandContour</th>\n",
       "      <th>Utilities</th>\n",
       "      <th>...</th>\n",
       "      <th>PoolArea</th>\n",
       "      <th>PoolQC</th>\n",
       "      <th>Fence</th>\n",
       "      <th>MiscFeature</th>\n",
       "      <th>MiscVal</th>\n",
       "      <th>MoSold</th>\n",
       "      <th>YrSold</th>\n",
       "      <th>SaleType</th>\n",
       "      <th>SaleCondition</th>\n",
       "      <th>SalePrice</th>\n",
       "    </tr>\n",
       "  </thead>\n",
       "  <tbody>\n",
       "    <tr>\n",
       "      <th>0</th>\n",
       "      <td>1</td>\n",
       "      <td>60</td>\n",
       "      <td>RL</td>\n",
       "      <td>65.0</td>\n",
       "      <td>8450</td>\n",
       "      <td>Pave</td>\n",
       "      <td>NaN</td>\n",
       "      <td>Reg</td>\n",
       "      <td>Lvl</td>\n",
       "      <td>AllPub</td>\n",
       "      <td>...</td>\n",
       "      <td>0</td>\n",
       "      <td>NaN</td>\n",
       "      <td>NaN</td>\n",
       "      <td>NaN</td>\n",
       "      <td>0</td>\n",
       "      <td>2</td>\n",
       "      <td>2008</td>\n",
       "      <td>WD</td>\n",
       "      <td>Normal</td>\n",
       "      <td>208500</td>\n",
       "    </tr>\n",
       "    <tr>\n",
       "      <th>1</th>\n",
       "      <td>2</td>\n",
       "      <td>20</td>\n",
       "      <td>RL</td>\n",
       "      <td>80.0</td>\n",
       "      <td>9600</td>\n",
       "      <td>Pave</td>\n",
       "      <td>NaN</td>\n",
       "      <td>Reg</td>\n",
       "      <td>Lvl</td>\n",
       "      <td>AllPub</td>\n",
       "      <td>...</td>\n",
       "      <td>0</td>\n",
       "      <td>NaN</td>\n",
       "      <td>NaN</td>\n",
       "      <td>NaN</td>\n",
       "      <td>0</td>\n",
       "      <td>5</td>\n",
       "      <td>2007</td>\n",
       "      <td>WD</td>\n",
       "      <td>Normal</td>\n",
       "      <td>181500</td>\n",
       "    </tr>\n",
       "    <tr>\n",
       "      <th>2</th>\n",
       "      <td>3</td>\n",
       "      <td>60</td>\n",
       "      <td>RL</td>\n",
       "      <td>68.0</td>\n",
       "      <td>11250</td>\n",
       "      <td>Pave</td>\n",
       "      <td>NaN</td>\n",
       "      <td>IR1</td>\n",
       "      <td>Lvl</td>\n",
       "      <td>AllPub</td>\n",
       "      <td>...</td>\n",
       "      <td>0</td>\n",
       "      <td>NaN</td>\n",
       "      <td>NaN</td>\n",
       "      <td>NaN</td>\n",
       "      <td>0</td>\n",
       "      <td>9</td>\n",
       "      <td>2008</td>\n",
       "      <td>WD</td>\n",
       "      <td>Normal</td>\n",
       "      <td>223500</td>\n",
       "    </tr>\n",
       "    <tr>\n",
       "      <th>3</th>\n",
       "      <td>4</td>\n",
       "      <td>70</td>\n",
       "      <td>RL</td>\n",
       "      <td>60.0</td>\n",
       "      <td>9550</td>\n",
       "      <td>Pave</td>\n",
       "      <td>NaN</td>\n",
       "      <td>IR1</td>\n",
       "      <td>Lvl</td>\n",
       "      <td>AllPub</td>\n",
       "      <td>...</td>\n",
       "      <td>0</td>\n",
       "      <td>NaN</td>\n",
       "      <td>NaN</td>\n",
       "      <td>NaN</td>\n",
       "      <td>0</td>\n",
       "      <td>2</td>\n",
       "      <td>2006</td>\n",
       "      <td>WD</td>\n",
       "      <td>Abnorml</td>\n",
       "      <td>140000</td>\n",
       "    </tr>\n",
       "    <tr>\n",
       "      <th>4</th>\n",
       "      <td>5</td>\n",
       "      <td>60</td>\n",
       "      <td>RL</td>\n",
       "      <td>84.0</td>\n",
       "      <td>14260</td>\n",
       "      <td>Pave</td>\n",
       "      <td>NaN</td>\n",
       "      <td>IR1</td>\n",
       "      <td>Lvl</td>\n",
       "      <td>AllPub</td>\n",
       "      <td>...</td>\n",
       "      <td>0</td>\n",
       "      <td>NaN</td>\n",
       "      <td>NaN</td>\n",
       "      <td>NaN</td>\n",
       "      <td>0</td>\n",
       "      <td>12</td>\n",
       "      <td>2008</td>\n",
       "      <td>WD</td>\n",
       "      <td>Normal</td>\n",
       "      <td>250000</td>\n",
       "    </tr>\n",
       "    <tr>\n",
       "      <th>...</th>\n",
       "      <td>...</td>\n",
       "      <td>...</td>\n",
       "      <td>...</td>\n",
       "      <td>...</td>\n",
       "      <td>...</td>\n",
       "      <td>...</td>\n",
       "      <td>...</td>\n",
       "      <td>...</td>\n",
       "      <td>...</td>\n",
       "      <td>...</td>\n",
       "      <td>...</td>\n",
       "      <td>...</td>\n",
       "      <td>...</td>\n",
       "      <td>...</td>\n",
       "      <td>...</td>\n",
       "      <td>...</td>\n",
       "      <td>...</td>\n",
       "      <td>...</td>\n",
       "      <td>...</td>\n",
       "      <td>...</td>\n",
       "      <td>...</td>\n",
       "    </tr>\n",
       "    <tr>\n",
       "      <th>1455</th>\n",
       "      <td>1456</td>\n",
       "      <td>60</td>\n",
       "      <td>RL</td>\n",
       "      <td>62.0</td>\n",
       "      <td>7917</td>\n",
       "      <td>Pave</td>\n",
       "      <td>NaN</td>\n",
       "      <td>Reg</td>\n",
       "      <td>Lvl</td>\n",
       "      <td>AllPub</td>\n",
       "      <td>...</td>\n",
       "      <td>0</td>\n",
       "      <td>NaN</td>\n",
       "      <td>NaN</td>\n",
       "      <td>NaN</td>\n",
       "      <td>0</td>\n",
       "      <td>8</td>\n",
       "      <td>2007</td>\n",
       "      <td>WD</td>\n",
       "      <td>Normal</td>\n",
       "      <td>175000</td>\n",
       "    </tr>\n",
       "    <tr>\n",
       "      <th>1456</th>\n",
       "      <td>1457</td>\n",
       "      <td>20</td>\n",
       "      <td>RL</td>\n",
       "      <td>85.0</td>\n",
       "      <td>13175</td>\n",
       "      <td>Pave</td>\n",
       "      <td>NaN</td>\n",
       "      <td>Reg</td>\n",
       "      <td>Lvl</td>\n",
       "      <td>AllPub</td>\n",
       "      <td>...</td>\n",
       "      <td>0</td>\n",
       "      <td>NaN</td>\n",
       "      <td>MnPrv</td>\n",
       "      <td>NaN</td>\n",
       "      <td>0</td>\n",
       "      <td>2</td>\n",
       "      <td>2010</td>\n",
       "      <td>WD</td>\n",
       "      <td>Normal</td>\n",
       "      <td>210000</td>\n",
       "    </tr>\n",
       "    <tr>\n",
       "      <th>1457</th>\n",
       "      <td>1458</td>\n",
       "      <td>70</td>\n",
       "      <td>RL</td>\n",
       "      <td>66.0</td>\n",
       "      <td>9042</td>\n",
       "      <td>Pave</td>\n",
       "      <td>NaN</td>\n",
       "      <td>Reg</td>\n",
       "      <td>Lvl</td>\n",
       "      <td>AllPub</td>\n",
       "      <td>...</td>\n",
       "      <td>0</td>\n",
       "      <td>NaN</td>\n",
       "      <td>GdPrv</td>\n",
       "      <td>Shed</td>\n",
       "      <td>2500</td>\n",
       "      <td>5</td>\n",
       "      <td>2010</td>\n",
       "      <td>WD</td>\n",
       "      <td>Normal</td>\n",
       "      <td>266500</td>\n",
       "    </tr>\n",
       "    <tr>\n",
       "      <th>1458</th>\n",
       "      <td>1459</td>\n",
       "      <td>20</td>\n",
       "      <td>RL</td>\n",
       "      <td>68.0</td>\n",
       "      <td>9717</td>\n",
       "      <td>Pave</td>\n",
       "      <td>NaN</td>\n",
       "      <td>Reg</td>\n",
       "      <td>Lvl</td>\n",
       "      <td>AllPub</td>\n",
       "      <td>...</td>\n",
       "      <td>0</td>\n",
       "      <td>NaN</td>\n",
       "      <td>NaN</td>\n",
       "      <td>NaN</td>\n",
       "      <td>0</td>\n",
       "      <td>4</td>\n",
       "      <td>2010</td>\n",
       "      <td>WD</td>\n",
       "      <td>Normal</td>\n",
       "      <td>142125</td>\n",
       "    </tr>\n",
       "    <tr>\n",
       "      <th>1459</th>\n",
       "      <td>1460</td>\n",
       "      <td>20</td>\n",
       "      <td>RL</td>\n",
       "      <td>75.0</td>\n",
       "      <td>9937</td>\n",
       "      <td>Pave</td>\n",
       "      <td>NaN</td>\n",
       "      <td>Reg</td>\n",
       "      <td>Lvl</td>\n",
       "      <td>AllPub</td>\n",
       "      <td>...</td>\n",
       "      <td>0</td>\n",
       "      <td>NaN</td>\n",
       "      <td>NaN</td>\n",
       "      <td>NaN</td>\n",
       "      <td>0</td>\n",
       "      <td>6</td>\n",
       "      <td>2008</td>\n",
       "      <td>WD</td>\n",
       "      <td>Normal</td>\n",
       "      <td>147500</td>\n",
       "    </tr>\n",
       "  </tbody>\n",
       "</table>\n",
       "<p>1460 rows × 81 columns</p>\n",
       "</div>"
      ],
      "text/plain": [
       "        Id  MSSubClass MSZoning  LotFrontage  LotArea Street Alley LotShape  \\\n",
       "0        1          60       RL         65.0     8450   Pave   NaN      Reg   \n",
       "1        2          20       RL         80.0     9600   Pave   NaN      Reg   \n",
       "2        3          60       RL         68.0    11250   Pave   NaN      IR1   \n",
       "3        4          70       RL         60.0     9550   Pave   NaN      IR1   \n",
       "4        5          60       RL         84.0    14260   Pave   NaN      IR1   \n",
       "...    ...         ...      ...          ...      ...    ...   ...      ...   \n",
       "1455  1456          60       RL         62.0     7917   Pave   NaN      Reg   \n",
       "1456  1457          20       RL         85.0    13175   Pave   NaN      Reg   \n",
       "1457  1458          70       RL         66.0     9042   Pave   NaN      Reg   \n",
       "1458  1459          20       RL         68.0     9717   Pave   NaN      Reg   \n",
       "1459  1460          20       RL         75.0     9937   Pave   NaN      Reg   \n",
       "\n",
       "     LandContour Utilities  ... PoolArea PoolQC  Fence MiscFeature MiscVal  \\\n",
       "0            Lvl    AllPub  ...        0    NaN    NaN         NaN       0   \n",
       "1            Lvl    AllPub  ...        0    NaN    NaN         NaN       0   \n",
       "2            Lvl    AllPub  ...        0    NaN    NaN         NaN       0   \n",
       "3            Lvl    AllPub  ...        0    NaN    NaN         NaN       0   \n",
       "4            Lvl    AllPub  ...        0    NaN    NaN         NaN       0   \n",
       "...          ...       ...  ...      ...    ...    ...         ...     ...   \n",
       "1455         Lvl    AllPub  ...        0    NaN    NaN         NaN       0   \n",
       "1456         Lvl    AllPub  ...        0    NaN  MnPrv         NaN       0   \n",
       "1457         Lvl    AllPub  ...        0    NaN  GdPrv        Shed    2500   \n",
       "1458         Lvl    AllPub  ...        0    NaN    NaN         NaN       0   \n",
       "1459         Lvl    AllPub  ...        0    NaN    NaN         NaN       0   \n",
       "\n",
       "     MoSold YrSold  SaleType  SaleCondition  SalePrice  \n",
       "0         2   2008        WD         Normal     208500  \n",
       "1         5   2007        WD         Normal     181500  \n",
       "2         9   2008        WD         Normal     223500  \n",
       "3         2   2006        WD        Abnorml     140000  \n",
       "4        12   2008        WD         Normal     250000  \n",
       "...     ...    ...       ...            ...        ...  \n",
       "1455      8   2007        WD         Normal     175000  \n",
       "1456      2   2010        WD         Normal     210000  \n",
       "1457      5   2010        WD         Normal     266500  \n",
       "1458      4   2010        WD         Normal     142125  \n",
       "1459      6   2008        WD         Normal     147500  \n",
       "\n",
       "[1460 rows x 81 columns]"
      ]
     },
     "execution_count": 4,
     "metadata": {},
     "output_type": "execute_result"
    }
   ],
   "source": [
    "train"
   ]
  },
  {
   "cell_type": "code",
   "execution_count": 5,
   "metadata": {},
   "outputs": [
    {
     "data": {
      "text/html": [
       "<div>\n",
       "<style scoped>\n",
       "    .dataframe tbody tr th:only-of-type {\n",
       "        vertical-align: middle;\n",
       "    }\n",
       "\n",
       "    .dataframe tbody tr th {\n",
       "        vertical-align: top;\n",
       "    }\n",
       "\n",
       "    .dataframe thead th {\n",
       "        text-align: right;\n",
       "    }\n",
       "</style>\n",
       "<table border=\"1\" class=\"dataframe\">\n",
       "  <thead>\n",
       "    <tr style=\"text-align: right;\">\n",
       "      <th></th>\n",
       "      <th>Id</th>\n",
       "      <th>MSSubClass</th>\n",
       "      <th>MSZoning</th>\n",
       "      <th>LotFrontage</th>\n",
       "      <th>LotArea</th>\n",
       "      <th>Street</th>\n",
       "      <th>Alley</th>\n",
       "      <th>LotShape</th>\n",
       "      <th>LandContour</th>\n",
       "      <th>Utilities</th>\n",
       "      <th>...</th>\n",
       "      <th>ScreenPorch</th>\n",
       "      <th>PoolArea</th>\n",
       "      <th>PoolQC</th>\n",
       "      <th>Fence</th>\n",
       "      <th>MiscFeature</th>\n",
       "      <th>MiscVal</th>\n",
       "      <th>MoSold</th>\n",
       "      <th>YrSold</th>\n",
       "      <th>SaleType</th>\n",
       "      <th>SaleCondition</th>\n",
       "    </tr>\n",
       "  </thead>\n",
       "  <tbody>\n",
       "    <tr>\n",
       "      <th>0</th>\n",
       "      <td>1461</td>\n",
       "      <td>20</td>\n",
       "      <td>RH</td>\n",
       "      <td>80.0</td>\n",
       "      <td>11622</td>\n",
       "      <td>Pave</td>\n",
       "      <td>NaN</td>\n",
       "      <td>Reg</td>\n",
       "      <td>Lvl</td>\n",
       "      <td>AllPub</td>\n",
       "      <td>...</td>\n",
       "      <td>120</td>\n",
       "      <td>0</td>\n",
       "      <td>NaN</td>\n",
       "      <td>MnPrv</td>\n",
       "      <td>NaN</td>\n",
       "      <td>0</td>\n",
       "      <td>6</td>\n",
       "      <td>2010</td>\n",
       "      <td>WD</td>\n",
       "      <td>Normal</td>\n",
       "    </tr>\n",
       "    <tr>\n",
       "      <th>1</th>\n",
       "      <td>1462</td>\n",
       "      <td>20</td>\n",
       "      <td>RL</td>\n",
       "      <td>81.0</td>\n",
       "      <td>14267</td>\n",
       "      <td>Pave</td>\n",
       "      <td>NaN</td>\n",
       "      <td>IR1</td>\n",
       "      <td>Lvl</td>\n",
       "      <td>AllPub</td>\n",
       "      <td>...</td>\n",
       "      <td>0</td>\n",
       "      <td>0</td>\n",
       "      <td>NaN</td>\n",
       "      <td>NaN</td>\n",
       "      <td>Gar2</td>\n",
       "      <td>12500</td>\n",
       "      <td>6</td>\n",
       "      <td>2010</td>\n",
       "      <td>WD</td>\n",
       "      <td>Normal</td>\n",
       "    </tr>\n",
       "    <tr>\n",
       "      <th>2</th>\n",
       "      <td>1463</td>\n",
       "      <td>60</td>\n",
       "      <td>RL</td>\n",
       "      <td>74.0</td>\n",
       "      <td>13830</td>\n",
       "      <td>Pave</td>\n",
       "      <td>NaN</td>\n",
       "      <td>IR1</td>\n",
       "      <td>Lvl</td>\n",
       "      <td>AllPub</td>\n",
       "      <td>...</td>\n",
       "      <td>0</td>\n",
       "      <td>0</td>\n",
       "      <td>NaN</td>\n",
       "      <td>MnPrv</td>\n",
       "      <td>NaN</td>\n",
       "      <td>0</td>\n",
       "      <td>3</td>\n",
       "      <td>2010</td>\n",
       "      <td>WD</td>\n",
       "      <td>Normal</td>\n",
       "    </tr>\n",
       "    <tr>\n",
       "      <th>3</th>\n",
       "      <td>1464</td>\n",
       "      <td>60</td>\n",
       "      <td>RL</td>\n",
       "      <td>78.0</td>\n",
       "      <td>9978</td>\n",
       "      <td>Pave</td>\n",
       "      <td>NaN</td>\n",
       "      <td>IR1</td>\n",
       "      <td>Lvl</td>\n",
       "      <td>AllPub</td>\n",
       "      <td>...</td>\n",
       "      <td>0</td>\n",
       "      <td>0</td>\n",
       "      <td>NaN</td>\n",
       "      <td>NaN</td>\n",
       "      <td>NaN</td>\n",
       "      <td>0</td>\n",
       "      <td>6</td>\n",
       "      <td>2010</td>\n",
       "      <td>WD</td>\n",
       "      <td>Normal</td>\n",
       "    </tr>\n",
       "    <tr>\n",
       "      <th>4</th>\n",
       "      <td>1465</td>\n",
       "      <td>120</td>\n",
       "      <td>RL</td>\n",
       "      <td>43.0</td>\n",
       "      <td>5005</td>\n",
       "      <td>Pave</td>\n",
       "      <td>NaN</td>\n",
       "      <td>IR1</td>\n",
       "      <td>HLS</td>\n",
       "      <td>AllPub</td>\n",
       "      <td>...</td>\n",
       "      <td>144</td>\n",
       "      <td>0</td>\n",
       "      <td>NaN</td>\n",
       "      <td>NaN</td>\n",
       "      <td>NaN</td>\n",
       "      <td>0</td>\n",
       "      <td>1</td>\n",
       "      <td>2010</td>\n",
       "      <td>WD</td>\n",
       "      <td>Normal</td>\n",
       "    </tr>\n",
       "    <tr>\n",
       "      <th>...</th>\n",
       "      <td>...</td>\n",
       "      <td>...</td>\n",
       "      <td>...</td>\n",
       "      <td>...</td>\n",
       "      <td>...</td>\n",
       "      <td>...</td>\n",
       "      <td>...</td>\n",
       "      <td>...</td>\n",
       "      <td>...</td>\n",
       "      <td>...</td>\n",
       "      <td>...</td>\n",
       "      <td>...</td>\n",
       "      <td>...</td>\n",
       "      <td>...</td>\n",
       "      <td>...</td>\n",
       "      <td>...</td>\n",
       "      <td>...</td>\n",
       "      <td>...</td>\n",
       "      <td>...</td>\n",
       "      <td>...</td>\n",
       "      <td>...</td>\n",
       "    </tr>\n",
       "    <tr>\n",
       "      <th>1454</th>\n",
       "      <td>2915</td>\n",
       "      <td>160</td>\n",
       "      <td>RM</td>\n",
       "      <td>21.0</td>\n",
       "      <td>1936</td>\n",
       "      <td>Pave</td>\n",
       "      <td>NaN</td>\n",
       "      <td>Reg</td>\n",
       "      <td>Lvl</td>\n",
       "      <td>AllPub</td>\n",
       "      <td>...</td>\n",
       "      <td>0</td>\n",
       "      <td>0</td>\n",
       "      <td>NaN</td>\n",
       "      <td>NaN</td>\n",
       "      <td>NaN</td>\n",
       "      <td>0</td>\n",
       "      <td>6</td>\n",
       "      <td>2006</td>\n",
       "      <td>WD</td>\n",
       "      <td>Normal</td>\n",
       "    </tr>\n",
       "    <tr>\n",
       "      <th>1455</th>\n",
       "      <td>2916</td>\n",
       "      <td>160</td>\n",
       "      <td>RM</td>\n",
       "      <td>21.0</td>\n",
       "      <td>1894</td>\n",
       "      <td>Pave</td>\n",
       "      <td>NaN</td>\n",
       "      <td>Reg</td>\n",
       "      <td>Lvl</td>\n",
       "      <td>AllPub</td>\n",
       "      <td>...</td>\n",
       "      <td>0</td>\n",
       "      <td>0</td>\n",
       "      <td>NaN</td>\n",
       "      <td>NaN</td>\n",
       "      <td>NaN</td>\n",
       "      <td>0</td>\n",
       "      <td>4</td>\n",
       "      <td>2006</td>\n",
       "      <td>WD</td>\n",
       "      <td>Abnorml</td>\n",
       "    </tr>\n",
       "    <tr>\n",
       "      <th>1456</th>\n",
       "      <td>2917</td>\n",
       "      <td>20</td>\n",
       "      <td>RL</td>\n",
       "      <td>160.0</td>\n",
       "      <td>20000</td>\n",
       "      <td>Pave</td>\n",
       "      <td>NaN</td>\n",
       "      <td>Reg</td>\n",
       "      <td>Lvl</td>\n",
       "      <td>AllPub</td>\n",
       "      <td>...</td>\n",
       "      <td>0</td>\n",
       "      <td>0</td>\n",
       "      <td>NaN</td>\n",
       "      <td>NaN</td>\n",
       "      <td>NaN</td>\n",
       "      <td>0</td>\n",
       "      <td>9</td>\n",
       "      <td>2006</td>\n",
       "      <td>WD</td>\n",
       "      <td>Abnorml</td>\n",
       "    </tr>\n",
       "    <tr>\n",
       "      <th>1457</th>\n",
       "      <td>2918</td>\n",
       "      <td>85</td>\n",
       "      <td>RL</td>\n",
       "      <td>62.0</td>\n",
       "      <td>10441</td>\n",
       "      <td>Pave</td>\n",
       "      <td>NaN</td>\n",
       "      <td>Reg</td>\n",
       "      <td>Lvl</td>\n",
       "      <td>AllPub</td>\n",
       "      <td>...</td>\n",
       "      <td>0</td>\n",
       "      <td>0</td>\n",
       "      <td>NaN</td>\n",
       "      <td>MnPrv</td>\n",
       "      <td>Shed</td>\n",
       "      <td>700</td>\n",
       "      <td>7</td>\n",
       "      <td>2006</td>\n",
       "      <td>WD</td>\n",
       "      <td>Normal</td>\n",
       "    </tr>\n",
       "    <tr>\n",
       "      <th>1458</th>\n",
       "      <td>2919</td>\n",
       "      <td>60</td>\n",
       "      <td>RL</td>\n",
       "      <td>74.0</td>\n",
       "      <td>9627</td>\n",
       "      <td>Pave</td>\n",
       "      <td>NaN</td>\n",
       "      <td>Reg</td>\n",
       "      <td>Lvl</td>\n",
       "      <td>AllPub</td>\n",
       "      <td>...</td>\n",
       "      <td>0</td>\n",
       "      <td>0</td>\n",
       "      <td>NaN</td>\n",
       "      <td>NaN</td>\n",
       "      <td>NaN</td>\n",
       "      <td>0</td>\n",
       "      <td>11</td>\n",
       "      <td>2006</td>\n",
       "      <td>WD</td>\n",
       "      <td>Normal</td>\n",
       "    </tr>\n",
       "  </tbody>\n",
       "</table>\n",
       "<p>1459 rows × 80 columns</p>\n",
       "</div>"
      ],
      "text/plain": [
       "        Id  MSSubClass MSZoning  LotFrontage  LotArea Street Alley LotShape  \\\n",
       "0     1461          20       RH         80.0    11622   Pave   NaN      Reg   \n",
       "1     1462          20       RL         81.0    14267   Pave   NaN      IR1   \n",
       "2     1463          60       RL         74.0    13830   Pave   NaN      IR1   \n",
       "3     1464          60       RL         78.0     9978   Pave   NaN      IR1   \n",
       "4     1465         120       RL         43.0     5005   Pave   NaN      IR1   \n",
       "...    ...         ...      ...          ...      ...    ...   ...      ...   \n",
       "1454  2915         160       RM         21.0     1936   Pave   NaN      Reg   \n",
       "1455  2916         160       RM         21.0     1894   Pave   NaN      Reg   \n",
       "1456  2917          20       RL        160.0    20000   Pave   NaN      Reg   \n",
       "1457  2918          85       RL         62.0    10441   Pave   NaN      Reg   \n",
       "1458  2919          60       RL         74.0     9627   Pave   NaN      Reg   \n",
       "\n",
       "     LandContour Utilities  ... ScreenPorch PoolArea PoolQC  Fence  \\\n",
       "0            Lvl    AllPub  ...         120        0    NaN  MnPrv   \n",
       "1            Lvl    AllPub  ...           0        0    NaN    NaN   \n",
       "2            Lvl    AllPub  ...           0        0    NaN  MnPrv   \n",
       "3            Lvl    AllPub  ...           0        0    NaN    NaN   \n",
       "4            HLS    AllPub  ...         144        0    NaN    NaN   \n",
       "...          ...       ...  ...         ...      ...    ...    ...   \n",
       "1454         Lvl    AllPub  ...           0        0    NaN    NaN   \n",
       "1455         Lvl    AllPub  ...           0        0    NaN    NaN   \n",
       "1456         Lvl    AllPub  ...           0        0    NaN    NaN   \n",
       "1457         Lvl    AllPub  ...           0        0    NaN  MnPrv   \n",
       "1458         Lvl    AllPub  ...           0        0    NaN    NaN   \n",
       "\n",
       "     MiscFeature MiscVal MoSold  YrSold  SaleType  SaleCondition  \n",
       "0            NaN       0      6    2010        WD         Normal  \n",
       "1           Gar2   12500      6    2010        WD         Normal  \n",
       "2            NaN       0      3    2010        WD         Normal  \n",
       "3            NaN       0      6    2010        WD         Normal  \n",
       "4            NaN       0      1    2010        WD         Normal  \n",
       "...          ...     ...    ...     ...       ...            ...  \n",
       "1454         NaN       0      6    2006        WD         Normal  \n",
       "1455         NaN       0      4    2006        WD        Abnorml  \n",
       "1456         NaN       0      9    2006        WD        Abnorml  \n",
       "1457        Shed     700      7    2006        WD         Normal  \n",
       "1458         NaN       0     11    2006        WD         Normal  \n",
       "\n",
       "[1459 rows x 80 columns]"
      ]
     },
     "execution_count": 5,
     "metadata": {},
     "output_type": "execute_result"
    }
   ],
   "source": [
    "test"
   ]
  },
  {
   "cell_type": "code",
   "execution_count": 6,
   "metadata": {},
   "outputs": [],
   "source": [
    "test_ids = test['Id']"
   ]
  },
  {
   "cell_type": "code",
   "execution_count": 7,
   "metadata": {},
   "outputs": [],
   "source": [
    "train.drop('Id', axis = 1, inplace = True)\n",
    "test.drop('Id', axis = 1, inplace = True)"
   ]
  },
  {
   "cell_type": "code",
   "execution_count": 8,
   "metadata": {},
   "outputs": [],
   "source": [
    "train.fillna(-999,inplace=True)\n",
    "test.fillna(-999,inplace=True)"
   ]
  },
  {
   "cell_type": "code",
   "execution_count": 9,
   "metadata": {},
   "outputs": [
    {
     "data": {
      "text/plain": [
       "0"
      ]
     },
     "execution_count": 9,
     "metadata": {},
     "output_type": "execute_result"
    }
   ],
   "source": [
    "train.isnull().sum().sum()"
   ]
  },
  {
   "cell_type": "code",
   "execution_count": 10,
   "metadata": {},
   "outputs": [
    {
     "data": {
      "text/plain": [
       "0"
      ]
     },
     "execution_count": 10,
     "metadata": {},
     "output_type": "execute_result"
    }
   ],
   "source": [
    "test.isnull().sum().sum()"
   ]
  },
  {
   "cell_type": "code",
   "execution_count": 11,
   "metadata": {},
   "outputs": [
    {
     "ename": "SyntaxError",
     "evalue": "invalid syntax (<ipython-input-11-7e0f78a8bf47>, line 1)",
     "output_type": "error",
     "traceback": [
      "\u001b[1;36m  File \u001b[1;32m\"<ipython-input-11-7e0f78a8bf47>\"\u001b[1;36m, line \u001b[1;32m1\u001b[0m\n\u001b[1;33m    lot area int\u001b[0m\n\u001b[1;37m        ^\u001b[0m\n\u001b[1;31mSyntaxError\u001b[0m\u001b[1;31m:\u001b[0m invalid syntax\n"
     ]
    }
   ],
   "source": [
    "lot area int\n",
    "\n",
    "bsmntsf1 sf2 int \n",
    "\n",
    "total basement\n",
    "\n",
    "basementtnt unsf\n",
    "\n",
    "#check int columns that are actually categorical\n",
    "#convert the rest to float"
   ]
  },
  {
   "cell_type": "code",
   "execution_count": 12,
   "metadata": {},
   "outputs": [
    {
     "name": "stdout",
     "output_type": "stream",
     "text": [
      "<class 'pandas.core.frame.DataFrame'>\n",
      "RangeIndex: 1460 entries, 0 to 1459\n",
      "Data columns (total 80 columns):\n",
      " #   Column         Non-Null Count  Dtype  \n",
      "---  ------         --------------  -----  \n",
      " 0   MSSubClass     1460 non-null   int64  \n",
      " 1   MSZoning       1460 non-null   object \n",
      " 2   LotFrontage    1460 non-null   float64\n",
      " 3   LotArea        1460 non-null   int64  \n",
      " 4   Street         1460 non-null   object \n",
      " 5   Alley          1460 non-null   object \n",
      " 6   LotShape       1460 non-null   object \n",
      " 7   LandContour    1460 non-null   object \n",
      " 8   Utilities      1460 non-null   object \n",
      " 9   LotConfig      1460 non-null   object \n",
      " 10  LandSlope      1460 non-null   object \n",
      " 11  Neighborhood   1460 non-null   object \n",
      " 12  Condition1     1460 non-null   object \n",
      " 13  Condition2     1460 non-null   object \n",
      " 14  BldgType       1460 non-null   object \n",
      " 15  HouseStyle     1460 non-null   object \n",
      " 16  OverallQual    1460 non-null   int64  \n",
      " 17  OverallCond    1460 non-null   int64  \n",
      " 18  YearBuilt      1460 non-null   int64  \n",
      " 19  YearRemodAdd   1460 non-null   int64  \n",
      " 20  RoofStyle      1460 non-null   object \n",
      " 21  RoofMatl       1460 non-null   object \n",
      " 22  Exterior1st    1460 non-null   object \n",
      " 23  Exterior2nd    1460 non-null   object \n",
      " 24  MasVnrType     1460 non-null   object \n",
      " 25  MasVnrArea     1460 non-null   float64\n",
      " 26  ExterQual      1460 non-null   object \n",
      " 27  ExterCond      1460 non-null   object \n",
      " 28  Foundation     1460 non-null   object \n",
      " 29  BsmtQual       1460 non-null   object \n",
      " 30  BsmtCond       1460 non-null   object \n",
      " 31  BsmtExposure   1460 non-null   object \n",
      " 32  BsmtFinType1   1460 non-null   object \n",
      " 33  BsmtFinSF1     1460 non-null   int64  \n",
      " 34  BsmtFinType2   1460 non-null   object \n",
      " 35  BsmtFinSF2     1460 non-null   int64  \n",
      " 36  BsmtUnfSF      1460 non-null   int64  \n",
      " 37  TotalBsmtSF    1460 non-null   int64  \n",
      " 38  Heating        1460 non-null   object \n",
      " 39  HeatingQC      1460 non-null   object \n",
      " 40  CentralAir     1460 non-null   object \n",
      " 41  Electrical     1460 non-null   object \n",
      " 42  1stFlrSF       1460 non-null   int64  \n",
      " 43  2ndFlrSF       1460 non-null   int64  \n",
      " 44  LowQualFinSF   1460 non-null   int64  \n",
      " 45  GrLivArea      1460 non-null   int64  \n",
      " 46  BsmtFullBath   1460 non-null   int64  \n",
      " 47  BsmtHalfBath   1460 non-null   int64  \n",
      " 48  FullBath       1460 non-null   int64  \n",
      " 49  HalfBath       1460 non-null   int64  \n",
      " 50  BedroomAbvGr   1460 non-null   int64  \n",
      " 51  KitchenAbvGr   1460 non-null   int64  \n",
      " 52  KitchenQual    1460 non-null   object \n",
      " 53  TotRmsAbvGrd   1460 non-null   int64  \n",
      " 54  Functional     1460 non-null   object \n",
      " 55  Fireplaces     1460 non-null   int64  \n",
      " 56  FireplaceQu    1460 non-null   object \n",
      " 57  GarageType     1460 non-null   object \n",
      " 58  GarageYrBlt    1460 non-null   float64\n",
      " 59  GarageFinish   1460 non-null   object \n",
      " 60  GarageCars     1460 non-null   int64  \n",
      " 61  GarageArea     1460 non-null   int64  \n",
      " 62  GarageQual     1460 non-null   object \n",
      " 63  GarageCond     1460 non-null   object \n",
      " 64  PavedDrive     1460 non-null   object \n",
      " 65  WoodDeckSF     1460 non-null   int64  \n",
      " 66  OpenPorchSF    1460 non-null   int64  \n",
      " 67  EnclosedPorch  1460 non-null   int64  \n",
      " 68  3SsnPorch      1460 non-null   int64  \n",
      " 69  ScreenPorch    1460 non-null   int64  \n",
      " 70  PoolArea       1460 non-null   int64  \n",
      " 71  PoolQC         1460 non-null   object \n",
      " 72  Fence          1460 non-null   object \n",
      " 73  MiscFeature    1460 non-null   object \n",
      " 74  MiscVal        1460 non-null   int64  \n",
      " 75  MoSold         1460 non-null   int64  \n",
      " 76  YrSold         1460 non-null   int64  \n",
      " 77  SaleType       1460 non-null   object \n",
      " 78  SaleCondition  1460 non-null   object \n",
      " 79  SalePrice      1460 non-null   int64  \n",
      "dtypes: float64(3), int64(34), object(43)\n",
      "memory usage: 912.6+ KB\n"
     ]
    }
   ],
   "source": [
    "train.info()"
   ]
  },
  {
   "cell_type": "code",
   "execution_count": 13,
   "metadata": {},
   "outputs": [],
   "source": [
    "#corr = train.corr()\n",
    "\n",
    "#best_features = corr.index[abs(corr['SalePrice'])>= 0.5]\n",
    "#best_features"
   ]
  },
  {
   "cell_type": "code",
   "execution_count": 14,
   "metadata": {},
   "outputs": [],
   "source": [
    "#X = train[['OverallQual', 'YearBuilt', 'YearRemodAdd', 'TotalBsmtSF', '1stFlrSF',\n",
    "#       'GrLivArea', 'FullBath', 'TotRmsAbvGrd', 'GarageCars', 'GarageArea']]\n",
    "\n",
    "#test = test[['OverallQual', 'YearBuilt', 'YearRemodAdd', 'TotalBsmtSF', '1stFlrSF',\n",
    "#       'GrLivArea', 'FullBath', 'TotRmsAbvGrd', 'GarageCars', 'GarageArea']]"
   ]
  },
  {
   "cell_type": "code",
   "execution_count": 15,
   "metadata": {},
   "outputs": [],
   "source": [
    "y = train['SalePrice']\n",
    "\n",
    "X = train.drop('SalePrice', axis = 1)"
   ]
  },
  {
   "cell_type": "code",
   "execution_count": 16,
   "metadata": {},
   "outputs": [
    {
     "data": {
      "text/plain": [
       "(1460, 79)"
      ]
     },
     "execution_count": 16,
     "metadata": {},
     "output_type": "execute_result"
    }
   ],
   "source": [
    "X.shape"
   ]
  },
  {
   "cell_type": "code",
   "execution_count": 17,
   "metadata": {},
   "outputs": [
    {
     "data": {
      "text/plain": [
       "79"
      ]
     },
     "execution_count": 17,
     "metadata": {},
     "output_type": "execute_result"
    }
   ],
   "source": [
    "test.shape[1]"
   ]
  },
  {
   "cell_type": "code",
   "execution_count": 18,
   "metadata": {
    "scrolled": true
   },
   "outputs": [
    {
     "name": "stdout",
     "output_type": "stream",
     "text": [
      "79\n",
      "int64\n",
      "object\n",
      "float64\n",
      "int64\n",
      "object\n",
      "object\n",
      "object\n",
      "object\n",
      "object\n",
      "object\n",
      "object\n",
      "object\n",
      "object\n",
      "object\n",
      "object\n",
      "object\n",
      "int64\n",
      "int64\n",
      "int64\n",
      "int64\n",
      "object\n",
      "object\n",
      "object\n",
      "object\n",
      "object\n",
      "float64\n",
      "object\n",
      "object\n",
      "object\n",
      "object\n",
      "object\n",
      "object\n",
      "object\n",
      "int64\n",
      "object\n",
      "int64\n",
      "int64\n",
      "int64\n",
      "object\n",
      "object\n",
      "object\n",
      "object\n",
      "int64\n",
      "int64\n",
      "int64\n",
      "int64\n",
      "int64\n",
      "int64\n",
      "int64\n",
      "int64\n",
      "int64\n",
      "int64\n",
      "object\n",
      "int64\n",
      "object\n",
      "int64\n",
      "object\n",
      "object\n",
      "float64\n",
      "object\n",
      "int64\n",
      "int64\n",
      "object\n",
      "object\n",
      "object\n",
      "int64\n",
      "int64\n",
      "int64\n",
      "int64\n",
      "int64\n",
      "int64\n",
      "object\n",
      "object\n",
      "object\n",
      "int64\n",
      "int64\n",
      "int64\n",
      "object\n",
      "object\n"
     ]
    }
   ],
   "source": [
    "train_types = pd.DataFrame(X.dtypes)\n",
    "train_types = list(train_types[0])\n",
    "\n",
    "print(len(train_types))\n",
    "\n",
    "for i in train_types:\n",
    "    print(i)"
   ]
  },
  {
   "cell_type": "code",
   "execution_count": 19,
   "metadata": {
    "scrolled": true
   },
   "outputs": [],
   "source": [
    "#convert all test column types to train types\n",
    "\n",
    "for i in range(test.shape[1]):\n",
    "      test.iloc[:,i] = test.iloc[:,i].astype(train_types[i])"
   ]
  },
  {
   "cell_type": "code",
   "execution_count": 20,
   "metadata": {
    "scrolled": true
   },
   "outputs": [
    {
     "name": "stdout",
     "output_type": "stream",
     "text": [
      "[dtype('int64'), dtype('O'), dtype('float64'), dtype('int64'), dtype('O'), dtype('O'), dtype('O'), dtype('O'), dtype('O'), dtype('O'), dtype('O'), dtype('O'), dtype('O'), dtype('O'), dtype('O'), dtype('O'), dtype('int64'), dtype('int64'), dtype('int64'), dtype('int64'), dtype('O'), dtype('O'), dtype('O'), dtype('O'), dtype('O'), dtype('float64'), dtype('O'), dtype('O'), dtype('O'), dtype('O'), dtype('O'), dtype('O'), dtype('O'), dtype('int64'), dtype('O'), dtype('int64'), dtype('int64'), dtype('int64'), dtype('O'), dtype('O'), dtype('O'), dtype('O'), dtype('int64'), dtype('int64'), dtype('int64'), dtype('int64'), dtype('int64'), dtype('int64'), dtype('int64'), dtype('int64'), dtype('int64'), dtype('int64'), dtype('O'), dtype('int64'), dtype('O'), dtype('int64'), dtype('O'), dtype('O'), dtype('float64'), dtype('O'), dtype('int64'), dtype('int64'), dtype('O'), dtype('O'), dtype('O'), dtype('int64'), dtype('int64'), dtype('int64'), dtype('int64'), dtype('int64'), dtype('int64'), dtype('O'), dtype('O'), dtype('O'), dtype('int64'), dtype('int64'), dtype('int64'), dtype('O'), dtype('O')]\n",
      "<class 'pandas.core.frame.DataFrame'>\n",
      "RangeIndex: 1459 entries, 0 to 1458\n",
      "Data columns (total 79 columns):\n",
      " #   Column         Non-Null Count  Dtype  \n",
      "---  ------         --------------  -----  \n",
      " 0   MSSubClass     1459 non-null   int64  \n",
      " 1   MSZoning       1459 non-null   object \n",
      " 2   LotFrontage    1459 non-null   float64\n",
      " 3   LotArea        1459 non-null   int64  \n",
      " 4   Street         1459 non-null   object \n",
      " 5   Alley          1459 non-null   object \n",
      " 6   LotShape       1459 non-null   object \n",
      " 7   LandContour    1459 non-null   object \n",
      " 8   Utilities      1459 non-null   object \n",
      " 9   LotConfig      1459 non-null   object \n",
      " 10  LandSlope      1459 non-null   object \n",
      " 11  Neighborhood   1459 non-null   object \n",
      " 12  Condition1     1459 non-null   object \n",
      " 13  Condition2     1459 non-null   object \n",
      " 14  BldgType       1459 non-null   object \n",
      " 15  HouseStyle     1459 non-null   object \n",
      " 16  OverallQual    1459 non-null   int64  \n",
      " 17  OverallCond    1459 non-null   int64  \n",
      " 18  YearBuilt      1459 non-null   int64  \n",
      " 19  YearRemodAdd   1459 non-null   int64  \n",
      " 20  RoofStyle      1459 non-null   object \n",
      " 21  RoofMatl       1459 non-null   object \n",
      " 22  Exterior1st    1459 non-null   object \n",
      " 23  Exterior2nd    1459 non-null   object \n",
      " 24  MasVnrType     1459 non-null   object \n",
      " 25  MasVnrArea     1459 non-null   float64\n",
      " 26  ExterQual      1459 non-null   object \n",
      " 27  ExterCond      1459 non-null   object \n",
      " 28  Foundation     1459 non-null   object \n",
      " 29  BsmtQual       1459 non-null   object \n",
      " 30  BsmtCond       1459 non-null   object \n",
      " 31  BsmtExposure   1459 non-null   object \n",
      " 32  BsmtFinType1   1459 non-null   object \n",
      " 33  BsmtFinSF1     1459 non-null   int64  \n",
      " 34  BsmtFinType2   1459 non-null   object \n",
      " 35  BsmtFinSF2     1459 non-null   int64  \n",
      " 36  BsmtUnfSF      1459 non-null   int64  \n",
      " 37  TotalBsmtSF    1459 non-null   int64  \n",
      " 38  Heating        1459 non-null   object \n",
      " 39  HeatingQC      1459 non-null   object \n",
      " 40  CentralAir     1459 non-null   object \n",
      " 41  Electrical     1459 non-null   object \n",
      " 42  1stFlrSF       1459 non-null   int64  \n",
      " 43  2ndFlrSF       1459 non-null   int64  \n",
      " 44  LowQualFinSF   1459 non-null   int64  \n",
      " 45  GrLivArea      1459 non-null   int64  \n",
      " 46  BsmtFullBath   1459 non-null   int64  \n",
      " 47  BsmtHalfBath   1459 non-null   int64  \n",
      " 48  FullBath       1459 non-null   int64  \n",
      " 49  HalfBath       1459 non-null   int64  \n",
      " 50  BedroomAbvGr   1459 non-null   int64  \n",
      " 51  KitchenAbvGr   1459 non-null   int64  \n",
      " 52  KitchenQual    1459 non-null   object \n",
      " 53  TotRmsAbvGrd   1459 non-null   int64  \n",
      " 54  Functional     1459 non-null   object \n",
      " 55  Fireplaces     1459 non-null   int64  \n",
      " 56  FireplaceQu    1459 non-null   object \n",
      " 57  GarageType     1459 non-null   object \n",
      " 58  GarageYrBlt    1459 non-null   float64\n",
      " 59  GarageFinish   1459 non-null   object \n",
      " 60  GarageCars     1459 non-null   int64  \n",
      " 61  GarageArea     1459 non-null   int64  \n",
      " 62  GarageQual     1459 non-null   object \n",
      " 63  GarageCond     1459 non-null   object \n",
      " 64  PavedDrive     1459 non-null   object \n",
      " 65  WoodDeckSF     1459 non-null   int64  \n",
      " 66  OpenPorchSF    1459 non-null   int64  \n",
      " 67  EnclosedPorch  1459 non-null   int64  \n",
      " 68  3SsnPorch      1459 non-null   int64  \n",
      " 69  ScreenPorch    1459 non-null   int64  \n",
      " 70  PoolArea       1459 non-null   int64  \n",
      " 71  PoolQC         1459 non-null   object \n",
      " 72  Fence          1459 non-null   object \n",
      " 73  MiscFeature    1459 non-null   object \n",
      " 74  MiscVal        1459 non-null   int64  \n",
      " 75  MoSold         1459 non-null   int64  \n",
      " 76  YrSold         1459 non-null   int64  \n",
      " 77  SaleType       1459 non-null   object \n",
      " 78  SaleCondition  1459 non-null   object \n",
      "dtypes: float64(3), int64(33), object(43)\n",
      "memory usage: 900.6+ KB\n"
     ]
    }
   ],
   "source": [
    "test_types = pd.DataFrame(test.dtypes)\n",
    "test_types = list(test_types[0])\n",
    "print(test_types)\n",
    "\n",
    "test.info()"
   ]
  },
  {
   "cell_type": "code",
   "execution_count": 21,
   "metadata": {},
   "outputs": [
    {
     "name": "stdout",
     "output_type": "stream",
     "text": [
      "same\n"
     ]
    }
   ],
   "source": [
    "if test_types==train_types:\n",
    "    print('same')\n",
    "else:\n",
    "    print('no')"
   ]
  },
  {
   "cell_type": "code",
   "execution_count": null,
   "metadata": {},
   "outputs": [],
   "source": []
  },
  {
   "cell_type": "code",
   "execution_count": 22,
   "metadata": {},
   "outputs": [],
   "source": [
    " #test.iloc[:,0].astype(np.float64)"
   ]
  },
  {
   "cell_type": "code",
   "execution_count": 23,
   "metadata": {},
   "outputs": [],
   "source": [
    "#X_train, X_test, y_train, y_test = train_test_split(X, y, test_size=0.2, random_state=1)\n",
    "\n",
    "#X_train, X_val, y_train, y_val = train_test_split(X_train, y_train, test_size=0.25, random_state=1) # 0.25 x 0.8 = 0.2"
   ]
  },
  {
   "cell_type": "code",
   "execution_count": 24,
   "metadata": {},
   "outputs": [],
   "source": [
    "X_train, X_val, y_train, y_val = train_test_split(X, y, test_size=0.2, random_state=1)"
   ]
  },
  {
   "cell_type": "code",
   "execution_count": 25,
   "metadata": {},
   "outputs": [
    {
     "data": {
      "text/html": [
       "<div>\n",
       "<style scoped>\n",
       "    .dataframe tbody tr th:only-of-type {\n",
       "        vertical-align: middle;\n",
       "    }\n",
       "\n",
       "    .dataframe tbody tr th {\n",
       "        vertical-align: top;\n",
       "    }\n",
       "\n",
       "    .dataframe thead th {\n",
       "        text-align: right;\n",
       "    }\n",
       "</style>\n",
       "<table border=\"1\" class=\"dataframe\">\n",
       "  <thead>\n",
       "    <tr style=\"text-align: right;\">\n",
       "      <th></th>\n",
       "      <th>MSSubClass</th>\n",
       "      <th>MSZoning</th>\n",
       "      <th>LotFrontage</th>\n",
       "      <th>LotArea</th>\n",
       "      <th>Street</th>\n",
       "      <th>Alley</th>\n",
       "      <th>LotShape</th>\n",
       "      <th>LandContour</th>\n",
       "      <th>Utilities</th>\n",
       "      <th>LotConfig</th>\n",
       "      <th>...</th>\n",
       "      <th>ScreenPorch</th>\n",
       "      <th>PoolArea</th>\n",
       "      <th>PoolQC</th>\n",
       "      <th>Fence</th>\n",
       "      <th>MiscFeature</th>\n",
       "      <th>MiscVal</th>\n",
       "      <th>MoSold</th>\n",
       "      <th>YrSold</th>\n",
       "      <th>SaleType</th>\n",
       "      <th>SaleCondition</th>\n",
       "    </tr>\n",
       "  </thead>\n",
       "  <tbody>\n",
       "    <tr>\n",
       "      <th>921</th>\n",
       "      <td>90</td>\n",
       "      <td>RL</td>\n",
       "      <td>67.0</td>\n",
       "      <td>8777</td>\n",
       "      <td>Pave</td>\n",
       "      <td>-999</td>\n",
       "      <td>Reg</td>\n",
       "      <td>Lvl</td>\n",
       "      <td>AllPub</td>\n",
       "      <td>Inside</td>\n",
       "      <td>...</td>\n",
       "      <td>0</td>\n",
       "      <td>0</td>\n",
       "      <td>-999</td>\n",
       "      <td>GdPrv</td>\n",
       "      <td>-999</td>\n",
       "      <td>0</td>\n",
       "      <td>9</td>\n",
       "      <td>2008</td>\n",
       "      <td>WD</td>\n",
       "      <td>Normal</td>\n",
       "    </tr>\n",
       "    <tr>\n",
       "      <th>520</th>\n",
       "      <td>190</td>\n",
       "      <td>RL</td>\n",
       "      <td>60.0</td>\n",
       "      <td>10800</td>\n",
       "      <td>Pave</td>\n",
       "      <td>Grvl</td>\n",
       "      <td>Reg</td>\n",
       "      <td>Lvl</td>\n",
       "      <td>AllPub</td>\n",
       "      <td>Inside</td>\n",
       "      <td>...</td>\n",
       "      <td>0</td>\n",
       "      <td>0</td>\n",
       "      <td>-999</td>\n",
       "      <td>-999</td>\n",
       "      <td>-999</td>\n",
       "      <td>0</td>\n",
       "      <td>8</td>\n",
       "      <td>2008</td>\n",
       "      <td>WD</td>\n",
       "      <td>Normal</td>\n",
       "    </tr>\n",
       "    <tr>\n",
       "      <th>401</th>\n",
       "      <td>20</td>\n",
       "      <td>RL</td>\n",
       "      <td>65.0</td>\n",
       "      <td>8767</td>\n",
       "      <td>Pave</td>\n",
       "      <td>-999</td>\n",
       "      <td>IR1</td>\n",
       "      <td>Lvl</td>\n",
       "      <td>AllPub</td>\n",
       "      <td>Inside</td>\n",
       "      <td>...</td>\n",
       "      <td>0</td>\n",
       "      <td>0</td>\n",
       "      <td>-999</td>\n",
       "      <td>-999</td>\n",
       "      <td>-999</td>\n",
       "      <td>0</td>\n",
       "      <td>7</td>\n",
       "      <td>2006</td>\n",
       "      <td>New</td>\n",
       "      <td>Partial</td>\n",
       "    </tr>\n",
       "    <tr>\n",
       "      <th>280</th>\n",
       "      <td>60</td>\n",
       "      <td>RL</td>\n",
       "      <td>82.0</td>\n",
       "      <td>11287</td>\n",
       "      <td>Pave</td>\n",
       "      <td>-999</td>\n",
       "      <td>Reg</td>\n",
       "      <td>Lvl</td>\n",
       "      <td>AllPub</td>\n",
       "      <td>Inside</td>\n",
       "      <td>...</td>\n",
       "      <td>0</td>\n",
       "      <td>0</td>\n",
       "      <td>-999</td>\n",
       "      <td>-999</td>\n",
       "      <td>-999</td>\n",
       "      <td>0</td>\n",
       "      <td>1</td>\n",
       "      <td>2007</td>\n",
       "      <td>WD</td>\n",
       "      <td>Normal</td>\n",
       "    </tr>\n",
       "    <tr>\n",
       "      <th>1401</th>\n",
       "      <td>60</td>\n",
       "      <td>RL</td>\n",
       "      <td>62.0</td>\n",
       "      <td>7415</td>\n",
       "      <td>Pave</td>\n",
       "      <td>-999</td>\n",
       "      <td>IR1</td>\n",
       "      <td>Lvl</td>\n",
       "      <td>AllPub</td>\n",
       "      <td>Inside</td>\n",
       "      <td>...</td>\n",
       "      <td>0</td>\n",
       "      <td>0</td>\n",
       "      <td>-999</td>\n",
       "      <td>-999</td>\n",
       "      <td>-999</td>\n",
       "      <td>0</td>\n",
       "      <td>4</td>\n",
       "      <td>2008</td>\n",
       "      <td>WD</td>\n",
       "      <td>Normal</td>\n",
       "    </tr>\n",
       "    <tr>\n",
       "      <th>...</th>\n",
       "      <td>...</td>\n",
       "      <td>...</td>\n",
       "      <td>...</td>\n",
       "      <td>...</td>\n",
       "      <td>...</td>\n",
       "      <td>...</td>\n",
       "      <td>...</td>\n",
       "      <td>...</td>\n",
       "      <td>...</td>\n",
       "      <td>...</td>\n",
       "      <td>...</td>\n",
       "      <td>...</td>\n",
       "      <td>...</td>\n",
       "      <td>...</td>\n",
       "      <td>...</td>\n",
       "      <td>...</td>\n",
       "      <td>...</td>\n",
       "      <td>...</td>\n",
       "      <td>...</td>\n",
       "      <td>...</td>\n",
       "      <td>...</td>\n",
       "    </tr>\n",
       "    <tr>\n",
       "      <th>715</th>\n",
       "      <td>20</td>\n",
       "      <td>RL</td>\n",
       "      <td>78.0</td>\n",
       "      <td>10140</td>\n",
       "      <td>Pave</td>\n",
       "      <td>-999</td>\n",
       "      <td>Reg</td>\n",
       "      <td>Lvl</td>\n",
       "      <td>AllPub</td>\n",
       "      <td>Inside</td>\n",
       "      <td>...</td>\n",
       "      <td>0</td>\n",
       "      <td>0</td>\n",
       "      <td>-999</td>\n",
       "      <td>MnPrv</td>\n",
       "      <td>-999</td>\n",
       "      <td>0</td>\n",
       "      <td>8</td>\n",
       "      <td>2009</td>\n",
       "      <td>WD</td>\n",
       "      <td>Normal</td>\n",
       "    </tr>\n",
       "    <tr>\n",
       "      <th>905</th>\n",
       "      <td>20</td>\n",
       "      <td>RL</td>\n",
       "      <td>80.0</td>\n",
       "      <td>9920</td>\n",
       "      <td>Pave</td>\n",
       "      <td>-999</td>\n",
       "      <td>Reg</td>\n",
       "      <td>Lvl</td>\n",
       "      <td>AllPub</td>\n",
       "      <td>Inside</td>\n",
       "      <td>...</td>\n",
       "      <td>0</td>\n",
       "      <td>0</td>\n",
       "      <td>-999</td>\n",
       "      <td>MnPrv</td>\n",
       "      <td>-999</td>\n",
       "      <td>0</td>\n",
       "      <td>2</td>\n",
       "      <td>2010</td>\n",
       "      <td>WD</td>\n",
       "      <td>Normal</td>\n",
       "    </tr>\n",
       "    <tr>\n",
       "      <th>1096</th>\n",
       "      <td>70</td>\n",
       "      <td>RM</td>\n",
       "      <td>60.0</td>\n",
       "      <td>6882</td>\n",
       "      <td>Pave</td>\n",
       "      <td>-999</td>\n",
       "      <td>Reg</td>\n",
       "      <td>Lvl</td>\n",
       "      <td>AllPub</td>\n",
       "      <td>Inside</td>\n",
       "      <td>...</td>\n",
       "      <td>0</td>\n",
       "      <td>0</td>\n",
       "      <td>-999</td>\n",
       "      <td>-999</td>\n",
       "      <td>-999</td>\n",
       "      <td>0</td>\n",
       "      <td>3</td>\n",
       "      <td>2007</td>\n",
       "      <td>WD</td>\n",
       "      <td>Normal</td>\n",
       "    </tr>\n",
       "    <tr>\n",
       "      <th>235</th>\n",
       "      <td>160</td>\n",
       "      <td>RM</td>\n",
       "      <td>21.0</td>\n",
       "      <td>1680</td>\n",
       "      <td>Pave</td>\n",
       "      <td>-999</td>\n",
       "      <td>Reg</td>\n",
       "      <td>Lvl</td>\n",
       "      <td>AllPub</td>\n",
       "      <td>Inside</td>\n",
       "      <td>...</td>\n",
       "      <td>0</td>\n",
       "      <td>0</td>\n",
       "      <td>-999</td>\n",
       "      <td>-999</td>\n",
       "      <td>-999</td>\n",
       "      <td>0</td>\n",
       "      <td>8</td>\n",
       "      <td>2008</td>\n",
       "      <td>WD</td>\n",
       "      <td>Normal</td>\n",
       "    </tr>\n",
       "    <tr>\n",
       "      <th>1061</th>\n",
       "      <td>30</td>\n",
       "      <td>C (all)</td>\n",
       "      <td>120.0</td>\n",
       "      <td>18000</td>\n",
       "      <td>Grvl</td>\n",
       "      <td>-999</td>\n",
       "      <td>Reg</td>\n",
       "      <td>Low</td>\n",
       "      <td>AllPub</td>\n",
       "      <td>Inside</td>\n",
       "      <td>...</td>\n",
       "      <td>0</td>\n",
       "      <td>0</td>\n",
       "      <td>-999</td>\n",
       "      <td>-999</td>\n",
       "      <td>Shed</td>\n",
       "      <td>560</td>\n",
       "      <td>8</td>\n",
       "      <td>2008</td>\n",
       "      <td>ConLD</td>\n",
       "      <td>Normal</td>\n",
       "    </tr>\n",
       "  </tbody>\n",
       "</table>\n",
       "<p>1168 rows × 79 columns</p>\n",
       "</div>"
      ],
      "text/plain": [
       "      MSSubClass MSZoning  LotFrontage  LotArea Street Alley LotShape  \\\n",
       "921           90       RL         67.0     8777   Pave  -999      Reg   \n",
       "520          190       RL         60.0    10800   Pave  Grvl      Reg   \n",
       "401           20       RL         65.0     8767   Pave  -999      IR1   \n",
       "280           60       RL         82.0    11287   Pave  -999      Reg   \n",
       "1401          60       RL         62.0     7415   Pave  -999      IR1   \n",
       "...          ...      ...          ...      ...    ...   ...      ...   \n",
       "715           20       RL         78.0    10140   Pave  -999      Reg   \n",
       "905           20       RL         80.0     9920   Pave  -999      Reg   \n",
       "1096          70       RM         60.0     6882   Pave  -999      Reg   \n",
       "235          160       RM         21.0     1680   Pave  -999      Reg   \n",
       "1061          30  C (all)        120.0    18000   Grvl  -999      Reg   \n",
       "\n",
       "     LandContour Utilities LotConfig  ... ScreenPorch PoolArea PoolQC  Fence  \\\n",
       "921          Lvl    AllPub    Inside  ...           0        0   -999  GdPrv   \n",
       "520          Lvl    AllPub    Inside  ...           0        0   -999   -999   \n",
       "401          Lvl    AllPub    Inside  ...           0        0   -999   -999   \n",
       "280          Lvl    AllPub    Inside  ...           0        0   -999   -999   \n",
       "1401         Lvl    AllPub    Inside  ...           0        0   -999   -999   \n",
       "...          ...       ...       ...  ...         ...      ...    ...    ...   \n",
       "715          Lvl    AllPub    Inside  ...           0        0   -999  MnPrv   \n",
       "905          Lvl    AllPub    Inside  ...           0        0   -999  MnPrv   \n",
       "1096         Lvl    AllPub    Inside  ...           0        0   -999   -999   \n",
       "235          Lvl    AllPub    Inside  ...           0        0   -999   -999   \n",
       "1061         Low    AllPub    Inside  ...           0        0   -999   -999   \n",
       "\n",
       "     MiscFeature MiscVal  MoSold  YrSold  SaleType  SaleCondition  \n",
       "921         -999       0       9    2008        WD         Normal  \n",
       "520         -999       0       8    2008        WD         Normal  \n",
       "401         -999       0       7    2006       New        Partial  \n",
       "280         -999       0       1    2007        WD         Normal  \n",
       "1401        -999       0       4    2008        WD         Normal  \n",
       "...          ...     ...     ...     ...       ...            ...  \n",
       "715         -999       0       8    2009        WD         Normal  \n",
       "905         -999       0       2    2010        WD         Normal  \n",
       "1096        -999       0       3    2007        WD         Normal  \n",
       "235         -999       0       8    2008        WD         Normal  \n",
       "1061        Shed     560       8    2008     ConLD         Normal  \n",
       "\n",
       "[1168 rows x 79 columns]"
      ]
     },
     "execution_count": 25,
     "metadata": {},
     "output_type": "execute_result"
    }
   ],
   "source": [
    "X_train"
   ]
  },
  {
   "cell_type": "code",
   "execution_count": 26,
   "metadata": {},
   "outputs": [],
   "source": [
    "#train, validate, test = np.split(df.sample(frac=1), [int(.6*len(df)), int(.8*len(df))])"
   ]
  },
  {
   "cell_type": "code",
   "execution_count": 27,
   "metadata": {
    "scrolled": true
   },
   "outputs": [
    {
     "name": "stdout",
     "output_type": "stream",
     "text": [
      "<class 'pandas.core.frame.DataFrame'>\n",
      "Int64Index: 1168 entries, 921 to 1061\n",
      "Data columns (total 79 columns):\n",
      " #   Column         Non-Null Count  Dtype  \n",
      "---  ------         --------------  -----  \n",
      " 0   MSSubClass     1168 non-null   int64  \n",
      " 1   MSZoning       1168 non-null   object \n",
      " 2   LotFrontage    1168 non-null   float64\n",
      " 3   LotArea        1168 non-null   int64  \n",
      " 4   Street         1168 non-null   object \n",
      " 5   Alley          1168 non-null   object \n",
      " 6   LotShape       1168 non-null   object \n",
      " 7   LandContour    1168 non-null   object \n",
      " 8   Utilities      1168 non-null   object \n",
      " 9   LotConfig      1168 non-null   object \n",
      " 10  LandSlope      1168 non-null   object \n",
      " 11  Neighborhood   1168 non-null   object \n",
      " 12  Condition1     1168 non-null   object \n",
      " 13  Condition2     1168 non-null   object \n",
      " 14  BldgType       1168 non-null   object \n",
      " 15  HouseStyle     1168 non-null   object \n",
      " 16  OverallQual    1168 non-null   int64  \n",
      " 17  OverallCond    1168 non-null   int64  \n",
      " 18  YearBuilt      1168 non-null   int64  \n",
      " 19  YearRemodAdd   1168 non-null   int64  \n",
      " 20  RoofStyle      1168 non-null   object \n",
      " 21  RoofMatl       1168 non-null   object \n",
      " 22  Exterior1st    1168 non-null   object \n",
      " 23  Exterior2nd    1168 non-null   object \n",
      " 24  MasVnrType     1168 non-null   object \n",
      " 25  MasVnrArea     1168 non-null   float64\n",
      " 26  ExterQual      1168 non-null   object \n",
      " 27  ExterCond      1168 non-null   object \n",
      " 28  Foundation     1168 non-null   object \n",
      " 29  BsmtQual       1168 non-null   object \n",
      " 30  BsmtCond       1168 non-null   object \n",
      " 31  BsmtExposure   1168 non-null   object \n",
      " 32  BsmtFinType1   1168 non-null   object \n",
      " 33  BsmtFinSF1     1168 non-null   int64  \n",
      " 34  BsmtFinType2   1168 non-null   object \n",
      " 35  BsmtFinSF2     1168 non-null   int64  \n",
      " 36  BsmtUnfSF      1168 non-null   int64  \n",
      " 37  TotalBsmtSF    1168 non-null   int64  \n",
      " 38  Heating        1168 non-null   object \n",
      " 39  HeatingQC      1168 non-null   object \n",
      " 40  CentralAir     1168 non-null   object \n",
      " 41  Electrical     1168 non-null   object \n",
      " 42  1stFlrSF       1168 non-null   int64  \n",
      " 43  2ndFlrSF       1168 non-null   int64  \n",
      " 44  LowQualFinSF   1168 non-null   int64  \n",
      " 45  GrLivArea      1168 non-null   int64  \n",
      " 46  BsmtFullBath   1168 non-null   int64  \n",
      " 47  BsmtHalfBath   1168 non-null   int64  \n",
      " 48  FullBath       1168 non-null   int64  \n",
      " 49  HalfBath       1168 non-null   int64  \n",
      " 50  BedroomAbvGr   1168 non-null   int64  \n",
      " 51  KitchenAbvGr   1168 non-null   int64  \n",
      " 52  KitchenQual    1168 non-null   object \n",
      " 53  TotRmsAbvGrd   1168 non-null   int64  \n",
      " 54  Functional     1168 non-null   object \n",
      " 55  Fireplaces     1168 non-null   int64  \n",
      " 56  FireplaceQu    1168 non-null   object \n",
      " 57  GarageType     1168 non-null   object \n",
      " 58  GarageYrBlt    1168 non-null   float64\n",
      " 59  GarageFinish   1168 non-null   object \n",
      " 60  GarageCars     1168 non-null   int64  \n",
      " 61  GarageArea     1168 non-null   int64  \n",
      " 62  GarageQual     1168 non-null   object \n",
      " 63  GarageCond     1168 non-null   object \n",
      " 64  PavedDrive     1168 non-null   object \n",
      " 65  WoodDeckSF     1168 non-null   int64  \n",
      " 66  OpenPorchSF    1168 non-null   int64  \n",
      " 67  EnclosedPorch  1168 non-null   int64  \n",
      " 68  3SsnPorch      1168 non-null   int64  \n",
      " 69  ScreenPorch    1168 non-null   int64  \n",
      " 70  PoolArea       1168 non-null   int64  \n",
      " 71  PoolQC         1168 non-null   object \n",
      " 72  Fence          1168 non-null   object \n",
      " 73  MiscFeature    1168 non-null   object \n",
      " 74  MiscVal        1168 non-null   int64  \n",
      " 75  MoSold         1168 non-null   int64  \n",
      " 76  YrSold         1168 non-null   int64  \n",
      " 77  SaleType       1168 non-null   object \n",
      " 78  SaleCondition  1168 non-null   object \n",
      "dtypes: float64(3), int64(33), object(43)\n",
      "memory usage: 730.0+ KB\n"
     ]
    }
   ],
   "source": [
    "X_train.info()"
   ]
  },
  {
   "cell_type": "code",
   "execution_count": 28,
   "metadata": {},
   "outputs": [],
   "source": [
    "#X_train['TotalBsmtSF'] = X_train['TotalBsmtSF'].astype(np.float64)\n",
    "#X_train['GarageCars'] = X_train['GarageCars'].astype(np.float64)\n",
    "#X_train['GarageArea'] = X_train['GarageArea'].astype(np.float64)\n",
    "\n",
    "#X_train.info()"
   ]
  },
  {
   "cell_type": "code",
   "execution_count": 29,
   "metadata": {},
   "outputs": [
    {
     "data": {
      "text/plain": [
       "array([ 1,  4,  5,  6,  7,  8,  9, 10, 11, 12, 13, 14, 15, 20, 21, 22, 23,\n",
       "       24, 26, 27, 28, 29, 30, 31, 32, 34, 38, 39, 40, 41, 52, 54, 56, 57,\n",
       "       59, 62, 63, 64, 71, 72, 73, 77, 78], dtype=int64)"
      ]
     },
     "execution_count": 29,
     "metadata": {},
     "output_type": "execute_result"
    }
   ],
   "source": [
    "cat_features_index = np.where(X.dtypes == object)[0]\n",
    "cat_features_index"
   ]
  },
  {
   "cell_type": "code",
   "execution_count": 30,
   "metadata": {},
   "outputs": [
    {
     "data": {
      "text/plain": [
       "array([ 1,  4,  5,  6,  7,  8,  9, 10, 11, 12, 13, 14, 15, 20, 21, 22, 23,\n",
       "       24, 26, 27, 28, 29, 30, 31, 32, 34, 38, 39, 40, 41, 52, 54, 56, 57,\n",
       "       59, 62, 63, 64, 71, 72, 73, 77, 78], dtype=int64)"
      ]
     },
     "execution_count": 30,
     "metadata": {},
     "output_type": "execute_result"
    }
   ],
   "source": [
    "test_cat_features_index = np.where(test.dtypes == object)[0]\n",
    "test_cat_features_index"
   ]
  },
  {
   "cell_type": "code",
   "execution_count": 31,
   "metadata": {},
   "outputs": [
    {
     "data": {
      "text/plain": [
       "(43,)"
      ]
     },
     "execution_count": 31,
     "metadata": {},
     "output_type": "execute_result"
    }
   ],
   "source": [
    "test_cat_features_index.shape\n",
    "cat_features_index.shape"
   ]
  },
  {
   "cell_type": "code",
   "execution_count": 32,
   "metadata": {},
   "outputs": [
    {
     "data": {
      "text/plain": [
       "\"cat_features = train.select_dtypes(include=['object'])\\ncat_features = cat_features.columns\\ncat_features\""
      ]
     },
     "execution_count": 32,
     "metadata": {},
     "output_type": "execute_result"
    }
   ],
   "source": [
    "'''cat_features = train.select_dtypes(include=['object'])\n",
    "cat_features = cat_features.columns\n",
    "cat_features'''"
   ]
  },
  {
   "cell_type": "code",
   "execution_count": 33,
   "metadata": {
    "colab": {},
    "colab_type": "code",
    "id": "48aXcEzc6NQP"
   },
   "outputs": [],
   "source": [
    "cb = CatBoostRegressor(random_state = 1, \n",
    "                              loss_function=\"RMSE\", verbose=200)"
   ]
  },
  {
   "cell_type": "code",
   "execution_count": 34,
   "metadata": {
    "colab": {
     "base_uri": "https://localhost:8080/",
     "height": 1000,
     "referenced_widgets": [
      "1ca597be3cd14fd7b9b8d3fa59b05082",
      "b4130936992d4fc3a434cbce5f096a95"
     ]
    },
    "colab_type": "code",
    "id": "kmU3OQJY535k",
    "outputId": "1eba57a8-6e0f-457d-b3d8-a340164837d9",
    "scrolled": false
   },
   "outputs": [
    {
     "data": {
      "application/vnd.jupyter.widget-view+json": {
       "model_id": "0f32a0b2221244e88505008794a0bd91",
       "version_major": 2,
       "version_minor": 0
      },
      "text/plain": [
       "MetricVisualizer(layout=Layout(align_self='stretch', height='500px'))"
      ]
     },
     "metadata": {},
     "output_type": "display_data"
    },
    {
     "name": "stderr",
     "output_type": "stream",
     "text": [
      "You should provide test set for use best model. use_best_model parameter has been switched to false value.\n"
     ]
    },
    {
     "name": "stdout",
     "output_type": "stream",
     "text": [
      "Learning rate set to 0.043466\n",
      "0:\tlearn: 77406.5902174\ttotal: 192ms\tremaining: 3m 11s\n",
      "200:\tlearn: 17382.0334957\ttotal: 8.1s\tremaining: 32.2s\n",
      "400:\tlearn: 13987.8771670\ttotal: 15.5s\tremaining: 23.2s\n",
      "600:\tlearn: 11748.5381586\ttotal: 23.2s\tremaining: 15.4s\n",
      "800:\tlearn: 10061.1352845\ttotal: 31.4s\tremaining: 7.8s\n",
      "999:\tlearn: 8749.7350005\ttotal: 39s\tremaining: 0us\n"
     ]
    },
    {
     "data": {
      "text/plain": [
       "<catboost.core.CatBoostRegressor at 0x19f5e8d23d0>"
      ]
     },
     "execution_count": 34,
     "metadata": {},
     "output_type": "execute_result"
    }
   ],
   "source": [
    "cb.fit(X, y, plot=True, use_best_model=True,#eval_set=(X_val, y_val),\n",
    "       cat_features=cat_features_index)"
   ]
  },
  {
   "cell_type": "code",
   "execution_count": 35,
   "metadata": {
    "scrolled": true
   },
   "outputs": [],
   "source": [
    "train_pred = cb.predict(X)\n",
    "y_pred = cb.predict(test)\n",
    "#val_pred = cb.predict(X_val)"
   ]
  },
  {
   "cell_type": "code",
   "execution_count": 36,
   "metadata": {},
   "outputs": [],
   "source": [
    "#report(y_test,y_pred)"
   ]
  },
  {
   "cell_type": "code",
   "execution_count": 37,
   "metadata": {},
   "outputs": [],
   "source": [
    "#report(y_val,val_pred)"
   ]
  },
  {
   "cell_type": "code",
   "execution_count": 38,
   "metadata": {},
   "outputs": [
    {
     "name": "stdout",
     "output_type": "stream",
     "text": [
      "Mean Absolute Error:     7785.79174294471\n",
      "Mean Squared Error:      115431646.49543525\n",
      "Root Mean Squared Error: 10743.912066628023\n",
      "R Squared:               0.9816972386289302\n"
     ]
    }
   ],
   "source": [
    "report(y,train_pred)"
   ]
  },
  {
   "cell_type": "code",
   "execution_count": 39,
   "metadata": {},
   "outputs": [
    {
     "data": {
      "text/plain": [
       "array([2.72561947e-01, 4.95233419e-01, 6.99235848e-01, 2.99947095e+00,\n",
       "       6.72699576e-03, 5.88012178e-02, 7.06521719e-01, 7.38147500e-01,\n",
       "       0.00000000e+00, 1.50504540e-01, 1.38901706e-01, 4.05241448e+00,\n",
       "       2.51053452e-01, 9.30918987e-03, 1.34998284e-01, 8.96231316e-02,\n",
       "       1.87952806e+01, 1.54054190e+00, 1.44745349e+00, 4.10634204e-01,\n",
       "       1.64004941e-01, 1.93917211e-02, 3.24763278e-01, 7.14385256e-02,\n",
       "       3.50936327e-01, 5.36324937e-01, 1.32439584e+00, 8.00621455e-02,\n",
       "       3.88228558e-02, 2.12479841e+00, 4.73394382e-02, 9.83764348e-01,\n",
       "       9.23147462e-01, 3.60155457e+00, 7.97627833e-03, 1.07335985e-01,\n",
       "       3.33456659e-01, 7.22328693e+00, 6.33425671e-02, 6.84036668e-01,\n",
       "       1.94701978e-01, 4.38955134e-02, 3.61699745e+00, 1.33189689e+00,\n",
       "       2.90279738e-02, 1.55741724e+01, 7.84651873e-01, 4.22748009e-02,\n",
       "       1.79443729e+00, 1.16041484e+00, 5.13126831e-01, 4.70855664e-02,\n",
       "       4.10161080e+00, 1.57754222e+00, 2.04876028e-01, 1.97023304e+00,\n",
       "       8.79898472e-01, 3.79254511e-01, 8.65886708e-01, 1.85498040e+00,\n",
       "       4.63967471e+00, 2.12029533e+00, 2.47275986e-02, 7.28191955e-02,\n",
       "       7.23460568e-02, 3.47400307e-01, 1.17542989e+00, 5.44912622e-02,\n",
       "       8.78797128e-02, 2.94902039e-01, 6.64265671e-02, 3.49528740e-02,\n",
       "       3.57793118e-02, 8.00707508e-02, 8.37420834e-02, 4.09768003e-01,\n",
       "       1.61444592e-01, 2.77443661e-01, 9.85845984e-01])"
      ]
     },
     "execution_count": 39,
     "metadata": {},
     "output_type": "execute_result"
    }
   ],
   "source": [
    "cb.get_feature_importance()"
   ]
  },
  {
   "cell_type": "code",
   "execution_count": 40,
   "metadata": {},
   "outputs": [
    {
     "data": {
      "text/html": [
       "<div>\n",
       "<style scoped>\n",
       "    .dataframe tbody tr th:only-of-type {\n",
       "        vertical-align: middle;\n",
       "    }\n",
       "\n",
       "    .dataframe tbody tr th {\n",
       "        vertical-align: top;\n",
       "    }\n",
       "\n",
       "    .dataframe thead th {\n",
       "        text-align: right;\n",
       "    }\n",
       "</style>\n",
       "<table border=\"1\" class=\"dataframe\">\n",
       "  <thead>\n",
       "    <tr style=\"text-align: right;\">\n",
       "      <th></th>\n",
       "      <th>Feature</th>\n",
       "      <th>Feature Importance</th>\n",
       "    </tr>\n",
       "  </thead>\n",
       "  <tbody>\n",
       "    <tr>\n",
       "      <th>16</th>\n",
       "      <td>OverallQual</td>\n",
       "      <td>18.795281</td>\n",
       "    </tr>\n",
       "    <tr>\n",
       "      <th>45</th>\n",
       "      <td>GrLivArea</td>\n",
       "      <td>15.574172</td>\n",
       "    </tr>\n",
       "    <tr>\n",
       "      <th>37</th>\n",
       "      <td>TotalBsmtSF</td>\n",
       "      <td>7.223287</td>\n",
       "    </tr>\n",
       "    <tr>\n",
       "      <th>60</th>\n",
       "      <td>GarageCars</td>\n",
       "      <td>4.639675</td>\n",
       "    </tr>\n",
       "    <tr>\n",
       "      <th>52</th>\n",
       "      <td>KitchenQual</td>\n",
       "      <td>4.101611</td>\n",
       "    </tr>\n",
       "    <tr>\n",
       "      <th>...</th>\n",
       "      <td>...</td>\n",
       "      <td>...</td>\n",
       "    </tr>\n",
       "    <tr>\n",
       "      <th>21</th>\n",
       "      <td>RoofMatl</td>\n",
       "      <td>0.019392</td>\n",
       "    </tr>\n",
       "    <tr>\n",
       "      <th>13</th>\n",
       "      <td>Condition2</td>\n",
       "      <td>0.009309</td>\n",
       "    </tr>\n",
       "    <tr>\n",
       "      <th>34</th>\n",
       "      <td>BsmtFinType2</td>\n",
       "      <td>0.007976</td>\n",
       "    </tr>\n",
       "    <tr>\n",
       "      <th>4</th>\n",
       "      <td>Street</td>\n",
       "      <td>0.006727</td>\n",
       "    </tr>\n",
       "    <tr>\n",
       "      <th>8</th>\n",
       "      <td>Utilities</td>\n",
       "      <td>0.000000</td>\n",
       "    </tr>\n",
       "  </tbody>\n",
       "</table>\n",
       "<p>79 rows × 2 columns</p>\n",
       "</div>"
      ],
      "text/plain": [
       "         Feature  Feature Importance\n",
       "16   OverallQual           18.795281\n",
       "45     GrLivArea           15.574172\n",
       "37   TotalBsmtSF            7.223287\n",
       "60    GarageCars            4.639675\n",
       "52   KitchenQual            4.101611\n",
       "..           ...                 ...\n",
       "21      RoofMatl            0.019392\n",
       "13    Condition2            0.009309\n",
       "34  BsmtFinType2            0.007976\n",
       "4         Street            0.006727\n",
       "8      Utilities            0.000000\n",
       "\n",
       "[79 rows x 2 columns]"
      ]
     },
     "execution_count": 40,
     "metadata": {},
     "output_type": "execute_result"
    }
   ],
   "source": [
    "feat_importance = [col for col in zip(train.columns,cb.get_feature_importance() )]\n",
    "feat_importance_df = pd.DataFrame(feat_importance, columns=['Feature','Feature Importance'])\n",
    "feat_importance_df = feat_importance_df.sort_values('Feature Importance', ascending = False)\n",
    "feat_importance_df"
   ]
  },
  {
   "cell_type": "code",
   "execution_count": 41,
   "metadata": {},
   "outputs": [
    {
     "data": {
      "text/html": [
       "<div>\n",
       "<style scoped>\n",
       "    .dataframe tbody tr th:only-of-type {\n",
       "        vertical-align: middle;\n",
       "    }\n",
       "\n",
       "    .dataframe tbody tr th {\n",
       "        vertical-align: top;\n",
       "    }\n",
       "\n",
       "    .dataframe thead th {\n",
       "        text-align: right;\n",
       "    }\n",
       "</style>\n",
       "<table border=\"1\" class=\"dataframe\">\n",
       "  <thead>\n",
       "    <tr style=\"text-align: right;\">\n",
       "      <th></th>\n",
       "      <th>Id</th>\n",
       "      <th>SalePrice</th>\n",
       "    </tr>\n",
       "  </thead>\n",
       "  <tbody>\n",
       "    <tr>\n",
       "      <th>0</th>\n",
       "      <td>1461</td>\n",
       "      <td>118660.134867</td>\n",
       "    </tr>\n",
       "    <tr>\n",
       "      <th>1</th>\n",
       "      <td>1462</td>\n",
       "      <td>163669.502462</td>\n",
       "    </tr>\n",
       "    <tr>\n",
       "      <th>2</th>\n",
       "      <td>1463</td>\n",
       "      <td>195153.371279</td>\n",
       "    </tr>\n",
       "    <tr>\n",
       "      <th>3</th>\n",
       "      <td>1464</td>\n",
       "      <td>195345.737586</td>\n",
       "    </tr>\n",
       "    <tr>\n",
       "      <th>4</th>\n",
       "      <td>1465</td>\n",
       "      <td>190364.177228</td>\n",
       "    </tr>\n",
       "    <tr>\n",
       "      <th>...</th>\n",
       "      <td>...</td>\n",
       "      <td>...</td>\n",
       "    </tr>\n",
       "    <tr>\n",
       "      <th>1454</th>\n",
       "      <td>2915</td>\n",
       "      <td>83560.350593</td>\n",
       "    </tr>\n",
       "    <tr>\n",
       "      <th>1455</th>\n",
       "      <td>2916</td>\n",
       "      <td>83752.510181</td>\n",
       "    </tr>\n",
       "    <tr>\n",
       "      <th>1456</th>\n",
       "      <td>2917</td>\n",
       "      <td>164378.607144</td>\n",
       "    </tr>\n",
       "    <tr>\n",
       "      <th>1457</th>\n",
       "      <td>2918</td>\n",
       "      <td>116925.792769</td>\n",
       "    </tr>\n",
       "    <tr>\n",
       "      <th>1458</th>\n",
       "      <td>2919</td>\n",
       "      <td>209216.960531</td>\n",
       "    </tr>\n",
       "  </tbody>\n",
       "</table>\n",
       "<p>1459 rows × 2 columns</p>\n",
       "</div>"
      ],
      "text/plain": [
       "        Id      SalePrice\n",
       "0     1461  118660.134867\n",
       "1     1462  163669.502462\n",
       "2     1463  195153.371279\n",
       "3     1464  195345.737586\n",
       "4     1465  190364.177228\n",
       "...    ...            ...\n",
       "1454  2915   83560.350593\n",
       "1455  2916   83752.510181\n",
       "1456  2917  164378.607144\n",
       "1457  2918  116925.792769\n",
       "1458  2919  209216.960531\n",
       "\n",
       "[1459 rows x 2 columns]"
      ]
     },
     "execution_count": 41,
     "metadata": {},
     "output_type": "execute_result"
    }
   ],
   "source": [
    "cb_baseline = pd.DataFrame(test_ids, columns=['Id'])\n",
    "cb_baseline['SalePrice'] = y_pred\n",
    "cb_baseline"
   ]
  },
  {
   "cell_type": "code",
   "execution_count": 42,
   "metadata": {},
   "outputs": [],
   "source": [
    "#cb_baseline.to_csv(\"cb_baseline_all_features_all_train.csv\",index=False)"
   ]
  },
  {
   "cell_type": "code",
   "execution_count": null,
   "metadata": {},
   "outputs": [],
   "source": []
  }
 ],
 "metadata": {
  "accelerator": "GPU",
  "colab": {
   "collapsed_sections": [],
   "name": "CatBoost.ipynb",
   "provenance": []
  },
  "kernelspec": {
   "display_name": "Python 3",
   "language": "python",
   "name": "python3"
  },
  "language_info": {
   "codemirror_mode": {
    "name": "ipython",
    "version": 3
   },
   "file_extension": ".py",
   "mimetype": "text/x-python",
   "name": "python",
   "nbconvert_exporter": "python",
   "pygments_lexer": "ipython3",
   "version": "3.8.8"
  },
  "widgets": {
   "application/vnd.jupyter.widget-state+json": {
    "1ca597be3cd14fd7b9b8d3fa59b05082": {
     "model_module": "@jupyter-widgets/base",
     "model_name": "DOMWidgetModel",
     "state": {
      "_dom_classes": [],
      "_model_module": "@jupyter-widgets/base",
      "_model_module_version": "1.2.0",
      "_model_name": "DOMWidgetModel",
      "_view_count": null,
      "_view_module": "catboost_module",
      "_view_module_version": "",
      "_view_name": "CatboostIpythonWidgetView",
      "data": {
       "catboost_info": {
        "content": {
         "data": {
          "iterations": [
           {
            "iteration": 0,
            "learn": [
             0.8571428571,
             0.643387175
            ],
            "passed_time": 0.009083215488,
            "remaining_time": 0.8992383333,
            "test": [
             0.7885304659,
             0.6527852777
            ]
           },
           {
            "iteration": 1,
            "learn": [
             0.8553259141,
             0.6085837705
            ],
            "passed_time": 0.01584797324,
            "remaining_time": 0.7765506886,
            "test": [
             0.8275862069,
             0.6192689341
            ]
           },
           {
            "iteration": 2,
            "learn": [
             0.8562300319,
             0.583708603
            ],
            "passed_time": 0.02364400155,
            "remaining_time": 0.7644893833,
            "test": [
             0.8251748252,
             0.5972166766
            ]
           },
           {
            "iteration": 3,
            "learn": [
             0.8576,
             0.5631626621
            ],
            "passed_time": 0.03145231407,
            "remaining_time": 0.7548555376,
            "test": [
             0.8309859155,
             0.5824761602
            ]
           },
           {
            "iteration": 4,
            "learn": [
             0.8557692308,
             0.5474409117
            ],
            "passed_time": 0.03879072871,
            "remaining_time": 0.7370238456,
            "test": [
             0.8309859155,
             0.5735188376
            ]
           },
           {
            "iteration": 5,
            "learn": [
             0.8539325843,
             0.5358822862
            ],
            "passed_time": 0.04412060876,
            "remaining_time": 0.6912228706,
            "test": [
             0.8339222615,
             0.5646922295
            ]
           },
           {
            "iteration": 6,
            "learn": [
             0.8520900322,
             0.5242538267
            ],
            "passed_time": 0.05175453924,
            "remaining_time": 0.6875960213,
            "test": [
             0.8309859155,
             0.558824962
            ]
           },
           {
            "iteration": 7,
            "learn": [
             0.8502415459,
             0.5186191382
            ],
            "passed_time": 0.05837411174,
            "remaining_time": 0.671302285,
            "test": [
             0.8398576512,
             0.5529298078
            ]
           },
           {
            "iteration": 8,
            "learn": [
             0.8520900322,
             0.5140275422
            ],
            "passed_time": 0.06603964951,
            "remaining_time": 0.6677342339,
            "test": [
             0.8309859155,
             0.5531666197
            ]
           },
           {
            "iteration": 9,
            "learn": [
             0.8520900322,
             0.5106442491
            ],
            "passed_time": 0.07083484533,
            "remaining_time": 0.637513608,
            "test": [
             0.8368794326,
             0.5491005282
            ]
           },
           {
            "iteration": 10,
            "learn": [
             0.8520900322,
             0.5051686828
            ],
            "passed_time": 0.078182905,
            "remaining_time": 0.6325707768,
            "test": [
             0.8309859155,
             0.5489542919
            ]
           },
           {
            "iteration": 11,
            "learn": [
             0.8539325843,
             0.5000729155
            ],
            "passed_time": 0.08639725515,
            "remaining_time": 0.6335798711,
            "test": [
             0.8309859155,
             0.5488109119
            ]
           },
           {
            "iteration": 12,
            "learn": [
             0.8557692308,
             0.4962211293
            ],
            "passed_time": 0.09406626909,
            "remaining_time": 0.6295204162,
            "test": [
             0.8251748252,
             0.5492360533
            ]
           },
           {
            "iteration": 13,
            "learn": [
             0.8557692308,
             0.4941055409
            ],
            "passed_time": 0.137532822,
            "remaining_time": 0.8448444783,
            "test": [
             0.8251748252,
             0.5464304656
            ]
           },
           {
            "iteration": 14,
            "learn": [
             0.8557692308,
             0.4918320185
            ],
            "passed_time": 0.1513945882,
            "remaining_time": 0.8579026663,
            "test": [
             0.8251748252,
             0.5468528635
            ]
           },
           {
            "iteration": 15,
            "learn": [
             0.8576,
             0.4884362882
            ],
            "passed_time": 0.1591059792,
            "remaining_time": 0.8353063909,
            "test": [
             0.8251748252,
             0.5464728595
            ]
           },
           {
            "iteration": 16,
            "learn": [
             0.8576,
             0.4861620975
            ],
            "passed_time": 0.1673090826,
            "remaining_time": 0.8168619915,
            "test": [
             0.8309859155,
             0.545926888
            ]
           },
           {
            "iteration": 17,
            "learn": [
             0.8576,
             0.4842252337
            ],
            "passed_time": 0.1747414056,
            "remaining_time": 0.796044181,
            "test": [
             0.8251748252,
             0.5483816363
            ]
           },
           {
            "iteration": 18,
            "learn": [
             0.8576,
             0.4817596213
            ],
            "passed_time": 0.1821352555,
            "remaining_time": 0.7764713523,
            "test": [
             0.8280701754,
             0.5468905219
            ]
           },
           {
            "iteration": 19,
            "learn": [
             0.8594249201,
             0.4769060641
            ],
            "passed_time": 0.189842086,
            "remaining_time": 0.759368344,
            "test": [
             0.8280701754,
             0.5472555677
            ]
           },
           {
            "iteration": 20,
            "learn": [
             0.8612440191,
             0.4721568309
            ],
            "passed_time": 0.202526298,
            "remaining_time": 0.761884645,
            "test": [
             0.8309859155,
             0.5501227919
            ]
           },
           {
            "iteration": 21,
            "learn": [
             0.8612440191,
             0.4672140228
            ],
            "passed_time": 0.2100559973,
            "remaining_time": 0.7447439904,
            "test": [
             0.8280701754,
             0.5501764608
            ]
           },
           {
            "iteration": 22,
            "learn": [
             0.8612440191,
             0.464732966
            ],
            "passed_time": 0.2175390472,
            "remaining_time": 0.7282828971,
            "test": [
             0.8309859155,
             0.550110427
            ]
           },
           {
            "iteration": 23,
            "learn": [
             0.8580542265,
             0.4600090528
            ],
            "passed_time": 0.2248735835,
            "remaining_time": 0.712099681,
            "test": [
             0.8309859155,
             0.5492843853
            ]
           },
           {
            "iteration": 24,
            "learn": [
             0.8594249201,
             0.4596015949
            ],
            "passed_time": 0.2302051353,
            "remaining_time": 0.6906154059,
            "test": [
             0.8309859155,
             0.5483043652
            ]
           },
           {
            "iteration": 25,
            "learn": [
             0.8612440191,
             0.4578640977
            ],
            "passed_time": 0.2375530484,
            "remaining_time": 0.6761125225,
            "test": [
             0.8309859155,
             0.5478673475
            ]
           },
           {
            "iteration": 26,
            "learn": [
             0.8594249201,
             0.4556180114
            ],
            "passed_time": 0.2454389563,
            "remaining_time": 0.6635942152,
            "test": [
             0.8309859155,
             0.5468218197
            ]
           },
           {
            "iteration": 27,
            "learn": [
             0.8580542265,
             0.4520890359
            ],
            "passed_time": 0.252966879,
            "remaining_time": 0.6504862603,
            "test": [
             0.8280701754,
             0.5456567774
            ]
           },
           {
            "iteration": 28,
            "learn": [
             0.8630573248,
             0.4498143997
            ],
            "passed_time": 0.2604640797,
            "remaining_time": 0.6376879192,
            "test": [
             0.8280701754,
             0.5431110025
            ]
           },
           {
            "iteration": 29,
            "learn": [
             0.8630573248,
             0.4475620762
            ],
            "passed_time": 0.2680729948,
            "remaining_time": 0.6255036544,
            "test": [
             0.8280701754,
             0.5438456042
            ]
           },
           {
            "iteration": 30,
            "learn": [
             0.8598726115,
             0.4447837514
            ],
            "passed_time": 0.2753985156,
            "remaining_time": 0.6129837928,
            "test": [
             0.8280701754,
             0.5460085563
            ]
           },
           {
            "iteration": 31,
            "learn": [
             0.8598726115,
             0.4408894931
            ],
            "passed_time": 0.2831154146,
            "remaining_time": 0.6016202561,
            "test": [
             0.8280701754,
             0.5492174496
            ]
           },
           {
            "iteration": 32,
            "learn": [
             0.8598726115,
             0.4391978466
            ],
            "passed_time": 0.29143779,
            "remaining_time": 0.5917070282,
            "test": [
             0.8251748252,
             0.5480037746
            ]
           },
           {
            "iteration": 33,
            "learn": [
             0.8612440191,
             0.4376400022
            ],
            "passed_time": 0.2993096927,
            "remaining_time": 0.581012933,
            "test": [
             0.8251748252,
             0.5486942911
            ]
           },
           {
            "iteration": 34,
            "learn": [
             0.8612440191,
             0.4359179123
            ],
            "passed_time": 0.3067011882,
            "remaining_time": 0.569587921,
            "test": [
             0.8251748252,
             0.5482443072
            ]
           },
           {
            "iteration": 35,
            "learn": [
             0.8666666667,
             0.4316447831
            ],
            "passed_time": 0.3144522211,
            "remaining_time": 0.5590261709,
            "test": [
             0.8222996516,
             0.5485028798
            ]
           },
           {
            "iteration": 36,
            "learn": [
             0.8648648649,
             0.4278185768
            ],
            "passed_time": 0.3218832593,
            "remaining_time": 0.5480714956,
            "test": [
             0.8222996516,
             0.5509330486
            ]
           },
           {
            "iteration": 37,
            "learn": [
             0.8648648649,
             0.4245084962
            ],
            "passed_time": 0.3293657948,
            "remaining_time": 0.5373862968,
            "test": [
             0.8235294118,
             0.5478620106
            ]
           },
           {
            "iteration": 38,
            "learn": [
             0.8684627575,
             0.4229277451
            ],
            "passed_time": 0.3370815047,
            "remaining_time": 0.5272300458,
            "test": [
             0.8235294118,
             0.5498662112
            ]
           },
           {
            "iteration": 39,
            "learn": [
             0.8666666667,
             0.4212210996
            ],
            "passed_time": 0.3445214744,
            "remaining_time": 0.5167822116,
            "test": [
             0.8194444444,
             0.5501265502
            ]
           },
           {
            "iteration": 40,
            "learn": [
             0.8680445151,
             0.4181279092
            ],
            "passed_time": 0.3521361283,
            "remaining_time": 0.5067324773,
            "test": [
             0.8235294118,
             0.5503331076
            ]
           },
           {
            "iteration": 41,
            "learn": [
             0.8698412698,
             0.4164474376
            ],
            "passed_time": 0.359713784,
            "remaining_time": 0.4967476064,
            "test": [
             0.8235294118,
             0.5510516989
            ]
           },
           {
            "iteration": 42,
            "learn": [
             0.8698412698,
             0.4136482851
            ],
            "passed_time": 0.3671626495,
            "remaining_time": 0.4867039773,
            "test": [
             0.8235294118,
             0.5502871809
            ]
           },
           {
            "iteration": 43,
            "learn": [
             0.873015873,
             0.4108964683
            ],
            "passed_time": 0.3744634428,
            "remaining_time": 0.4765898363,
            "test": [
             0.8166089965,
             0.5521222194
            ]
           },
           {
            "iteration": 44,
            "learn": [
             0.873015873,
             0.4087972154
            ],
            "passed_time": 0.3819161185,
            "remaining_time": 0.4667863671,
            "test": [
             0.8166089965,
             0.5518554537
            ]
           },
           {
            "iteration": 45,
            "learn": [
             0.8761904762,
             0.4064099017
            ],
            "passed_time": 0.3892413294,
            "remaining_time": 0.4569354736,
            "test": [
             0.8235294118,
             0.5528114958
            ]
           },
           {
            "iteration": 46,
            "learn": [
             0.8775834658,
             0.4030367441
            ],
            "passed_time": 0.402267734,
            "remaining_time": 0.4536210617,
            "test": [
             0.8235294118,
             0.5513493204
            ]
           },
           {
            "iteration": 47,
            "learn": [
             0.8775834658,
             0.4018356435
            ],
            "passed_time": 0.4099011936,
            "remaining_time": 0.4440596264,
            "test": [
             0.8137931034,
             0.551525473
            ]
           },
           {
            "iteration": 48,
            "learn": [
             0.8789808917,
             0.4005160367
            ],
            "passed_time": 0.417294023,
            "remaining_time": 0.4343264321,
            "test": [
             0.8194444444,
             0.5528826032
            ]
           },
           {
            "iteration": 49,
            "learn": [
             0.8789808917,
             0.3988542394
            ],
            "passed_time": 0.4248726618,
            "remaining_time": 0.4248726618,
            "test": [
             0.8194444444,
             0.5531408
            ]
           },
           {
            "iteration": 50,
            "learn": [
             0.8803827751,
             0.3965973494
            ],
            "passed_time": 0.4323868459,
            "remaining_time": 0.415430499,
            "test": [
             0.8194444444,
             0.5537181911
            ]
           },
           {
            "iteration": 51,
            "learn": [
             0.8839427663,
             0.3948451133
            ],
            "passed_time": 0.4512518655,
            "remaining_time": 0.4165401835,
            "test": [
             0.8166089965,
             0.5553791441
            ]
           },
           {
            "iteration": 52,
            "learn": [
             0.8835725678,
             0.3917445719
            ],
            "passed_time": 0.4599209249,
            "remaining_time": 0.4078544051,
            "test": [
             0.8166089965,
             0.5556193009
            ]
           },
           {
            "iteration": 53,
            "learn": [
             0.8857142857,
             0.3892844541
            ],
            "passed_time": 0.4673996403,
            "remaining_time": 0.3981552491,
            "test": [
             0.8166089965,
             0.5546596508
            ]
           },
           {
            "iteration": 54,
            "learn": [
             0.8857142857,
             0.3877204839
            ],
            "passed_time": 0.4748460084,
            "remaining_time": 0.3885103705,
            "test": [
             0.8166089965,
             0.555554545
            ]
           },
           {
            "iteration": 55,
            "learn": [
             0.8871224165,
             0.386018702
            ],
            "passed_time": 0.482211755,
            "remaining_time": 0.3788806647,
            "test": [
             0.8166089965,
             0.5556536895
            ]
           },
           {
            "iteration": 56,
            "learn": [
             0.8885350318,
             0.3848901456
            ],
            "passed_time": 0.4904265134,
            "remaining_time": 0.3699708786,
            "test": [
             0.8194444444,
             0.5574700116
            ]
           },
           {
            "iteration": 57,
            "learn": [
             0.8899521531,
             0.3840698836
            ],
            "passed_time": 0.4980852758,
            "remaining_time": 0.3606824411,
            "test": [
             0.8194444444,
             0.5576416542
            ]
           },
           {
            "iteration": 58,
            "learn": [
             0.8885350318,
             0.3816513841
            ],
            "passed_time": 0.5056822054,
            "remaining_time": 0.3514062783,
            "test": [
             0.8137931034,
             0.5577386565
            ]
           },
           {
            "iteration": 59,
            "learn": [
             0.8899521531,
             0.3807543827
            ],
            "passed_time": 0.5131434943,
            "remaining_time": 0.3420956629,
            "test": [
             0.8137931034,
             0.5581030634
            ]
           },
           {
            "iteration": 60,
            "learn": [
             0.8899521531,
             0.3787213625
            ],
            "passed_time": 0.5204658125,
            "remaining_time": 0.3327568309,
            "test": [
             0.8137931034,
             0.5583718586
            ]
           },
           {
            "iteration": 61,
            "learn": [
             0.8931419458,
             0.3775609149
            ],
            "passed_time": 0.5279731286,
            "remaining_time": 0.3235964337,
            "test": [
             0.8166089965,
             0.5585014456
            ]
           },
           {
            "iteration": 62,
            "learn": [
             0.8928,
             0.3761521314
            ],
            "passed_time": 0.5356668579,
            "remaining_time": 0.3145979959,
            "test": [
             0.8166089965,
             0.5592346191
            ]
           },
           {
            "iteration": 63,
            "learn": [
             0.8942307692,
             0.3742220988
            ],
            "passed_time": 0.5434480098,
            "remaining_time": 0.3056895055,
            "test": [
             0.8137931034,
             0.5596657363
            ]
           },
           {
            "iteration": 64,
            "learn": [
             0.896,
             0.3723103693
            ],
            "passed_time": 0.5514982151,
            "remaining_time": 0.2969605774,
            "test": [
             0.8096885813,
             0.559635557
            ]
           },
           {
            "iteration": 65,
            "learn": [
             0.896,
             0.3696010989
            ],
            "passed_time": 0.5592003612,
            "remaining_time": 0.2880729133,
            "test": [
             0.8125,
             0.5610511291
            ]
           },
           {
            "iteration": 66,
            "learn": [
             0.8988764045,
             0.3684210487
            ],
            "passed_time": 0.5664473801,
            "remaining_time": 0.2789964708,
            "test": [
             0.8027681661,
             0.5620715512
            ]
           },
           {
            "iteration": 67,
            "learn": [
             0.8985507246,
             0.3663061657
            ],
            "passed_time": 0.5741049503,
            "remaining_time": 0.2701670354,
            "test": [
             0.8083623693,
             0.5619022012
            ]
           },
           {
            "iteration": 68,
            "learn": [
             0.8953301127,
             0.3653655783
            ],
            "passed_time": 0.5818113291,
            "remaining_time": 0.2613934957,
            "test": [
             0.8083623693,
             0.5618971275
            ]
           },
           {
            "iteration": 69,
            "learn": [
             0.8938906752,
             0.3626699703
            ],
            "passed_time": 0.5892843609,
            "remaining_time": 0.2525504404,
            "test": [
             0.8083623693,
             0.5614275251
            ]
           },
           {
            "iteration": 70,
            "learn": [
             0.8924558587,
             0.3619405927
            ],
            "passed_time": 0.6021595767,
            "remaining_time": 0.2459525031,
            "test": [
             0.8083623693,
             0.5617920072
            ]
           },
           {
            "iteration": 71,
            "learn": [
             0.8924558587,
             0.3602685487
            ],
            "passed_time": 0.6097863835,
            "remaining_time": 0.2371391491,
            "test": [
             0.8083623693,
             0.5626416888
            ]
           },
           {
            "iteration": 72,
            "learn": [
             0.8924558587,
             0.3597002981
            ],
            "passed_time": 0.6325880943,
            "remaining_time": 0.233970939,
            "test": [
             0.8083623693,
             0.5625481065
            ]
           },
           {
            "iteration": 73,
            "learn": [
             0.8956661316,
             0.3585029472
            ],
            "passed_time": 0.6399243997,
            "remaining_time": 0.2248383026,
            "test": [
             0.8083623693,
             0.5638084975
            ]
           },
           {
            "iteration": 74,
            "learn": [
             0.8956661316,
             0.3580608878
            ],
            "passed_time": 0.6472183672,
            "remaining_time": 0.2157394557,
            "test": [
             0.8083623693,
             0.5638233429
            ]
           },
           {
            "iteration": 75,
            "learn": [
             0.8956661316,
             0.3569435435
            ],
            "passed_time": 0.6544999605,
            "remaining_time": 0.206684198,
            "test": [
             0.8083623693,
             0.5628146843
            ]
           },
           {
            "iteration": 76,
            "learn": [
             0.8956661316,
             0.3562111216
            ],
            "passed_time": 0.662285289,
            "remaining_time": 0.1978254759,
            "test": [
             0.8083623693,
             0.5627445916
            ]
           },
           {
            "iteration": 77,
            "learn": [
             0.8985507246,
             0.3542824256
            ],
            "passed_time": 0.6699856071,
            "remaining_time": 0.1889702994,
            "test": [
             0.8055555556,
             0.5618920538
            ]
           },
           {
            "iteration": 78,
            "learn": [
             0.8985507246,
             0.3528677019
            ],
            "passed_time": 0.6779485673,
            "remaining_time": 0.1802141761,
            "test": [
             0.8055555556,
             0.562502706
            ]
           },
           {
            "iteration": 79,
            "learn": [
             0.9003215434,
             0.3520141008
            ],
            "passed_time": 0.6855559245,
            "remaining_time": 0.1713889811,
            "test": [
             0.8083623693,
             0.5628635801
            ]
           },
           {
            "iteration": 80,
            "learn": [
             0.9,
             0.350844483
            ],
            "passed_time": 0.6932382284,
            "remaining_time": 0.1626114363,
            "test": [
             0.8083623693,
             0.5634486006
            ]
           },
           {
            "iteration": 81,
            "learn": [
             0.9038461538,
             0.3483908252
            ],
            "passed_time": 0.7008305518,
            "remaining_time": 0.1538408528,
            "test": [
             0.8083623693,
             0.564670356
            ]
           },
           {
            "iteration": 82,
            "learn": [
             0.9099678457,
             0.3472053546
            ],
            "passed_time": 0.7083339465,
            "remaining_time": 0.1450804469,
            "test": [
             0.8083623693,
             0.5635376352
            ]
           },
           {
            "iteration": 83,
            "learn": [
             0.9143780291,
             0.3457252521
            ],
            "passed_time": 0.7157009557,
            "remaining_time": 0.1363239916,
            "test": [
             0.8055555556,
             0.5635361695
            ]
           },
           {
            "iteration": 84,
            "learn": [
             0.9143780291,
             0.3444635619
            ],
            "passed_time": 0.7229640386,
            "remaining_time": 0.1275818892,
            "test": [
             0.8055555556,
             0.5655418358
            ]
           },
           {
            "iteration": 85,
            "learn": [
             0.9143780291,
             0.3432250383
            ],
            "passed_time": 0.7303222298,
            "remaining_time": 0.1188896653,
            "test": [
             0.8055555556,
             0.5651807362
            ]
           },
           {
            "iteration": 86,
            "learn": [
             0.9143780291,
             0.3425951213
            ],
            "passed_time": 0.73814597,
            "remaining_time": 0.1102976737,
            "test": [
             0.8055555556,
             0.5665423013
            ]
           },
           {
            "iteration": 87,
            "learn": [
             0.9143780291,
             0.3413471305
            ],
            "passed_time": 0.7456233507,
            "remaining_time": 0.1016759115,
            "test": [
             0.8013937282,
             0.5666089739
            ]
           },
           {
            "iteration": 88,
            "learn": [
             0.9158576052,
             0.3404111468
            ],
            "passed_time": 0.7571243702,
            "remaining_time": 0.09357716935,
            "test": [
             0.8013937282,
             0.5671341619
            ]
           },
           {
            "iteration": 89,
            "learn": [
             0.9158576052,
             0.3392596465
            ],
            "passed_time": 0.7772194212,
            "remaining_time": 0.08635771347,
            "test": [
             0.8013937282,
             0.566622128
            ]
           },
           {
            "iteration": 90,
            "learn": [
             0.9158576052,
             0.3387427411
            ],
            "passed_time": 0.7846252749,
            "remaining_time": 0.07760030191,
            "test": [
             0.8055555556,
             0.5661734971
            ]
           },
           {
            "iteration": 91,
            "learn": [
             0.9129032258,
             0.3375667377
            ],
            "passed_time": 0.7924959359,
            "remaining_time": 0.06891269008,
            "test": [
             0.8013937282,
             0.566857399
            ]
           },
           {
            "iteration": 92,
            "learn": [
             0.9129032258,
             0.3359966046
            ],
            "passed_time": 0.8047489593,
            "remaining_time": 0.06057250231,
            "test": [
             0.8055555556,
             0.5674751921
            ]
           },
           {
            "iteration": 93,
            "learn": [
             0.9129032258,
             0.3350145846
            ],
            "passed_time": 0.8122052046,
            "remaining_time": 0.0518428854,
            "test": [
             0.8055555556,
             0.5671877931
            ]
           },
           {
            "iteration": 94,
            "learn": [
             0.9129032258,
             0.3331896928
            ],
            "passed_time": 0.8197550456,
            "remaining_time": 0.0431450024,
            "test": [
             0.8055555556,
             0.565943375
            ]
           },
           {
            "iteration": 95,
            "learn": [
             0.9143780291,
             0.3318649255
            ],
            "passed_time": 0.8272342898,
            "remaining_time": 0.03446809541,
            "test": [
             0.8055555556,
             0.5657128019
            ]
           },
           {
            "iteration": 96,
            "learn": [
             0.9143780291,
             0.3305913178
            ],
            "passed_time": 0.8347285264,
            "remaining_time": 0.02581634618,
            "test": [
             0.8055555556,
             0.566067099
            ]
           },
           {
            "iteration": 97,
            "learn": [
             0.9143780291,
             0.329530108
            ],
            "passed_time": 0.8423019737,
            "remaining_time": 0.0171898362,
            "test": [
             0.8055555556,
             0.5661128754
            ]
           },
           {
            "iteration": 98,
            "learn": [
             0.9143780291,
             0.3281957622
            ],
            "passed_time": 0.8495945829,
            "remaining_time": 0.008581763464,
            "test": [
             0.8055555556,
             0.5668514609
            ]
           },
           {
            "iteration": 99,
            "learn": [
             0.9143780291,
             0.3270095862
            ],
            "passed_time": 0.8568995994,
            "remaining_time": 0,
            "test": [
             0.8055555556,
             0.5679107816
            ]
           }
          ],
          "meta": {
           "iteration_count": 100,
           "launch_mode": "Train",
           "learn_metrics": [
            {
             "best_value": "Max",
             "name": "F1"
            },
            {
             "best_value": "Min",
             "name": "Logloss"
            }
           ],
           "learn_sets": [
            "learn"
           ],
           "name": "experiment",
           "parameters": "",
           "test_metrics": [
            {
             "best_value": "Max",
             "name": "F1"
            },
            {
             "best_value": "Min",
             "name": "Logloss"
            }
           ],
           "test_sets": [
            "test"
           ]
          }
         },
         "passed_iterations": 99,
         "total_iterations": 100
        },
        "name": "catboost_info",
        "path": "catboost_info"
       }
      },
      "layout": "IPY_MODEL_b4130936992d4fc3a434cbce5f096a95"
     }
    },
    "b4130936992d4fc3a434cbce5f096a95": {
     "model_module": "@jupyter-widgets/base",
     "model_name": "LayoutModel",
     "state": {
      "_model_module": "@jupyter-widgets/base",
      "_model_module_version": "1.2.0",
      "_model_name": "LayoutModel",
      "_view_count": null,
      "_view_module": "@jupyter-widgets/base",
      "_view_module_version": "1.2.0",
      "_view_name": "LayoutView",
      "align_content": null,
      "align_items": null,
      "align_self": "stretch",
      "border": null,
      "bottom": null,
      "display": null,
      "flex": null,
      "flex_flow": null,
      "grid_area": null,
      "grid_auto_columns": null,
      "grid_auto_flow": null,
      "grid_auto_rows": null,
      "grid_column": null,
      "grid_gap": null,
      "grid_row": null,
      "grid_template_areas": null,
      "grid_template_columns": null,
      "grid_template_rows": null,
      "height": "500px",
      "justify_content": null,
      "justify_items": null,
      "left": null,
      "margin": null,
      "max_height": null,
      "max_width": null,
      "min_height": null,
      "min_width": null,
      "object_fit": null,
      "object_position": null,
      "order": null,
      "overflow": null,
      "overflow_x": null,
      "overflow_y": null,
      "padding": null,
      "right": null,
      "top": null,
      "visibility": null,
      "width": null
     }
    }
   }
  }
 },
 "nbformat": 4,
 "nbformat_minor": 1
}
